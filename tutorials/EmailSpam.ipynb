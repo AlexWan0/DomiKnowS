{
 "cells": [
  {
   "cell_type": "markdown",
   "metadata": {},
   "source": [
    "# Email Spam detection\n",
    "This tutorial is to show you how to make a very simple learning program that also utilizes gorubi solver to apply constraints on a multiclass classification for two classes `spam` and `regular`"
   ]
  },
  {
   "cell_type": "markdown",
   "metadata": {},
   "source": [
    "## The Graph\n",
    "First we define the graph code that defines the domain knowledge for this problem."
   ]
  },
  {
   "cell_type": "code",
   "execution_count": null,
   "metadata": {},
   "outputs": [],
   "source": [
    "import sys\n",
    "sys.path.append('/home/hfaghihi/Framework/DomiKnowS/')\n",
    "\n",
    "from regr.graph import Graph, Concept # importing basic graph classes\n",
    "from regr.graph.logicalConstrain import orL, andL, notL # importing basic constraint classes\n",
    "\n",
    "Graph.clear()\n",
    "Concept.clear()\n",
    "\n",
    "with Graph('global') as graph:\n",
    "    email = Concept(name='email')\n",
    "\n",
    "    Spam = email(name='spam')\n",
    "\n",
    "    Regular = email(name='regular')\n",
    "\n",
    "    # The constraint of not having regular and spam together\n",
    "    orL(andL(notL(Spam, ('x', )), Regular, ('x', )), andL(notL(Regular, ('x', )), Spam, ('x', )))\n",
    "\n"
   ]
  },
  {
   "cell_type": "markdown",
   "metadata": {},
   "source": [
    "## Data and Data Reader\n",
    "As our data is located in different text files and in different folders, we have to write a reader class that reads this entries into a list of dictionaries in python. Here we use the default Reader class of the Framework.\n"
   ]
  },
  {
   "cell_type": "code",
   "execution_count": 15,
   "metadata": {},
   "outputs": [],
   "source": [
    "import os\n",
    "from regr.data.reader import RegrReader\n",
    "\n",
    "class EmailSpamReader(RegrReader):\n",
    "    def parse_file(self, ):\n",
    "        folder = self.file\n",
    "        data_spam = []\n",
    "        data_ham = []\n",
    "        for file in [f for f in os.listdir(folder + \"/spam\") if os.path.isfile(os.path.join(folder + \"/spam\", f)) and f.endswith('.txt')]:\n",
    "            with open(folder + \"/spam/\" + file, \"r\") as f:\n",
    "                x = []\n",
    "                for i in f:\n",
    "                    x.append(i)\n",
    "            data_spam.append(x)\n",
    "        for file in [f for f in os.listdir(folder + \"/ham\") if os.path.isfile(os.path.join(folder + \"/ham\", f)) and f.endswith('.txt')]:\n",
    "            with open(folder + \"/ham/\" + file, \"r\") as f:\n",
    "                x = []\n",
    "                for i in f:\n",
    "                    x.append(i)\n",
    "            data_ham.append(x)\n",
    "        final_data = []\n",
    "        for dat in data_spam:\n",
    "            item = {'subject': dat[0].split(\":\")[1]}\n",
    "            index = [i for i, v in enumerate(dat) if v.startswith('- - - - - - - - -')]\n",
    "            if len(index):\n",
    "                index = index[0]\n",
    "                item['body'] = \"\".join(dat[1:index])\n",
    "                sub = [(i, v) for i, v in enumerate(dat[index:]) if v.startswith('subject')][0]\n",
    "                item['forward_subject'] = sub[1].split(\":\")[1]\n",
    "                item['forward_body'] = \"\".join(dat[index + sub[0] + 1:])\n",
    "            else:\n",
    "                item['body'] = item['body'] = (\"\").join(dat[1:])\n",
    "            item['label'] = \"spam\"\n",
    "            final_data.append(item)\n",
    "\n",
    "        for dat in data_ham:\n",
    "            item = {'subject': dat[0].split(\":\")[1]}\n",
    "            index = [i for i, v in enumerate(dat) if v.startswith('- - - - - - - - -')]\n",
    "            if len(index):\n",
    "                index = index[0]\n",
    "                item['body'] = \"\".join(dat[1:index])\n",
    "                sub = [(i, v) for i, v in enumerate(dat[index:]) if v.startswith('subject')][0]\n",
    "                item['forward_subject'] = sub[1].split(\":\")[1]\n",
    "                item['forward_body'] = \"\".join(dat[index + sub[0] + 1:])\n",
    "            else:\n",
    "                item['body'] = item['body'] = (\"\").join(dat[1:])\n",
    "            item['label'] = \"ham\"\n",
    "            final_data.append(item)\n",
    "        return final_data\n",
    "\n",
    "    def getSubjectval(self, item):\n",
    "        return item['subject']\n",
    "\n",
    "    def getBodyval(self, item):\n",
    "        return item['body']\n",
    "\n",
    "    def getForwardSubjectval(self, item):\n",
    "        if 'forward_subject' in item:\n",
    "            return item['forward_subject']\n",
    "        else:\n",
    "            return None\n",
    "\n",
    "    def getForwardBodyval(self, item):\n",
    "        if 'forward_body' in item:\n",
    "            return item['forward_body']\n",
    "        else:\n",
    "            return None\n",
    "\n",
    "    def getSpamval(self, item):\n",
    "        if item['label'] == \"spam\":\n",
    "            return [1]\n",
    "        else:\n",
    "            return [0]\n",
    "\n",
    "    def getRegularval(self, item):\n",
    "        if item['label'] == \"ham\":\n",
    "            return [1]\n",
    "        else:\n",
    "            return [0]"
   ]
  },
  {
   "cell_type": "markdown",
   "metadata": {},
   "source": [
    "This class redefines the `parse_file` function to parse data into a list of dictionary and then defines some keywords to be used by `ReaderSensor` later in our program to connect data with our knowledge graph. Next we make an instance of this class on the training samples."
   ]
  },
  {
   "cell_type": "code",
   "execution_count": 16,
   "metadata": {},
   "outputs": [],
   "source": [
    "train_reader = EmailSpamReader(file='/home/hfaghihi/Framework/DomiKnowS/examples/Email_Spam/data/train', type=\"folder\").run()"
   ]
  },
  {
   "cell_type": "markdown",
   "metadata": {},
   "source": [
    "You can check your very first instance by calling `next` and your reader. \n",
    "! Make sure to re-initiate your reader if you do call `next` for test."
   ]
  },
  {
   "cell_type": "code",
   "execution_count": 17,
   "metadata": {},
   "outputs": [
    {
     "name": "stdout",
     "output_type": "stream",
     "text": [
      "{'Body': 'hi ,\\nwe have a new offer for you . buy cheap viagra through our online store .\\n- private online ordering\\n- no prescription required\\n- world wide shipping\\norder your drugs offshore and save over 70 % !\\nclick here : http : / / aamedical . net / meds /\\nbest regards ,\\ndonald cunfingham\\nno thanks : http : / / aamedical . net / rm . html', 'ForwardBody': None, 'ForwardSubject': None, 'Regular': [0], 'Spam': [1], 'Subject': ' buy cheap viagra through us .\\n'}\n"
     ]
    }
   ],
   "source": [
    "print(next(train_reader))\n",
    "train_reader = EmailSpamReader(file='/home/hfaghihi/Framework/DomiKnowS/examples/Email_Spam/data/train', type=\"folder\").run()"
   ]
  },
  {
   "cell_type": "markdown",
   "metadata": {},
   "source": [
    "## Model Declaration\n",
    "Now we start to connect the reader output data with our formatted domain knowledge defined in the graph."
   ]
  },
  {
   "cell_type": "code",
   "execution_count": 18,
   "metadata": {},
   "outputs": [],
   "source": [
    "from regr.sensor.pytorch.sensors import ReaderSensor\n",
    "\n",
    "email['subject'] = ReaderSensor(keyword='Subject')\n",
    "email['body'] = ReaderSensor(keyword=\"Body\")\n",
    "email['forward_subject'] = ReaderSensor(keyword=\"ForwardSubject\")\n",
    "email['forward_body'] = ReaderSensor(keyword=\"ForwardBody\")"
   ]
  },
  {
   "cell_type": "markdown",
   "metadata": {},
   "source": [
    "Next we read the labels for the `spam` and `regular` concepts"
   ]
  },
  {
   "cell_type": "code",
   "execution_count": 19,
   "metadata": {},
   "outputs": [],
   "source": [
    "email[Spam] = ReaderSensor(keyword='Spam', label=True)\n",
    "email[Regular] = ReaderSensor(keyword='Regular', label=True)"
   ]
  },
  {
   "cell_type": "markdown",
   "metadata": {},
   "source": [
    "### Define a new sensor\n",
    "Here we want to use spacy to define a new sensor which gives us an average glove embedding tensor for a sentence"
   ]
  },
  {
   "cell_type": "code",
   "execution_count": 20,
   "metadata": {},
   "outputs": [],
   "source": [
    "from regr.sensor.pytorch.sensors import TorchSensor\n",
    "import spacy\n",
    "from typing import Any\n",
    "import torch\n",
    "\n",
    "class SentenceRepSensor(TorchSensor):\n",
    "    def __init__(self, *pres, edges=None, label=False):\n",
    "        super().__init__(*pres, edges=None, label=False)\n",
    "        self.nlp = spacy.load('en_core_web_lg')\n",
    "\n",
    "    def forward(self,) -> Any:\n",
    "        email = self.nlp(self.inputs[0])\n",
    "        return torch.from_numpy(email.vector)"
   ]
  },
  {
   "cell_type": "markdown",
   "metadata": {},
   "source": [
    "The input to this sensor would be a sentence. You can find the usage of this sensor in the following sections.\n",
    "\n",
    "Next, we want to define a new sensor which gives us a tensor indicating whether the email has a forwarded message or not."
   ]
  },
  {
   "cell_type": "code",
   "execution_count": 21,
   "metadata": {},
   "outputs": [],
   "source": [
    "class ForwardPresenceSensor(TorchSensor):\n",
    "    def forward(self,) -> Any:\n",
    "        if self.inputs[0]:\n",
    "            return torch.ones(1)\n",
    "        else:\n",
    "            return torch.zeros(1)"
   ]
  },
  {
   "cell_type": "markdown",
   "metadata": {},
   "source": [
    "### Connecting new sensors to the graph \n",
    "We connect these sensors to the graph to make new properties on the concept `email`. We want to make new representations on the `subject` and `body` of the email and that why those properties are passed as input to the defined sensors."
   ]
  },
  {
   "cell_type": "code",
   "execution_count": 22,
   "metadata": {},
   "outputs": [],
   "source": [
    "email['subject_rep'] = SentenceRepSensor('subject')\n",
    "email['body_rep'] = SentenceRepSensor('body')\n",
    "email['forward_presence'] = ForwardPresenceSensor('forward_body')"
   ]
  },
  {
   "cell_type": "markdown",
   "metadata": {},
   "source": [
    "### Preparing input features for the learner\n",
    "Now we concatenate all the generated features to make a new property on the graph which will provide input for the classifier of `spam` and `regular` concepts."
   ]
  },
  {
   "cell_type": "code",
   "execution_count": 23,
   "metadata": {},
   "outputs": [],
   "source": [
    "from regr.sensor.pytorch.sensors import ConcatSensor\n",
    "\n",
    "email['features'] = ConcatSensor('subject_rep', 'body_rep', 'forward_presence')"
   ]
  },
  {
   "cell_type": "markdown",
   "metadata": {},
   "source": [
    "### Define the learner\n",
    "Here we define a learner and connect it to the concepts of `spam` and `regular`. This learner is a simple pytorch module of linear neural network."
   ]
  },
  {
   "cell_type": "code",
   "execution_count": 24,
   "metadata": {},
   "outputs": [],
   "source": [
    "from regr.sensor.pytorch.learners import ModuleLearner\n",
    "from torch import nn\n",
    "\n",
    "email[Spam] = ModuleLearner('features', module=nn.Linear(601, 2))\n",
    "email[Regular] = ModuleLearner('features', module=nn.Linear(601, 2))"
   ]
  },
  {
   "cell_type": "markdown",
   "metadata": {},
   "source": [
    "### Make the learning model from the updated graph\n",
    "Here we make an executable version of this graph that is able to trace the dependencies of the sensors and fill the data from the reader to run examples on the declared model."
   ]
  },
  {
   "cell_type": "code",
   "execution_count": 25,
   "metadata": {},
   "outputs": [],
   "source": [
    "from regr.program import LearningBasedProgram\n",
    "from regr.program.model.pytorch import PoiModel\n",
    "\n",
    "program = LearningBasedProgram(graph, PoiModel)"
   ]
  },
  {
   "cell_type": "markdown",
   "metadata": {},
   "source": [
    "## Run the graph\n",
    "Here we use populate to run the graph with the defined data from the reader"
   ]
  },
  {
   "cell_type": "code",
   "execution_count": 26,
   "metadata": {},
   "outputs": [
    {
     "name": "stdout",
     "output_type": "stream",
     "text": [
      "email 0\n",
      "email 0\n",
      "email 0\n",
      "email 0\n",
      "email 0\n",
      "email 0\n",
      "email 0\n",
      "email 0\n",
      "email 0\n",
      "email 0\n"
     ]
    }
   ],
   "source": [
    "for datanode in program.populate(dataset=train_reader, inference=True):\n",
    "    print(datanode)"
   ]
  },
  {
   "cell_type": "code",
   "execution_count": null,
   "metadata": {},
   "outputs": [],
   "source": []
  }
 ],
 "metadata": {
  "kernelspec": {
   "display_name": "Python 3",
   "language": "python",
   "name": "python3"
  },
  "language_info": {
   "codemirror_mode": {
    "name": "ipython",
    "version": 3
   },
   "file_extension": ".py",
   "mimetype": "text/x-python",
   "name": "python",
   "nbconvert_exporter": "python",
   "pygments_lexer": "ipython3",
   "version": "3.7.4"
  }
 },
 "nbformat": 4,
 "nbformat_minor": 4
}
