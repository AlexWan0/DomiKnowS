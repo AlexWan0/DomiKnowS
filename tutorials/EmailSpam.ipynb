{
 "cells": [
  {
   "cell_type": "markdown",
   "metadata": {},
   "source": [
    "# Email Spam detection\n",
    "This tutorial is to show you how to make a very simple learning program that also utilizes gorubi solver to apply constraints on a multiclass classification for two classes `spam` and `regular`"
   ]
  },
  {
   "cell_type": "code",
   "execution_count": 1,
   "metadata": {
    "tags": []
   },
   "outputs": [
    {
     "name": "stdout",
     "output_type": "stream",
     "text": [
      "/home/hfaghihi/Framework/DomiKnowS/tutorials\n"
     ]
    }
   ],
   "source": [
    "import os\n",
    "print(os.getcwd())\n",
    "# Please change the root to an absolute or relative path to DomiKnowS root.\n",
    "# In case relative path is used, consider the printed `CWD` as current working directory.\n",
    "root = '/home/hfaghihi/Framework/DomiKnowS'"
   ]
  },
  {
   "cell_type": "markdown",
   "metadata": {},
   "source": [
    "## The Graph\n",
    "First we define the graph code that defines the domain knowledge for this problem."
   ]
  },
  {
   "cell_type": "code",
   "execution_count": 2,
   "metadata": {
    "tags": []
   },
   "outputs": [
    {
     "name": "stdout",
     "output_type": "stream",
     "text": [
      "Log file for dataNode is in: /home/hfaghihi/Framework/DomiKnowS/tutorials/datanode.log\n"
     ]
    }
   ],
   "source": [
    "import sys\n",
    "sys.path.append(root)\n",
    "\n",
    "from regr.graph import Graph, Concept # importing basic graph classes\n",
    "from regr.graph.logicalConstrain import orL, andL, notL # importing basic constraint classes\n",
    "\n",
    "Graph.clear()\n",
    "Concept.clear()\n",
    "\n",
    "with Graph('example') as graph:\n",
    "    email = Concept(name='email')\n",
    "\n",
    "    Spam = email(name='spam')\n",
    "\n",
    "    Regular = email(name='regular')\n",
    "\n",
    "    # The constraint of not having regular and spam together\n",
    "    orL(andL(notL(Spam), Regular, andL(notL(Regular), Spam)))\n",
    "\n"
   ]
  },
  {
   "cell_type": "markdown",
   "metadata": {},
   "source": [
    "## Data and Data Reader\n",
    "As our data is located in different text files and in different folders, we have to write a reader class that reads this entries into a list of dictionaries in python. Here we use the default Reader class of the Framework.\n"
   ]
  },
  {
   "cell_type": "code",
   "execution_count": 3,
   "metadata": {},
   "outputs": [],
   "source": [
    "import os\n",
    "from regr.data.reader import RegrReader\n",
    "\n",
    "class EmailSpamReader(RegrReader):\n",
    "    def parse_file(self, ):\n",
    "        folder = self.file\n",
    "        data_spam = []\n",
    "        data_ham = []\n",
    "        for file in [f for f in os.listdir(folder + \"/spam\") if os.path.isfile(os.path.join(folder + \"/spam\", f)) and f.endswith('.txt')]:\n",
    "            with open(folder + \"/spam/\" + file, \"r\") as f:\n",
    "                x = []\n",
    "                for i in f:\n",
    "                    x.append(i)\n",
    "            data_spam.append(x)\n",
    "        for file in [f for f in os.listdir(folder + \"/ham\") if os.path.isfile(os.path.join(folder + \"/ham\", f)) and f.endswith('.txt')]:\n",
    "            with open(folder + \"/ham/\" + file, \"r\") as f:\n",
    "                x = []\n",
    "                for i in f:\n",
    "                    x.append(i)\n",
    "            data_ham.append(x)\n",
    "        final_data = []\n",
    "        for dat in data_spam:\n",
    "            item = {'subject': dat[0].split(\":\")[1]}\n",
    "            index = [i for i, v in enumerate(dat) if v.startswith('- - - - - - - - -')]\n",
    "            if len(index):\n",
    "                index = index[0]\n",
    "                item['body'] = \"\".join(dat[1:index])\n",
    "                sub = [(i, v) for i, v in enumerate(dat[index:]) if v.startswith('subject')][0]\n",
    "                item['forward_subject'] = sub[1].split(\":\")[1]\n",
    "                item['forward_body'] = \"\".join(dat[index + sub[0] + 1:])\n",
    "            else:\n",
    "                item['body'] = item['body'] = (\"\").join(dat[1:])\n",
    "            item['label'] = \"spam\"\n",
    "            final_data.append(item)\n",
    "\n",
    "        for dat in data_ham:\n",
    "            item = {'subject': dat[0].split(\":\")[1]}\n",
    "            index = [i for i, v in enumerate(dat) if v.startswith('- - - - - - - - -')]\n",
    "            if len(index):\n",
    "                index = index[0]\n",
    "                item['body'] = \"\".join(dat[1:index])\n",
    "                sub = [(i, v) for i, v in enumerate(dat[index:]) if v.startswith('subject')][0]\n",
    "                item['forward_subject'] = sub[1].split(\":\")[1]\n",
    "                item['forward_body'] = \"\".join(dat[index + sub[0] + 1:])\n",
    "            else:\n",
    "                item['body'] = item['body'] = (\"\").join(dat[1:])\n",
    "            item['label'] = \"ham\"\n",
    "            final_data.append(item)\n",
    "        return final_data\n",
    "\n",
    "    def getSubjectval(self, item):\n",
    "        return item['subject']\n",
    "\n",
    "    def getBodyval(self, item):\n",
    "        return item['body']\n",
    "\n",
    "    def getForwardSubjectval(self, item):\n",
    "        if 'forward_subject' in item:\n",
    "            return item['forward_subject']\n",
    "        else:\n",
    "            return None\n",
    "\n",
    "    def getForwardBodyval(self, item):\n",
    "        if 'forward_body' in item:\n",
    "            return item['forward_body']\n",
    "        else:\n",
    "            return None\n",
    "\n",
    "    def getSpamval(self, item):\n",
    "        if item['label'] == \"spam\":\n",
    "            return [1]\n",
    "        else:\n",
    "            return [0]\n",
    "\n",
    "    def getRegularval(self, item):\n",
    "        if item['label'] == \"ham\":\n",
    "            return [1]\n",
    "        else:\n",
    "            return [0]"
   ]
  },
  {
   "cell_type": "markdown",
   "metadata": {},
   "source": [
    "This class redefines the `parse_file` function to parse data into a list of dictionary and then defines some keywords to be used by `ReaderSensor` later in our program to connect data with our knowledge graph. Next we make an instance of this class on the training samples."
   ]
  },
  {
   "cell_type": "code",
   "execution_count": 4,
   "metadata": {},
   "outputs": [],
   "source": [
    "import os\n",
    "\n",
    "train_reader = EmailSpamReader(file=os.path.join(root, 'examples/Email_Spam/data/train'), type=\"folder\")\n",
    "test_reader = EmailSpamReader(file=os.path.join(root, 'examples/Email_Spam/data/test'), type=\"folder\")"
   ]
  },
  {
   "cell_type": "markdown",
   "metadata": {},
   "source": [
    "You can check your very first instance by calling `next` and your reader. \n",
    "! Make sure to re-initiate your reader if you do call `next` for test."
   ]
  },
  {
   "cell_type": "code",
   "execution_count": 5,
   "metadata": {
    "tags": []
   },
   "outputs": [
    {
     "name": "stdout",
     "output_type": "stream",
     "text": [
      "{'Body': 'hi ,\\nwe have a new offer for you . buy cheap viagra through our online store .\\n- private online ordering\\n- no prescription required\\n- world wide shipping\\norder your drugs offshore and save over 70 % !\\nclick here : http : / / aamedical . net / meds /\\nbest regards ,\\ndonald cunfingham\\nno thanks : http : / / aamedical . net / rm . html', 'ForwardBody': None, 'ForwardSubject': None, 'Regular': [0], 'Spam': [1], 'Subject': ' buy cheap viagra through us .\\n'}\n"
     ]
    }
   ],
   "source": [
    "print(next(iter(train_reader)))"
   ]
  },
  {
   "cell_type": "markdown",
   "metadata": {},
   "source": [
    "## Model Declaration\n",
    "Now we start to connect the reader output data with our formatted domain knowledge defined in the graph."
   ]
  },
  {
   "cell_type": "code",
   "execution_count": 6,
   "metadata": {},
   "outputs": [],
   "source": [
    "from regr.sensor.pytorch.sensors import ReaderSensor\n",
    "\n",
    "email['subject'] = ReaderSensor(keyword='Subject')\n",
    "email['body'] = ReaderSensor(keyword=\"Body\")\n",
    "email['forward_subject'] = ReaderSensor(keyword=\"ForwardSubject\")\n",
    "email['forward_body'] = ReaderSensor(keyword=\"ForwardBody\")"
   ]
  },
  {
   "cell_type": "markdown",
   "metadata": {},
   "source": [
    "Next we read the labels for the `spam` and `regular` concepts"
   ]
  },
  {
   "cell_type": "code",
   "execution_count": 7,
   "metadata": {},
   "outputs": [],
   "source": [
    "email[Spam] = ReaderSensor(keyword='Spam', label=True)\n",
    "email[Regular] = ReaderSensor(keyword='Regular', label=True)"
   ]
  },
  {
   "cell_type": "markdown",
   "metadata": {},
   "source": [
    "### Define a new sensor\n",
    "Here we want to use spacy to define a new sensor which gives us an average glove embedding tensor for a sentence"
   ]
  },
  {
   "cell_type": "code",
   "execution_count": 8,
   "metadata": {},
   "outputs": [],
   "source": [
    "from regr.sensor.pytorch.sensors import TorchSensor\n",
    "import spacy\n",
    "from typing import Any\n",
    "import torch\n",
    "\n",
    "class SentenceRepSensor(TorchSensor):\n",
    "    def __init__(self, *pres, edges=None, label=False):\n",
    "        super().__init__(*pres, edges=None, label=False)\n",
    "        self.nlp = spacy.load('en_core_web_lg')\n",
    "\n",
    "    def forward(self,) -> Any:\n",
    "        email = self.nlp(self.inputs[0])\n",
    "        return torch.from_numpy(email.vector).to(device=self.device)"
   ]
  },
  {
   "cell_type": "markdown",
   "metadata": {},
   "source": [
    "The input to this sensor would be a sentence. You can find the usage of this sensor in the following sections.\n",
    "\n",
    "Next, we want to define a new sensor which gives us a tensor indicating whether the email has a forwarded message or not."
   ]
  },
  {
   "cell_type": "code",
   "execution_count": 9,
   "metadata": {},
   "outputs": [],
   "source": [
    "class ForwardPresenceSensor(TorchSensor):\n",
    "    def forward(self,) -> Any:\n",
    "        if self.inputs[0]:\n",
    "            return torch.ones(1).to(self.device)\n",
    "        else:\n",
    "            return torch.zeros(1).to(self.device)"
   ]
  },
  {
   "cell_type": "markdown",
   "metadata": {},
   "source": [
    "### Connecting new sensors to the graph \n",
    "We connect these sensors to the graph to make new properties on the concept `email`. We want to make new representations on the `subject` and `body` of the email and that why those properties are passed as input to the defined sensors."
   ]
  },
  {
   "cell_type": "code",
   "execution_count": 10,
   "metadata": {},
   "outputs": [],
   "source": [
    "email['subject_rep'] = SentenceRepSensor('subject')\n",
    "email['body_rep'] = SentenceRepSensor('body')\n",
    "email['forward_presence'] = ForwardPresenceSensor('forward_body')"
   ]
  },
  {
   "cell_type": "markdown",
   "metadata": {},
   "source": [
    "### Preparing input features for the learner\n",
    "Now we concatenate all the generated features to make a new property on the graph which will provide input for the classifier of `spam` and `regular` concepts."
   ]
  },
  {
   "cell_type": "code",
   "execution_count": 11,
   "metadata": {},
   "outputs": [],
   "source": [
    "from regr.sensor.pytorch.sensors import ConcatSensor\n",
    "\n",
    "email['features'] = ConcatSensor('subject_rep', 'body_rep', 'forward_presence')"
   ]
  },
  {
   "cell_type": "markdown",
   "metadata": {},
   "source": [
    "### Define the learner\n",
    "Here we define a learner and connect it to the concepts of `spam` and `regular`. This learner is a simple pytorch module of linear neural network."
   ]
  },
  {
   "cell_type": "code",
   "execution_count": 12,
   "metadata": {},
   "outputs": [],
   "source": [
    "from regr.sensor.pytorch.learners import ModuleLearner\n",
    "from torch import nn\n",
    "\n",
    "email[Spam] = ModuleLearner('features', module=nn.Linear(601, 2))\n",
    "email[Regular] = ModuleLearner('features', module=nn.Linear(601, 2))"
   ]
  },
  {
   "cell_type": "markdown",
   "metadata": {},
   "source": [
    "### Make the learning model from the updated graph\n",
    "Here we make an executable version of this graph that is able to trace the dependencies of the sensors and fill the data from the reader to run examples on the declared model."
   ]
  },
  {
   "cell_type": "code",
   "execution_count": 13,
   "metadata": {},
   "outputs": [],
   "source": [
    "from regr.program import LearningBasedProgram\n",
    "from regr.program.model.pytorch import PoiModel\n",
    "from regr.program.metric import MacroAverageTracker, PRF1Tracker\n",
    "from regr.program.loss import NBCrossEntropyLoss\n",
    "\n",
    "program = LearningBasedProgram(graph, PoiModel, loss=MacroAverageTracker(NBCrossEntropyLoss()), metric=PRF1Tracker())"
   ]
  },
  {
   "cell_type": "code",
   "execution_count": 14,
   "metadata": {},
   "outputs": [],
   "source": [
    "# set logger level to see training and testing logs\n",
    "import logging\n",
    "logging.basicConfig(level=logging.INFO)"
   ]
  },
  {
   "cell_type": "code",
   "execution_count": 15,
   "metadata": {
    "tags": []
   },
   "outputs": [
    {
     "name": "stderr",
     "output_type": "stream",
     "text": [
      "INFO:regr.program.program:Epoch: 0\n",
      "INFO:regr.program.program:Training:\n",
      "Epoch 0 Training: 100%|██████████| 10/10 [00:00<00:00, 22.15it/s]\n",
      "INFO:regr.program.program: - loss:\n",
      "INFO:regr.program.program:{'spam': tensor(0.7140), 'regular': tensor(0.7436)}\n",
      "INFO:regr.program.program: - metric:\n",
      "INFO:regr.program.program:{'spam': {'P': tensor(0.4286, device='cuda:0'), 'R': tensor(0.3000, device='cuda:0'), 'F1': tensor(0.3529, device='cuda:0')}, 'regular': {'P': tensor(0.2857, device='cuda:0'), 'R': tensor(0.2000, device='cuda:0'), 'F1': tensor(0.2353, device='cuda:0')}}\n",
      "INFO:regr.program.program:Epoch: 1\n",
      "INFO:regr.program.program:Training:\n",
      "Epoch 1 Training: 100%|██████████| 10/10 [00:00<00:00, 30.14it/s]\n",
      "INFO:regr.program.program: - loss:\n",
      "INFO:regr.program.program:{'spam': tensor(0.5962), 'regular': tensor(0.6237)}\n",
      "INFO:regr.program.program: - metric:\n",
      "INFO:regr.program.program:{'spam': {'P': tensor(0.7500, device='cuda:0'), 'R': tensor(0.6000, device='cuda:0'), 'F1': tensor(0.6667, device='cuda:0')}, 'regular': {'P': tensor(0.7000, device='cuda:0'), 'R': tensor(0.7000, device='cuda:0'), 'F1': tensor(0.7000, device='cuda:0')}}\n",
      "INFO:regr.program.program:Epoch: 2\n",
      "INFO:regr.program.program:Training:\n",
      "Epoch 2 Training: 100%|██████████| 10/10 [00:00<00:00, 30.21it/s]\n",
      "INFO:regr.program.program: - loss:\n",
      "INFO:regr.program.program:{'spam': tensor(0.5258), 'regular': tensor(0.5517)}\n",
      "INFO:regr.program.program: - metric:\n",
      "INFO:regr.program.program:{'spam': {'P': tensor(0.8889, device='cuda:0'), 'R': tensor(0.8000, device='cuda:0'), 'F1': tensor(0.8421, device='cuda:0')}, 'regular': {'P': tensor(0.7778, device='cuda:0'), 'R': tensor(0.7000, device='cuda:0'), 'F1': tensor(0.7368, device='cuda:0')}}\n",
      "INFO:regr.program.program:Epoch: 3\n",
      "INFO:regr.program.program:Training:\n",
      "Epoch 3 Training: 100%|██████████| 10/10 [00:00<00:00, 25.68it/s]\n",
      "INFO:regr.program.program: - loss:\n",
      "INFO:regr.program.program:{'spam': tensor(0.4701), 'regular': tensor(0.4943)}\n",
      "INFO:regr.program.program: - metric:\n",
      "INFO:regr.program.program:{'spam': {'P': tensor(0.9000, device='cuda:0'), 'R': tensor(0.9000, device='cuda:0'), 'F1': tensor(0.9000, device='cuda:0')}, 'regular': {'P': tensor(0.8182, device='cuda:0'), 'R': tensor(0.9000, device='cuda:0'), 'F1': tensor(0.8571, device='cuda:0')}}\n",
      "INFO:regr.program.program:Epoch: 4\n",
      "INFO:regr.program.program:Training:\n",
      "Epoch 4 Training: 100%|██████████| 10/10 [00:00<00:00, 28.81it/s]\n",
      "INFO:regr.program.program: - loss:\n",
      "INFO:regr.program.program:{'spam': tensor(0.4247), 'regular': tensor(0.4471)}\n",
      "INFO:regr.program.program: - metric:\n",
      "INFO:regr.program.program:{'spam': {'P': tensor(0.9000, device='cuda:0'), 'R': tensor(0.9000, device='cuda:0'), 'F1': tensor(0.9000, device='cuda:0')}, 'regular': {'P': tensor(0.9000, device='cuda:0'), 'R': tensor(0.9000, device='cuda:0'), 'F1': tensor(0.9000, device='cuda:0')}}\n",
      "INFO:regr.program.program:Epoch: 5\n",
      "INFO:regr.program.program:Training:\n",
      "Epoch 5 Training: 100%|██████████| 10/10 [00:00<00:00, 24.27it/s]\n",
      "INFO:regr.program.program: - loss:\n",
      "INFO:regr.program.program:{'spam': tensor(0.3868), 'regular': tensor(0.4074)}\n",
      "INFO:regr.program.program: - metric:\n",
      "INFO:regr.program.program:{'spam': {'P': tensor(1., device='cuda:0'), 'R': tensor(0.9000, device='cuda:0'), 'F1': tensor(0.9474, device='cuda:0')}, 'regular': {'P': tensor(1., device='cuda:0'), 'R': tensor(0.9000, device='cuda:0'), 'F1': tensor(0.9474, device='cuda:0')}}\n",
      "INFO:regr.program.program:Epoch: 6\n",
      "INFO:regr.program.program:Training:\n",
      "Epoch 6 Training: 100%|██████████| 10/10 [00:00<00:00, 27.22it/s]\n",
      "INFO:regr.program.program: - loss:\n",
      "INFO:regr.program.program:{'spam': tensor(0.3545), 'regular': tensor(0.3734)}\n",
      "INFO:regr.program.program: - metric:\n",
      "INFO:regr.program.program:{'spam': {'P': tensor(1., device='cuda:0'), 'R': tensor(0.9000, device='cuda:0'), 'F1': tensor(0.9474, device='cuda:0')}, 'regular': {'P': tensor(1., device='cuda:0'), 'R': tensor(0.9000, device='cuda:0'), 'F1': tensor(0.9474, device='cuda:0')}}\n",
      "INFO:regr.program.program:Epoch: 7\n",
      "INFO:regr.program.program:Training:\n",
      "Epoch 7 Training: 100%|██████████| 10/10 [00:00<00:00, 26.19it/s]\n",
      "INFO:regr.program.program: - loss:\n",
      "INFO:regr.program.program:{'spam': tensor(0.3264), 'regular': tensor(0.3438)}\n",
      "INFO:regr.program.program: - metric:\n",
      "INFO:regr.program.program:{'spam': {'P': tensor(1., device='cuda:0'), 'R': tensor(0.9000, device='cuda:0'), 'F1': tensor(0.9474, device='cuda:0')}, 'regular': {'P': tensor(1., device='cuda:0'), 'R': tensor(1., device='cuda:0'), 'F1': tensor(1., device='cuda:0')}}\n",
      "INFO:regr.program.program:Epoch: 8\n",
      "INFO:regr.program.program:Training:\n",
      "Epoch 8 Training: 100%|██████████| 10/10 [00:00<00:00, 27.18it/s]\n",
      "INFO:regr.program.program: - loss:\n",
      "INFO:regr.program.program:{'spam': tensor(0.3018), 'regular': tensor(0.3178)}\n",
      "INFO:regr.program.program: - metric:\n",
      "INFO:regr.program.program:{'spam': {'P': tensor(1., device='cuda:0'), 'R': tensor(0.9000, device='cuda:0'), 'F1': tensor(0.9474, device='cuda:0')}, 'regular': {'P': tensor(1., device='cuda:0'), 'R': tensor(1., device='cuda:0'), 'F1': tensor(1., device='cuda:0')}}\n",
      "INFO:regr.program.program:Epoch: 9\n",
      "INFO:regr.program.program:Training:\n",
      "Epoch 9 Training: 100%|██████████| 10/10 [00:00<00:00, 26.73it/s]\n",
      "INFO:regr.program.program: - loss:\n",
      "INFO:regr.program.program:{'spam': tensor(0.2801), 'regular': tensor(0.2948)}\n",
      "INFO:regr.program.program: - metric:\n",
      "INFO:regr.program.program:{'spam': {'P': tensor(1., device='cuda:0'), 'R': tensor(1., device='cuda:0'), 'F1': tensor(1., device='cuda:0')}, 'regular': {'P': tensor(1., device='cuda:0'), 'R': tensor(1., device='cuda:0'), 'F1': tensor(1., device='cuda:0')}}\n"
     ]
    }
   ],
   "source": [
    "program.train(train_reader, train_epoch_num=10, Optim=torch.optim.Adam, device='auto')\n"
   ]
  },
  {
   "cell_type": "code",
   "execution_count": 16,
   "metadata": {},
   "outputs": [
    {
     "name": "stderr",
     "output_type": "stream",
     "text": [
      "INFO:regr.program.program:Testing:\n",
      "Testing: 100%|██████████| 10/10 [00:00<00:00, 20.91it/s]\n",
      "INFO:regr.program.program: - loss:\n",
      "INFO:regr.program.program:{'spam': tensor(0.5664), 'regular': tensor(0.5612)}\n",
      "INFO:regr.program.program: - metric:\n",
      "INFO:regr.program.program:{'spam': {'P': tensor(0.7778, device='cuda:0'), 'R': tensor(0.7000, device='cuda:0'), 'F1': tensor(0.7368, device='cuda:0')}, 'regular': {'P': tensor(0.8750, device='cuda:0'), 'R': tensor(0.7000, device='cuda:0'), 'F1': tensor(0.7778, device='cuda:0')}}\n"
     ]
    }
   ],
   "source": [
    "program.test(test_reader)"
   ]
  },
  {
   "cell_type": "markdown",
   "metadata": {},
   "source": [
    "## Run the graph\n",
    "Here we use populate to run the graph with the defined data from the reader"
   ]
  },
  {
   "cell_type": "code",
   "execution_count": 44,
   "metadata": {
    "tags": []
   },
   "outputs": [
    {
     "name": "stdout",
     "output_type": "stream",
     "text": [
      "email 0\n",
      "email 0\n",
      "email 0\n",
      "email 0\n",
      "email 0\n",
      "email 0\n",
      "email 0\n",
      "email 0\n",
      "email 0\n",
      "email 0\n"
     ]
    }
   ],
   "source": [
    "for datanode in program.populate(dataset=train_reader):\n",
    "    print(datanode)"
   ]
  },
  {
   "cell_type": "code",
   "execution_count": 45,
   "metadata": {
    "tags": []
   },
   "outputs": [
    {
     "name": "stdout",
     "output_type": "stream",
     "text": [
      "datanode: email 0\n",
      "Spam: tensor([0.2188, 0.7812], device='cuda:0')\n",
      "Regular: tensor([0.7870, 0.2130], device='cuda:0')\n",
      "Log file for ilpOntSolver is in: /home/hfaghihi/Framework/DomiKnowS/tutorials/ilpOntSolver.log\n",
      "Using license file /home/hfaghihi/gurobi.lic\n"
     ]
    },
    {
     "name": "stderr",
     "output_type": "stream",
     "text": [
      "INFO:gurobipy:Using license file /home/hfaghihi/gurobi.lic\n"
     ]
    },
    {
     "name": "stdout",
     "output_type": "stream",
     "text": [
      "Academic license - for non-commercial use only\n"
     ]
    },
    {
     "name": "stderr",
     "output_type": "stream",
     "text": [
      "INFO:gurobipy:Academic license - for non-commercial use only\n"
     ]
    },
    {
     "name": "stdout",
     "output_type": "stream",
     "text": [
      "inference spam: tensor([1.], device='cuda:0', dtype=torch.float64)\n",
      "inference regular: tensor([0.], device='cuda:0', dtype=torch.float64)\n",
      "datanode: email 0\n",
      "Spam: tensor([0.3072, 0.6928], device='cuda:0')\n",
      "Regular: tensor([0.6929, 0.3071], device='cuda:0')\n",
      "inference spam: tensor([1.], device='cuda:0', dtype=torch.float64)\n",
      "inference regular: tensor([0.], device='cuda:0', dtype=torch.float64)\n",
      "datanode: email 0\n",
      "Spam: tensor([0.3167, 0.6833], device='cuda:0')\n",
      "Regular: tensor([0.6627, 0.3373], device='cuda:0')\n",
      "inference spam: tensor([1.], device='cuda:0', dtype=torch.float64)\n",
      "inference regular: tensor([0.], device='cuda:0', dtype=torch.float64)\n",
      "datanode: email 0\n",
      "Spam: tensor([0.1211, 0.8789], device='cuda:0')\n",
      "Regular: tensor([0.8668, 0.1332], device='cuda:0')\n",
      "inference spam: tensor([1.], device='cuda:0', dtype=torch.float64)\n",
      "inference regular: tensor([0.], device='cuda:0', dtype=torch.float64)\n",
      "datanode: email 0\n",
      "Spam: tensor([0.4397, 0.5603], device='cuda:0')\n",
      "Regular: tensor([0.5422, 0.4578], device='cuda:0')\n",
      "inference spam: tensor([1.], device='cuda:0', dtype=torch.float64)\n",
      "inference regular: tensor([0.], device='cuda:0', dtype=torch.float64)\n",
      "datanode: email 0\n",
      "Spam: tensor([0.5617, 0.4383], device='cuda:0')\n",
      "Regular: tensor([0.4209, 0.5791], device='cuda:0')\n",
      "inference spam: tensor([0.], device='cuda:0', dtype=torch.float64)\n",
      "inference regular: tensor([1.], device='cuda:0', dtype=torch.float64)\n",
      "datanode: email 0\n",
      "Spam: tensor([0.7218, 0.2782], device='cuda:0')\n",
      "Regular: tensor([0.2372, 0.7628], device='cuda:0')\n",
      "inference spam: tensor([0.], device='cuda:0', dtype=torch.float64)\n",
      "inference regular: tensor([1.], device='cuda:0', dtype=torch.float64)\n",
      "datanode: email 0\n",
      "Spam: tensor([0.7044, 0.2956], device='cuda:0')\n",
      "Regular: tensor([0.2935, 0.7065], device='cuda:0')\n",
      "inference spam: tensor([0.], device='cuda:0', dtype=torch.float64)\n",
      "inference regular: tensor([1.], device='cuda:0', dtype=torch.float64)\n",
      "datanode: email 0\n",
      "Spam: tensor([0.4744, 0.5256], device='cuda:0')\n",
      "Regular: tensor([0.4945, 0.5055], device='cuda:0')\n",
      "inference spam: tensor([1.], device='cuda:0', dtype=torch.float64)\n",
      "inference regular: tensor([0.], device='cuda:0', dtype=torch.float64)\n",
      "datanode: email 0\n",
      "Spam: tensor([0.2967, 0.7033], device='cuda:0')\n",
      "Regular: tensor([0.7243, 0.2757], device='cuda:0')\n",
      "inference spam: tensor([1.], device='cuda:0', dtype=torch.float64)\n",
      "inference regular: tensor([0.], device='cuda:0', dtype=torch.float64)\n"
     ]
    }
   ],
   "source": [
    "for datanode in program.populate(dataset=test_reader):\n",
    "    print('datanode:', datanode)\n",
    "    print('Spam:', datanode.getAttribute(Spam).softmax(-1))\n",
    "    print('Regular:', datanode.getAttribute(Regular).softmax(-1))\n",
    "    datanode.inferILPConstrains(fun=lambda val: torch.tensor(val).softmax(dim=-1).detach().cpu().numpy().tolist(), epsilon=None)\n",
    "    print('inference spam:', datanode.getAttribute(Spam, 'ILP'))\n",
    "    print('inference regular:', datanode.getAttribute(Regular, 'ILP'))"
   ]
  },
  {
   "cell_type": "code",
   "execution_count": null,
   "metadata": {},
   "outputs": [],
   "source": []
  }
 ],
 "metadata": {
  "kernelspec": {
   "display_name": "Python 3",
   "language": "python",
   "name": "python3"
  },
  "language_info": {
   "codemirror_mode": {
    "name": "ipython",
    "version": 3
   },
   "file_extension": ".py",
   "mimetype": "text/x-python",
   "name": "python",
   "nbconvert_exporter": "python",
   "pygments_lexer": "ipython3",
   "version": "3.7.10"
  }
 },
 "nbformat": 4,
 "nbformat_minor": 4
}
