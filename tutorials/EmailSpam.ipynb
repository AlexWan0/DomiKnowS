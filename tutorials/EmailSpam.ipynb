{
 "cells": [
  {
   "cell_type": "markdown",
   "metadata": {},
   "source": [
    "# Email Spam detection\n",
    "This tutorial is to show you how to make a very simple learning program that also utilizes gorubi solver to apply constraints on a multiclass classification for two classes `spam` and `regular`"
   ]
  },
  {
   "cell_type": "code",
   "execution_count": 1,
   "metadata": {
    "tags": []
   },
   "outputs": [
    {
     "output_type": "stream",
     "name": "stdout",
     "text": "/VL/space/guoquan/repos/RelationalGraph/tutorials\n"
    }
   ],
   "source": [
    "import os\n",
    "print(os.getcwd())\n",
    "# Please change the root to an absolute or relative path to DomiKnowS root.\n",
    "# In case relative path is used, consider the printed `CWD` as current working directory.\n",
    "root = '/home/hfaghihi/Framework/DomiKnowS'"
   ]
  },
  {
   "cell_type": "markdown",
   "metadata": {},
   "source": [
    "## The Graph\n",
    "First we define the graph code that defines the domain knowledge for this problem."
   ]
  },
  {
   "cell_type": "code",
   "execution_count": 2,
   "metadata": {
    "tags": []
   },
   "outputs": [
    {
     "output_type": "stream",
     "name": "stderr",
     "text": "* Owlready2 * Warning: optimized Cython parser module 'owlready2_optimized' is not available, defaulting to slower Python implementation\n"
    }
   ],
   "source": [
    "import sys\n",
    "sys.path.append(root)\n",
    "\n",
    "from regr.graph import Graph, Concept # importing basic graph classes\n",
    "from regr.graph.logicalConstrain import orL, andL, notL # importing basic constraint classes\n",
    "\n",
    "Graph.clear()\n",
    "Concept.clear()\n",
    "\n",
    "with Graph('example') as graph:\n",
    "    email = Concept(name='email')\n",
    "\n",
    "    Spam = email(name='spam')\n",
    "\n",
    "    Regular = email(name='regular')\n",
    "\n",
    "    # The constraint of not having regular and spam together\n",
    "    orL(andL(notL(Spam, ('x', )), Regular, ('x', )), andL(notL(Regular, ('x', )), Spam, ('x', )))\n",
    "\n"
   ]
  },
  {
   "cell_type": "markdown",
   "metadata": {},
   "source": [
    "## Data and Data Reader\n",
    "As our data is located in different text files and in different folders, we have to write a reader class that reads this entries into a list of dictionaries in python. Here we use the default Reader class of the Framework.\n"
   ]
  },
  {
   "cell_type": "code",
   "execution_count": 3,
   "metadata": {},
   "outputs": [],
   "source": [
    "import os\n",
    "from regr.data.reader import RegrReader\n",
    "\n",
    "class EmailSpamReader(RegrReader):\n",
    "    def parse_file(self, ):\n",
    "        folder = self.file\n",
    "        data_spam = []\n",
    "        data_ham = []\n",
    "        for file in [f for f in os.listdir(folder + \"/spam\") if os.path.isfile(os.path.join(folder + \"/spam\", f)) and f.endswith('.txt')]:\n",
    "            with open(folder + \"/spam/\" + file, \"r\") as f:\n",
    "                x = []\n",
    "                for i in f:\n",
    "                    x.append(i)\n",
    "            data_spam.append(x)\n",
    "        for file in [f for f in os.listdir(folder + \"/ham\") if os.path.isfile(os.path.join(folder + \"/ham\", f)) and f.endswith('.txt')]:\n",
    "            with open(folder + \"/ham/\" + file, \"r\") as f:\n",
    "                x = []\n",
    "                for i in f:\n",
    "                    x.append(i)\n",
    "            data_ham.append(x)\n",
    "        final_data = []\n",
    "        for dat in data_spam:\n",
    "            item = {'subject': dat[0].split(\":\")[1]}\n",
    "            index = [i for i, v in enumerate(dat) if v.startswith('- - - - - - - - -')]\n",
    "            if len(index):\n",
    "                index = index[0]\n",
    "                item['body'] = \"\".join(dat[1:index])\n",
    "                sub = [(i, v) for i, v in enumerate(dat[index:]) if v.startswith('subject')][0]\n",
    "                item['forward_subject'] = sub[1].split(\":\")[1]\n",
    "                item['forward_body'] = \"\".join(dat[index + sub[0] + 1:])\n",
    "            else:\n",
    "                item['body'] = item['body'] = (\"\").join(dat[1:])\n",
    "            item['label'] = \"spam\"\n",
    "            final_data.append(item)\n",
    "\n",
    "        for dat in data_ham:\n",
    "            item = {'subject': dat[0].split(\":\")[1]}\n",
    "            index = [i for i, v in enumerate(dat) if v.startswith('- - - - - - - - -')]\n",
    "            if len(index):\n",
    "                index = index[0]\n",
    "                item['body'] = \"\".join(dat[1:index])\n",
    "                sub = [(i, v) for i, v in enumerate(dat[index:]) if v.startswith('subject')][0]\n",
    "                item['forward_subject'] = sub[1].split(\":\")[1]\n",
    "                item['forward_body'] = \"\".join(dat[index + sub[0] + 1:])\n",
    "            else:\n",
    "                item['body'] = item['body'] = (\"\").join(dat[1:])\n",
    "            item['label'] = \"ham\"\n",
    "            final_data.append(item)\n",
    "        return final_data\n",
    "\n",
    "    def getSubjectval(self, item):\n",
    "        return item['subject']\n",
    "\n",
    "    def getBodyval(self, item):\n",
    "        return item['body']\n",
    "\n",
    "    def getForwardSubjectval(self, item):\n",
    "        if 'forward_subject' in item:\n",
    "            return item['forward_subject']\n",
    "        else:\n",
    "            return None\n",
    "\n",
    "    def getForwardBodyval(self, item):\n",
    "        if 'forward_body' in item:\n",
    "            return item['forward_body']\n",
    "        else:\n",
    "            return None\n",
    "\n",
    "    def getSpamval(self, item):\n",
    "        if item['label'] == \"spam\":\n",
    "            return [1]\n",
    "        else:\n",
    "            return [0]\n",
    "\n",
    "    def getRegularval(self, item):\n",
    "        if item['label'] == \"ham\":\n",
    "            return [1]\n",
    "        else:\n",
    "            return [0]"
   ]
  },
  {
   "cell_type": "markdown",
   "metadata": {},
   "source": [
    "This class redefines the `parse_file` function to parse data into a list of dictionary and then defines some keywords to be used by `ReaderSensor` later in our program to connect data with our knowledge graph. Next we make an instance of this class on the training samples."
   ]
  },
  {
   "cell_type": "code",
   "execution_count": 4,
   "metadata": {},
   "outputs": [],
   "source": [
    "import os\n",
    "\n",
    "train_reader = EmailSpamReader(file=os.path.join(root, 'examples/Email_Spam/data/train'), type=\"folder\")\n",
    "test_reader = EmailSpamReader(file=os.path.join(root, 'examples/Email_Spam/data/test'), type=\"folder\")"
   ]
  },
  {
   "cell_type": "markdown",
   "metadata": {},
   "source": [
    "You can check your very first instance by calling `next` and your reader. \n",
    "! Make sure to re-initiate your reader if you do call `next` for test."
   ]
  },
  {
   "cell_type": "code",
   "execution_count": 5,
   "metadata": {
    "tags": []
   },
   "outputs": [
    {
     "output_type": "stream",
     "name": "stdout",
     "text": "{'Body': 'take control of your life today\\nand make the money that you deserve ! welcome to the last stop in your search for a true and total money making opportunity . we have\\nstudied marketing for years and have finally come to where we are able to deliver to you the most complete package available today ! if you are looking for unlimited income\\npotential then this is the chance for you . this is a real business , not multi - level - marketing , network marketing or any other type of business that you have seen in the past . it is a complete state of the art system that comes complete with everything that you need to succeed . find out how to capture the most exciting opportunity in years ! click here\\nautomated\\nremoval instructionsthis\\nmessage is intended for individuals who have an interest in financial and money matters . if this message has reached you in error , and you want to be removed from our mail agents database , click here and type your email address in the subject header . your address will be automatically removed from our mail agents master database .\\nthanks for your time : )', 'ForwardBody': None, 'ForwardSubject': None, 'Regular': [0], 'Spam': [1], 'Subject': ' a brand new opportunity to work from home ! - lrmjq\\n'}\n"
    }
   ],
   "source": [
    "print(next(iter(train_reader)))"
   ]
  },
  {
   "cell_type": "markdown",
   "metadata": {},
   "source": [
    "## Model Declaration\n",
    "Now we start to connect the reader output data with our formatted domain knowledge defined in the graph."
   ]
  },
  {
   "cell_type": "code",
   "execution_count": 6,
   "metadata": {},
   "outputs": [],
   "source": [
    "from regr.sensor.pytorch.sensors import ReaderSensor\n",
    "\n",
    "email['subject'] = ReaderSensor(keyword='Subject')\n",
    "email['body'] = ReaderSensor(keyword=\"Body\")\n",
    "email['forward_subject'] = ReaderSensor(keyword=\"ForwardSubject\")\n",
    "email['forward_body'] = ReaderSensor(keyword=\"ForwardBody\")"
   ]
  },
  {
   "cell_type": "markdown",
   "metadata": {},
   "source": [
    "Next we read the labels for the `spam` and `regular` concepts"
   ]
  },
  {
   "cell_type": "code",
   "execution_count": 7,
   "metadata": {},
   "outputs": [],
   "source": [
    "email[Spam] = ReaderSensor(keyword='Spam', label=True)\n",
    "email[Regular] = ReaderSensor(keyword='Regular', label=True)"
   ]
  },
  {
   "cell_type": "markdown",
   "metadata": {},
   "source": [
    "### Define a new sensor\n",
    "Here we want to use spacy to define a new sensor which gives us an average glove embedding tensor for a sentence"
   ]
  },
  {
   "cell_type": "code",
   "execution_count": 8,
   "metadata": {},
   "outputs": [],
   "source": [
    "from regr.sensor.pytorch.sensors import TorchSensor\n",
    "import spacy\n",
    "from typing import Any\n",
    "import torch\n",
    "\n",
    "class SentenceRepSensor(TorchSensor):\n",
    "    def __init__(self, *pres, edges=None, label=False):\n",
    "        super().__init__(*pres, edges=None, label=False)\n",
    "        self.nlp = spacy.load('en_core_web_lg')\n",
    "\n",
    "    def forward(self,) -> Any:\n",
    "        email = self.nlp(self.inputs[0])\n",
    "        return torch.from_numpy(email.vector).to(device=self.device)"
   ]
  },
  {
   "cell_type": "markdown",
   "metadata": {},
   "source": [
    "The input to this sensor would be a sentence. You can find the usage of this sensor in the following sections.\n",
    "\n",
    "Next, we want to define a new sensor which gives us a tensor indicating whether the email has a forwarded message or not."
   ]
  },
  {
   "cell_type": "code",
   "execution_count": 9,
   "metadata": {},
   "outputs": [],
   "source": [
    "class ForwardPresenceSensor(TorchSensor):\n",
    "    def forward(self,) -> Any:\n",
    "        if self.inputs[0]:\n",
    "            return torch.ones(1).to(self.device)\n",
    "        else:\n",
    "            return torch.zeros(1).to(self.device)"
   ]
  },
  {
   "cell_type": "markdown",
   "metadata": {},
   "source": [
    "### Connecting new sensors to the graph \n",
    "We connect these sensors to the graph to make new properties on the concept `email`. We want to make new representations on the `subject` and `body` of the email and that why those properties are passed as input to the defined sensors."
   ]
  },
  {
   "cell_type": "code",
   "execution_count": 10,
   "metadata": {},
   "outputs": [],
   "source": [
    "email['subject_rep'] = SentenceRepSensor('subject')\n",
    "email['body_rep'] = SentenceRepSensor('body')\n",
    "email['forward_presence'] = ForwardPresenceSensor('forward_body')"
   ]
  },
  {
   "cell_type": "markdown",
   "metadata": {},
   "source": [
    "### Preparing input features for the learner\n",
    "Now we concatenate all the generated features to make a new property on the graph which will provide input for the classifier of `spam` and `regular` concepts."
   ]
  },
  {
   "cell_type": "code",
   "execution_count": 11,
   "metadata": {},
   "outputs": [],
   "source": [
    "from regr.sensor.pytorch.sensors import ConcatSensor\n",
    "\n",
    "email['features'] = ConcatSensor('subject_rep', 'body_rep', 'forward_presence')"
   ]
  },
  {
   "cell_type": "markdown",
   "metadata": {},
   "source": [
    "### Define the learner\n",
    "Here we define a learner and connect it to the concepts of `spam` and `regular`. This learner is a simple pytorch module of linear neural network."
   ]
  },
  {
   "cell_type": "code",
   "execution_count": 12,
   "metadata": {},
   "outputs": [],
   "source": [
    "from regr.sensor.pytorch.learners import ModuleLearner\n",
    "from torch import nn\n",
    "\n",
    "email[Spam] = ModuleLearner('features', module=nn.Linear(601, 2))\n",
    "email[Regular] = ModuleLearner('features', module=nn.Linear(601, 2))"
   ]
  },
  {
   "cell_type": "markdown",
   "metadata": {},
   "source": [
    "### Make the learning model from the updated graph\n",
    "Here we make an executable version of this graph that is able to trace the dependencies of the sensors and fill the data from the reader to run examples on the declared model."
   ]
  },
  {
   "cell_type": "code",
   "execution_count": 13,
   "metadata": {},
   "outputs": [],
   "source": [
    "from regr.program import LearningBasedProgram\n",
    "from regr.program.model.pytorch import PoiModel\n",
    "from regr.program.metric import MacroAverageTracker, PRF1Tracker\n",
    "from regr.program.loss import NBCrossEntropyLoss\n",
    "\n",
    "program = LearningBasedProgram(graph, PoiModel, loss=MacroAverageTracker(NBCrossEntropyLoss()), metric=PRF1Tracker())"
   ]
  },
  {
   "cell_type": "code",
   "execution_count": 14,
   "metadata": {},
   "outputs": [],
   "source": [
    "# set logger level to see training and testing logs\n",
    "import logging\n",
    "logging.basicConfig(level=logging.INFO)"
   ]
  },
  {
   "cell_type": "code",
   "execution_count": 15,
   "metadata": {
    "tags": []
   },
   "outputs": [
    {
     "output_type": "stream",
     "name": "stderr",
     "text": "INFO:regr.program.program:Epoch: 0\nINFO:regr.program.program:Training:\nEpoch 0 Training: 100%|██████████| 10/10 [00:01<00:00,  9.58it/s]\nINFO:regr.program.program: - loss:\nINFO:regr.program.program:{'spam': tensor(0.7216), 'regular': tensor(0.6997)}\nINFO:regr.program.program: - metric:\nINFO:regr.program.program:{'spam': {'P': tensor(0.3333, device='cuda:0'), 'R': tensor(0.3000, device='cuda:0'), 'F1': tensor(0.3158, device='cuda:0')}, 'regular': {'P': tensor(0.4444, device='cuda:0'), 'R': tensor(0.4000, device='cuda:0'), 'F1': tensor(0.4211, device='cuda:0')}}\nINFO:regr.program.program:Epoch: 1\nINFO:regr.program.program:Training:\nEpoch 1 Training: 100%|██████████| 10/10 [00:00<00:00, 18.49it/s]\nINFO:regr.program.program: - loss:\nINFO:regr.program.program:{'spam': tensor(0.6018), 'regular': tensor(0.5835)}\nINFO:regr.program.program: - metric:\nINFO:regr.program.program:{'spam': {'P': tensor(0.7273, device='cuda:0'), 'R': tensor(0.8000, device='cuda:0'), 'F1': tensor(0.7619, device='cuda:0')}, 'regular': {'P': tensor(0.7000, device='cuda:0'), 'R': tensor(0.7000, device='cuda:0'), 'F1': tensor(0.7000, device='cuda:0')}}\nINFO:regr.program.program:Epoch: 2\nINFO:regr.program.program:Training:\nEpoch 2 Training: 100%|██████████| 10/10 [00:00<00:00, 19.77it/s]\nINFO:regr.program.program: - loss:\nINFO:regr.program.program:{'spam': tensor(0.5311), 'regular': tensor(0.5145)}\nINFO:regr.program.program: - metric:\nINFO:regr.program.program:{'spam': {'P': tensor(0.7500, device='cuda:0'), 'R': tensor(0.9000, device='cuda:0'), 'F1': tensor(0.8182, device='cuda:0')}, 'regular': {'P': tensor(0.7273, device='cuda:0'), 'R': tensor(0.8000, device='cuda:0'), 'F1': tensor(0.7619, device='cuda:0')}}\nINFO:regr.program.program:Epoch: 3\nINFO:regr.program.program:Training:\nEpoch 3 Training: 100%|██████████| 10/10 [00:00<00:00, 20.61it/s]\nINFO:regr.program.program: - loss:\nINFO:regr.program.program:{'spam': tensor(0.4751), 'regular': tensor(0.4601)}\nINFO:regr.program.program: - metric:\nINFO:regr.program.program:{'spam': {'P': tensor(0.9000, device='cuda:0'), 'R': tensor(0.9000, device='cuda:0'), 'F1': tensor(0.9000, device='cuda:0')}, 'regular': {'P': tensor(0.9000, device='cuda:0'), 'R': tensor(0.9000, device='cuda:0'), 'F1': tensor(0.9000, device='cuda:0')}}\nINFO:regr.program.program:Epoch: 4\nINFO:regr.program.program:Training:\nEpoch 4 Training: 100%|██████████| 10/10 [00:00<00:00, 18.74it/s]\nINFO:regr.program.program: - loss:\nINFO:regr.program.program:{'spam': tensor(0.4295), 'regular': tensor(0.4157)}\nINFO:regr.program.program: - metric:\nINFO:regr.program.program:{'spam': {'P': tensor(0.9000, device='cuda:0'), 'R': tensor(0.9000, device='cuda:0'), 'F1': tensor(0.9000, device='cuda:0')}, 'regular': {'P': tensor(1., device='cuda:0'), 'R': tensor(0.9000, device='cuda:0'), 'F1': tensor(0.9474, device='cuda:0')}}\nINFO:regr.program.program:Epoch: 5\nINFO:regr.program.program:Training:\nEpoch 5 Training: 100%|██████████| 10/10 [00:00<00:00, 18.37it/s]\nINFO:regr.program.program: - loss:\nINFO:regr.program.program:{'spam': tensor(0.3914), 'regular': tensor(0.3786)}\nINFO:regr.program.program: - metric:\nINFO:regr.program.program:{'spam': {'P': tensor(0.9000, device='cuda:0'), 'R': tensor(0.9000, device='cuda:0'), 'F1': tensor(0.9000, device='cuda:0')}, 'regular': {'P': tensor(1., device='cuda:0'), 'R': tensor(0.9000, device='cuda:0'), 'F1': tensor(0.9474, device='cuda:0')}}\nINFO:regr.program.program:Epoch: 6\nINFO:regr.program.program:Training:\nEpoch 6 Training: 100%|██████████| 10/10 [00:00<00:00, 20.49it/s]\nINFO:regr.program.program: - loss:\nINFO:regr.program.program:{'spam': tensor(0.3588), 'regular': tensor(0.3469)}\nINFO:regr.program.program: - metric:\nINFO:regr.program.program:{'spam': {'P': tensor(1., device='cuda:0'), 'R': tensor(0.9000, device='cuda:0'), 'F1': tensor(0.9474, device='cuda:0')}, 'regular': {'P': tensor(1., device='cuda:0'), 'R': tensor(1., device='cuda:0'), 'F1': tensor(1., device='cuda:0')}}\nINFO:regr.program.program:Epoch: 7\nINFO:regr.program.program:Training:\nEpoch 7 Training: 100%|██████████| 10/10 [00:00<00:00, 20.28it/s]\nINFO:regr.program.program: - loss:\nINFO:regr.program.program:{'spam': tensor(0.3305), 'regular': tensor(0.3193)}\nINFO:regr.program.program: - metric:\nINFO:regr.program.program:{'spam': {'P': tensor(1., device='cuda:0'), 'R': tensor(1., device='cuda:0'), 'F1': tensor(1., device='cuda:0')}, 'regular': {'P': tensor(1., device='cuda:0'), 'R': tensor(1., device='cuda:0'), 'F1': tensor(1., device='cuda:0')}}\nINFO:regr.program.program:Epoch: 8\nINFO:regr.program.program:Training:\nEpoch 8 Training: 100%|██████████| 10/10 [00:00<00:00, 20.57it/s]\nINFO:regr.program.program: - loss:\nINFO:regr.program.program:{'spam': tensor(0.3056), 'regular': tensor(0.2951)}\nINFO:regr.program.program: - metric:\nINFO:regr.program.program:{'spam': {'P': tensor(1., device='cuda:0'), 'R': tensor(1., device='cuda:0'), 'F1': tensor(1., device='cuda:0')}, 'regular': {'P': tensor(1., device='cuda:0'), 'R': tensor(1., device='cuda:0'), 'F1': tensor(1., device='cuda:0')}}\nINFO:regr.program.program:Epoch: 9\nINFO:regr.program.program:Training:\nEpoch 9 Training: 100%|██████████| 10/10 [00:00<00:00, 17.61it/s]\nINFO:regr.program.program: - loss:\nINFO:regr.program.program:{'spam': tensor(0.2836), 'regular': tensor(0.2737)}\nINFO:regr.program.program: - metric:\nINFO:regr.program.program:{'spam': {'P': tensor(1., device='cuda:0'), 'R': tensor(1., device='cuda:0'), 'F1': tensor(1., device='cuda:0')}, 'regular': {'P': tensor(1., device='cuda:0'), 'R': tensor(1., device='cuda:0'), 'F1': tensor(1., device='cuda:0')}}\nINFO:regr.program.program:Epoch: 10\nINFO:regr.program.program:Training:\nEpoch 10 Training: 100%|██████████| 10/10 [00:00<00:00, 18.59it/s]\nINFO:regr.program.program: - loss:\nINFO:regr.program.program:{'spam': tensor(0.2639), 'regular': tensor(0.2546)}\nINFO:regr.program.program: - metric:\nINFO:regr.program.program:{'spam': {'P': tensor(1., device='cuda:0'), 'R': tensor(1., device='cuda:0'), 'F1': tensor(1., device='cuda:0')}, 'regular': {'P': tensor(1., device='cuda:0'), 'R': tensor(1., device='cuda:0'), 'F1': tensor(1., device='cuda:0')}}\nINFO:regr.program.program:Epoch: 11\nINFO:regr.program.program:Training:\nEpoch 11 Training: 100%|██████████| 10/10 [00:00<00:00, 18.01it/s]\nINFO:regr.program.program: - loss:\nINFO:regr.program.program:{'spam': tensor(0.2463), 'regular': tensor(0.2375)}\nINFO:regr.program.program: - metric:\nINFO:regr.program.program:{'spam': {'P': tensor(1., device='cuda:0'), 'R': tensor(1., device='cuda:0'), 'F1': tensor(1., device='cuda:0')}, 'regular': {'P': tensor(1., device='cuda:0'), 'R': tensor(1., device='cuda:0'), 'F1': tensor(1., device='cuda:0')}}\nINFO:regr.program.program:Epoch: 12\nINFO:regr.program.program:Training:\nEpoch 12 Training: 100%|██████████| 10/10 [00:00<00:00, 20.44it/s]\nINFO:regr.program.program: - loss:\nINFO:regr.program.program:{'spam': tensor(0.2304), 'regular': tensor(0.2220)}\nINFO:regr.program.program: - metric:\nINFO:regr.program.program:{'spam': {'P': tensor(1., device='cuda:0'), 'R': tensor(1., device='cuda:0'), 'F1': tensor(1., device='cuda:0')}, 'regular': {'P': tensor(1., device='cuda:0'), 'R': tensor(1., device='cuda:0'), 'F1': tensor(1., device='cuda:0')}}\nINFO:regr.program.program:Epoch: 13\nINFO:regr.program.program:Training:\nEpoch 13 Training: 100%|██████████| 10/10 [00:00<00:00, 20.49it/s]\nINFO:regr.program.program: - loss:\nINFO:regr.program.program:{'spam': tensor(0.2160), 'regular': tensor(0.2081)}\nINFO:regr.program.program: - metric:\nINFO:regr.program.program:{'spam': {'P': tensor(1., device='cuda:0'), 'R': tensor(1., device='cuda:0'), 'F1': tensor(1., device='cuda:0')}, 'regular': {'P': tensor(1., device='cuda:0'), 'R': tensor(1., device='cuda:0'), 'F1': tensor(1., device='cuda:0')}}\nINFO:regr.program.program:Epoch: 14\nINFO:regr.program.program:Training:\nEpoch 14 Training: 100%|██████████| 10/10 [00:00<00:00, 20.76it/s]\nINFO:regr.program.program: - loss:\nINFO:regr.program.program:{'spam': tensor(0.2029), 'regular': tensor(0.1954)}\nINFO:regr.program.program: - metric:\nINFO:regr.program.program:{'spam': {'P': tensor(1., device='cuda:0'), 'R': tensor(1., device='cuda:0'), 'F1': tensor(1., device='cuda:0')}, 'regular': {'P': tensor(1., device='cuda:0'), 'R': tensor(1., device='cuda:0'), 'F1': tensor(1., device='cuda:0')}}\nINFO:regr.program.program:Epoch: 15\nINFO:regr.program.program:Training:\nEpoch 15 Training: 100%|██████████| 10/10 [00:00<00:00, 20.02it/s]\nINFO:regr.program.program: - loss:\nINFO:regr.program.program:{'spam': tensor(0.1910), 'regular': tensor(0.1839)}\nINFO:regr.program.program: - metric:\nINFO:regr.program.program:{'spam': {'P': tensor(1., device='cuda:0'), 'R': tensor(1., device='cuda:0'), 'F1': tensor(1., device='cuda:0')}, 'regular': {'P': tensor(1., device='cuda:0'), 'R': tensor(1., device='cuda:0'), 'F1': tensor(1., device='cuda:0')}}\nINFO:regr.program.program:Epoch: 16\nINFO:regr.program.program:Training:\nEpoch 16 Training: 100%|██████████| 10/10 [00:00<00:00, 20.53it/s]\nINFO:regr.program.program: - loss:\nINFO:regr.program.program:{'spam': tensor(0.1801), 'regular': tensor(0.1734)}\nINFO:regr.program.program: - metric:\nINFO:regr.program.program:{'spam': {'P': tensor(1., device='cuda:0'), 'R': tensor(1., device='cuda:0'), 'F1': tensor(1., device='cuda:0')}, 'regular': {'P': tensor(1., device='cuda:0'), 'R': tensor(1., device='cuda:0'), 'F1': tensor(1., device='cuda:0')}}\nINFO:regr.program.program:Epoch: 17\nINFO:regr.program.program:Training:\nEpoch 17 Training: 100%|██████████| 10/10 [00:00<00:00, 19.59it/s]\nINFO:regr.program.program: - loss:\nINFO:regr.program.program:{'spam': tensor(0.1702), 'regular': tensor(0.1637)}\nINFO:regr.program.program: - metric:\nINFO:regr.program.program:{'spam': {'P': tensor(1., device='cuda:0'), 'R': tensor(1., device='cuda:0'), 'F1': tensor(1., device='cuda:0')}, 'regular': {'P': tensor(1., device='cuda:0'), 'R': tensor(1., device='cuda:0'), 'F1': tensor(1., device='cuda:0')}}\nINFO:regr.program.program:Epoch: 18\nINFO:regr.program.program:Training:\nEpoch 18 Training: 100%|██████████| 10/10 [00:00<00:00, 18.99it/s]\nINFO:regr.program.program: - loss:\nINFO:regr.program.program:{'spam': tensor(0.1610), 'regular': tensor(0.1549)}\nINFO:regr.program.program: - metric:\nINFO:regr.program.program:{'spam': {'P': tensor(1., device='cuda:0'), 'R': tensor(1., device='cuda:0'), 'F1': tensor(1., device='cuda:0')}, 'regular': {'P': tensor(1., device='cuda:0'), 'R': tensor(1., device='cuda:0'), 'F1': tensor(1., device='cuda:0')}}\nINFO:regr.program.program:Epoch: 19\nINFO:regr.program.program:Training:\nEpoch 19 Training: 100%|██████████| 10/10 [00:00<00:00, 18.54it/s]\nINFO:regr.program.program: - loss:\nINFO:regr.program.program:{'spam': tensor(0.1525), 'regular': tensor(0.1467)}\nINFO:regr.program.program: - metric:\nINFO:regr.program.program:{'spam': {'P': tensor(1., device='cuda:0'), 'R': tensor(1., device='cuda:0'), 'F1': tensor(1., device='cuda:0')}, 'regular': {'P': tensor(1., device='cuda:0'), 'R': tensor(1., device='cuda:0'), 'F1': tensor(1., device='cuda:0')}}\nINFO:regr.program.program:Epoch: 20\nINFO:regr.program.program:Training:\nEpoch 20 Training: 100%|██████████| 10/10 [00:00<00:00, 18.05it/s]\nINFO:regr.program.program: - loss:\nINFO:regr.program.program:{'spam': tensor(0.1447), 'regular': tensor(0.1392)}\nINFO:regr.program.program: - metric:\nINFO:regr.program.program:{'spam': {'P': tensor(1., device='cuda:0'), 'R': tensor(1., device='cuda:0'), 'F1': tensor(1., device='cuda:0')}, 'regular': {'P': tensor(1., device='cuda:0'), 'R': tensor(1., device='cuda:0'), 'F1': tensor(1., device='cuda:0')}}\nINFO:regr.program.program:Epoch: 21\nINFO:regr.program.program:Training:\nEpoch 21 Training: 100%|██████████| 10/10 [00:00<00:00, 17.74it/s]\nINFO:regr.program.program: - loss:\nINFO:regr.program.program:{'spam': tensor(0.1375), 'regular': tensor(0.1323)}\nINFO:regr.program.program: - metric:\nINFO:regr.program.program:{'spam': {'P': tensor(1., device='cuda:0'), 'R': tensor(1., device='cuda:0'), 'F1': tensor(1., device='cuda:0')}, 'regular': {'P': tensor(1., device='cuda:0'), 'R': tensor(1., device='cuda:0'), 'F1': tensor(1., device='cuda:0')}}\nINFO:regr.program.program:Epoch: 22\nINFO:regr.program.program:Training:\nEpoch 22 Training: 100%|██████████| 10/10 [00:00<00:00, 19.04it/s]\nINFO:regr.program.program: - loss:\nINFO:regr.program.program:{'spam': tensor(0.1308), 'regular': tensor(0.1258)}\nINFO:regr.program.program: - metric:\nINFO:regr.program.program:{'spam': {'P': tensor(1., device='cuda:0'), 'R': tensor(1., device='cuda:0'), 'F1': tensor(1., device='cuda:0')}, 'regular': {'P': tensor(1., device='cuda:0'), 'R': tensor(1., device='cuda:0'), 'F1': tensor(1., device='cuda:0')}}\nINFO:regr.program.program:Epoch: 23\nINFO:regr.program.program:Training:\nEpoch 23 Training: 100%|██████████| 10/10 [00:00<00:00, 17.20it/s]\nINFO:regr.program.program: - loss:\nINFO:regr.program.program:{'spam': tensor(0.1246), 'regular': tensor(0.1198)}\nINFO:regr.program.program: - metric:\nINFO:regr.program.program:{'spam': {'P': tensor(1., device='cuda:0'), 'R': tensor(1., device='cuda:0'), 'F1': tensor(1., device='cuda:0')}, 'regular': {'P': tensor(1., device='cuda:0'), 'R': tensor(1., device='cuda:0'), 'F1': tensor(1., device='cuda:0')}}\nINFO:regr.program.program:Epoch: 24\nINFO:regr.program.program:Training:\nEpoch 24 Training: 100%|██████████| 10/10 [00:00<00:00, 21.84it/s]\nINFO:regr.program.program: - loss:\nINFO:regr.program.program:{'spam': tensor(0.1188), 'regular': tensor(0.1143)}\nINFO:regr.program.program: - metric:\nINFO:regr.program.program:{'spam': {'P': tensor(1., device='cuda:0'), 'R': tensor(1., device='cuda:0'), 'F1': tensor(1., device='cuda:0')}, 'regular': {'P': tensor(1., device='cuda:0'), 'R': tensor(1., device='cuda:0'), 'F1': tensor(1., device='cuda:0')}}\nINFO:regr.program.program:Epoch: 25\nINFO:regr.program.program:Training:\nEpoch 25 Training: 100%|██████████| 10/10 [00:00<00:00, 22.08it/s]\nINFO:regr.program.program: - loss:\nINFO:regr.program.program:{'spam': tensor(0.1134), 'regular': tensor(0.1091)}\nINFO:regr.program.program: - metric:\nINFO:regr.program.program:{'spam': {'P': tensor(1., device='cuda:0'), 'R': tensor(1., device='cuda:0'), 'F1': tensor(1., device='cuda:0')}, 'regular': {'P': tensor(1., device='cuda:0'), 'R': tensor(1., device='cuda:0'), 'F1': tensor(1., device='cuda:0')}}\nINFO:regr.program.program:Epoch: 26\nINFO:regr.program.program:Training:\nEpoch 26 Training: 100%|██████████| 10/10 [00:00<00:00, 18.60it/s]\nINFO:regr.program.program: - loss:\nINFO:regr.program.program:{'spam': tensor(0.1084), 'regular': tensor(0.1043)}\nINFO:regr.program.program: - metric:\nINFO:regr.program.program:{'spam': {'P': tensor(1., device='cuda:0'), 'R': tensor(1., device='cuda:0'), 'F1': tensor(1., device='cuda:0')}, 'regular': {'P': tensor(1., device='cuda:0'), 'R': tensor(1., device='cuda:0'), 'F1': tensor(1., device='cuda:0')}}\nINFO:regr.program.program:Epoch: 27\nINFO:regr.program.program:Training:\nEpoch 27 Training: 100%|██████████| 10/10 [00:00<00:00, 18.14it/s]\nINFO:regr.program.program: - loss:\nINFO:regr.program.program:{'spam': tensor(0.1037), 'regular': tensor(0.0997)}\nINFO:regr.program.program: - metric:\nINFO:regr.program.program:{'spam': {'P': tensor(1., device='cuda:0'), 'R': tensor(1., device='cuda:0'), 'F1': tensor(1., device='cuda:0')}, 'regular': {'P': tensor(1., device='cuda:0'), 'R': tensor(1., device='cuda:0'), 'F1': tensor(1., device='cuda:0')}}\nINFO:regr.program.program:Epoch: 28\nINFO:regr.program.program:Training:\nEpoch 28 Training: 100%|██████████| 10/10 [00:00<00:00, 21.71it/s]\nINFO:regr.program.program: - loss:\nINFO:regr.program.program:{'spam': tensor(0.0993), 'regular': tensor(0.0955)}\nINFO:regr.program.program: - metric:\nINFO:regr.program.program:{'spam': {'P': tensor(1., device='cuda:0'), 'R': tensor(1., device='cuda:0'), 'F1': tensor(1., device='cuda:0')}, 'regular': {'P': tensor(1., device='cuda:0'), 'R': tensor(1., device='cuda:0'), 'F1': tensor(1., device='cuda:0')}}\nINFO:regr.program.program:Epoch: 29\nINFO:regr.program.program:Training:\nEpoch 29 Training: 100%|██████████| 10/10 [00:00<00:00, 18.88it/s]\nINFO:regr.program.program: - loss:\nINFO:regr.program.program:{'spam': tensor(0.0952), 'regular': tensor(0.0916)}\nINFO:regr.program.program: - metric:\nINFO:regr.program.program:{'spam': {'P': tensor(1., device='cuda:0'), 'R': tensor(1., device='cuda:0'), 'F1': tensor(1., device='cuda:0')}, 'regular': {'P': tensor(1., device='cuda:0'), 'R': tensor(1., device='cuda:0'), 'F1': tensor(1., device='cuda:0')}}\n"
    }
   ],
   "source": [
    "program.train(train_reader, train_epoch_num=30, Optim=torch.optim.Adam, device='auto')\n"
   ]
  },
  {
   "cell_type": "markdown",
   "metadata": {},
   "source": [
    "## Run the graph\n",
    "Here we use populate to run the graph with the defined data from the reader"
   ]
  },
  {
   "cell_type": "code",
   "execution_count": 16,
   "metadata": {
    "tags": []
   },
   "outputs": [
    {
     "output_type": "stream",
     "name": "stdout",
     "text": "email 0\nemail 0\nemail 0\nemail 0\nemail 0\nemail 0\nemail 0\nemail 0\nemail 0\nemail 0\n"
    }
   ],
   "source": [
    "for datanode in program.populate(dataset=train_reader):\n",
    "    print(datanode)"
   ]
  },
  {
   "cell_type": "code",
   "execution_count": 17,
   "metadata": {
    "tags": []
   },
   "outputs": [
    {
     "output_type": "stream",
     "name": "stdout",
     "text": "datanode: email 0\nSpam: tensor([0.2630, 0.7370], device='cuda:0')\nRegular: tensor([0.6415, 0.3585], device='cuda:0')\nLog file for ilpOntSolver is in: /VL/space/guoquan/repos/RelationalGraph/tutorials/ilpOntSolver.log\nUsing license file /home/guoquan/gurobi.lic\nINFO:gurobipy:Using license file /home/guoquan/gurobi.lic\nAcademic license - for non-commercial use only\nINFO:gurobipy:Academic license - for non-commercial use only\ninference spam: tensor([1.], device='cuda:0')\ninference regular: tensor([0.], device='cuda:0')\ndatanode: email 0\nSpam: tensor([0.3724, 0.6276], device='cuda:0')\nRegular: tensor([0.6633, 0.3367], device='cuda:0')\ninference spam: tensor([1.], device='cuda:0')\ninference regular: tensor([0.], device='cuda:0')\ndatanode: email 0\nSpam: tensor([0.4792, 0.5208], device='cuda:0')\nRegular: tensor([0.5152, 0.4848], device='cuda:0')\ninference spam: tensor([1.], device='cuda:0')\ninference regular: tensor([0.], device='cuda:0')\ndatanode: email 0\nSpam: tensor([0.2375, 0.7625], device='cuda:0')\nRegular: tensor([0.7772, 0.2228], device='cuda:0')\ninference spam: tensor([1.], device='cuda:0')\ninference regular: tensor([0.], device='cuda:0')\ndatanode: email 0\nSpam: tensor([0.1289, 0.8711], device='cuda:0')\nRegular: tensor([0.8658, 0.1342], device='cuda:0')\ninference spam: tensor([1.], device='cuda:0')\ninference regular: tensor([0.], device='cuda:0')\ndatanode: email 0\nSpam: tensor([0.7211, 0.2789], device='cuda:0')\nRegular: tensor([0.3050, 0.6950], device='cuda:0')\ninference spam: tensor([0.], device='cuda:0')\ninference regular: tensor([1.], device='cuda:0')\ndatanode: email 0\nSpam: tensor([0.3152, 0.6848], device='cuda:0')\nRegular: tensor([0.6705, 0.3295], device='cuda:0')\ninference spam: tensor([1.], device='cuda:0')\ninference regular: tensor([0.], device='cuda:0')\ndatanode: email 0\nSpam: tensor([0.5277, 0.4723], device='cuda:0')\nRegular: tensor([0.5128, 0.4872], device='cuda:0')\ninference spam: tensor([0.], device='cuda:0')\ninference regular: tensor([1.], device='cuda:0')\ndatanode: email 0\nSpam: tensor([0.5730, 0.4270], device='cuda:0')\nRegular: tensor([0.4361, 0.5639], device='cuda:0')\ninference spam: tensor([0.], device='cuda:0')\ninference regular: tensor([1.], device='cuda:0')\ndatanode: email 0\nSpam: tensor([0.7305, 0.2695], device='cuda:0')\nRegular: tensor([0.2266, 0.7734], device='cuda:0')\ninference spam: tensor([0.], device='cuda:0')\ninference regular: tensor([1.], device='cuda:0')\n"
    }
   ],
   "source": [
    "for datanode in program.populate(dataset=test_reader):\n",
    "    print('datanode:', datanode)\n",
    "    print('Spam:', datanode.getAttribute(Spam).softmax(-1))\n",
    "    print('Regular:', datanode.getAttribute(Regular).softmax(-1))\n",
    "    datanode.inferILPConstrains(fun=lambda val: torch.tensor(val).softmax(dim=-1).detach().cpu().numpy().tolist(), epsilon=None)\n",
    "    print('inference spam:', datanode.getAttribute(Spam, 'ILP'))\n",
    "    print('inference regular:', datanode.getAttribute(Regular, 'ILP'))"
   ]
  },
  {
   "cell_type": "code",
   "execution_count": null,
   "metadata": {},
   "outputs": [],
   "source": []
  }
 ],
 "metadata": {
  "kernelspec": {
   "display_name": "Python 3.7.6 64-bit ('regr': conda)",
   "language": "python",
   "name": "python37664bitregrconda0671a2bc438a491094fc51f6097be29b"
  },
  "language_info": {
   "codemirror_mode": {
    "name": "ipython",
    "version": 3
   },
   "file_extension": ".py",
   "mimetype": "text/x-python",
   "name": "python",
   "nbconvert_exporter": "python",
   "pygments_lexer": "ipython3",
   "version": "3.7.6-final"
  }
 },
 "nbformat": 4,
 "nbformat_minor": 4
}