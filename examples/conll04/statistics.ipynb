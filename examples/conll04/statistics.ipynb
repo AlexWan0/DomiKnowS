{
 "cells": [
  {
   "cell_type": "code",
   "execution_count": 1,
   "id": "african-wesley",
   "metadata": {},
   "outputs": [],
   "source": [
    "import json\n",
    "import torch"
   ]
  },
  {
   "cell_type": "code",
   "execution_count": 2,
   "id": "frozen-biodiversity",
   "metadata": {},
   "outputs": [],
   "source": [
    "instances = {\"location\": 951, \"people\": 824, \"organization\": 508, \"other\": 609, \"work_for\": 70, \"located_in\": 69, \"live_in\": 99, \"orgbase_on\": 118, \"kill\": 60}"
   ]
  },
  {
   "cell_type": "code",
   "execution_count": 3,
   "id": "associate-vanilla",
   "metadata": {},
   "outputs": [],
   "source": [
    "result_ILP = {'people': {'P':  (0.9549), 'R':  (0.9260), 'F1':  (0.9402)},\n",
    "          'organization': {'P':  (0.9009), 'R':  (0.7520), 'F1':  (0.8197)}, \n",
    "          'location': {'P':  (0.9251), 'R':  (0.9222), 'F1':  (0.9236)}, \n",
    "          'other': {'P':  (0.9620), 'R':  (0.6240), 'F1':  (0.7570)}, \n",
    "          'O': {'P':  (0.9915), 'R':  (0.9936), 'F1':  (0.9926)}, \n",
    "          'work_for': {'P':  (0.9375), 'R':  (0.8571), 'F1':  (0.8955)}, \n",
    "          'located_in': {'P':  (1.), 'R':  (0.8551), 'F1':  (0.9219)}, \n",
    "          'live_in': {'P':  (0.9888), 'R':  (0.8889), 'F1':  (0.9362)}, \n",
    "          'orgbase_on': {'P':  (0.9821), 'R':  (0.9322), 'F1':  (0.9565)}, \n",
    "          'kill': {'P':  (1.), 'R':  (0.9833), 'F1':  (0.9916)}}\n",
    "\n",
    "result_argmax = {'people': {'P':  (0.9491), 'R':  (0.9272), 'F1':  (0.9380)},\n",
    "                 'organization': {'P':  (0.8756), 'R':  (0.7343), 'F1':  (0.7987)},\n",
    "                 'location': {'P':  (0.9027), 'R':  (0.9169), 'F1':  (0.9098)},\n",
    "                 'other': {'P':  (0.9200), 'R':  (0.6420), 'F1':  (0.7563)},\n",
    "                 'O': {'P':  (0.9901), 'R':  (0.9939), 'F1':  (0.9920)},\n",
    "                 'work_for': {'P':  (0.9275), 'R':  (0.9143), 'F1':  (0.9209)},\n",
    "                 'located_in': {'P':  (0.9683), 'R':  (0.8841), 'F1':  (0.9242)},\n",
    "                 'live_in': {'P':  (0.8654), 'R':  (0.9091), 'F1':  (0.8867)},\n",
    "                 'orgbase_on': {'P':  (0.9823), 'R':  (0.9407), 'F1':  (0.9610)},\n",
    "                 'kill': {'P':  (1.), 'R':  (0.9833), 'F1':  (0.9916)}}"
   ]
  },
  {
   "cell_type": "code",
   "execution_count": 4,
   "id": "upper-overall",
   "metadata": {},
   "outputs": [],
   "source": [
    "entities = [\"location\", \"people\", \"organization\", \"other\"]\n",
    "relations = [\"work_for\", \"located_in\", \"live_in\", \"orgbase_on\", \"kill\"]    "
   ]
  },
  {
   "cell_type": "code",
   "execution_count": 20,
   "id": "laughing-boring",
   "metadata": {},
   "outputs": [],
   "source": [
    "def compute_scores(item, name, criteria=\"P\", ILP=False):\n",
    "    if ILP:\n",
    "        state = \"After\"\n",
    "    else:\n",
    "        state = \"before\"\n",
    "        \n",
    "    print(\"----------------\\n\")\n",
    "    print(f'Results {state} ILP for the {name} in terms of {criteria}')\n",
    "    sum_entity = 0\n",
    "    sum_relations = 0\n",
    "    precision_entity = 0\n",
    "    precision_relations = 0\n",
    "    normal_precision_entity = 0\n",
    "    normal_precision_relations = 0\n",
    "    sum_all = 0\n",
    "    precision_all = 0\n",
    "    normal_precision_all = 0\n",
    "    for key in entities:\n",
    "        sum_entity += instances[key]\n",
    "        precision_entity += instances[key] * item[key][criteria]\n",
    "        normal_precision_entity += item[key][criteria]\n",
    "\n",
    "    for key in relations:\n",
    "        sum_relations += instances[key]\n",
    "        precision_relations += instances[key] * item[key][criteria]\n",
    "        normal_precision_relations += item[key][criteria]\n",
    "\n",
    "    sum_all = sum_relations + sum_entity\n",
    "    precision_all = precision_entity + precision_relations\n",
    "    normal_precision_all = normal_precision_relations + normal_precision_entity\n",
    "    \n",
    "    if criteria == \"P\":\n",
    "        print(\"\\n--Micro--\")\n",
    "        print(\"Micro Presicion for Entities: \", precision_entity / sum_entity)\n",
    "        print(\"Micro Presicion for Relations: \", precision_relations / sum_relations)\n",
    "        print(\"Micro Presicion for All: \", precision_all / sum_all)\n",
    "    print(\"\\n--Macro--\")\n",
    "    print(\"Macro Precision for Entities: \", normal_precision_entity / len(entities))\n",
    "    print(\"Macro Precision for Relations: \", normal_precision_relations / len(relations))\n",
    "    print(\"Macro Precision for All: \", normal_precision_all / (len(entities) + len(relations)))"
   ]
  },
  {
   "cell_type": "code",
   "execution_count": 21,
   "id": "impossible-sheet",
   "metadata": {},
   "outputs": [
    {
     "name": "stdout",
     "output_type": "stream",
     "text": [
      "----------------\n",
      "\n",
      "Results After ILP for the Normal in terms of P\n",
      "\n",
      "--Micro--\n",
      "Micro Presicion for Entities:  0.9371102697095437\n",
      "Micro Presicion for Relations:  0.9817403846153846\n",
      "Micro Presicion for All:  0.9427227629987909\n",
      "\n",
      "--Macro--\n",
      "Macro Precision for Entities:  0.9357249999999999\n",
      "Macro Precision for Relations:  0.9816800000000001\n",
      "Macro Precision for All:  0.9612555555555554\n",
      "----------------\n",
      "\n",
      "Results After ILP for the Normal in terms of R\n",
      "\n",
      "--Macro--\n",
      "Macro Precision for Entities:  0.80605\n",
      "Macro Precision for Relations:  0.9033199999999999\n",
      "Macro Precision for All:  0.8600888888888889\n",
      "----------------\n",
      "\n",
      "Results After ILP for the Normal in terms of F1\n",
      "\n",
      "--Macro--\n",
      "Macro Precision for Entities:  0.860125\n",
      "Macro Precision for Relations:  0.9403400000000002\n",
      "Macro Precision for All:  0.904688888888889\n"
     ]
    }
   ],
   "source": [
    "compute_scores(result_ILP, name=\"Normal\", ILP=True, criteria=\"P\")\n",
    "compute_scores(result_ILP, name=\"Normal\", ILP=True, criteria=\"R\")\n",
    "compute_scores(result_ILP, name=\"Normal\", ILP=True, criteria=\"F1\")"
   ]
  },
  {
   "cell_type": "code",
   "execution_count": 22,
   "id": "smart-formula",
   "metadata": {},
   "outputs": [
    {
     "name": "stdout",
     "output_type": "stream",
     "text": [
      "----------------\n",
      "\n",
      "Results before ILP for the Normal in terms of P\n",
      "\n",
      "--Micro--\n",
      "Micro Presicion for Entities:  0.9148032157676348\n",
      "Micro Presicion for Relations:  0.9454896634615385\n",
      "Micro Presicion for All:  0.9186622128174122\n",
      "\n",
      "--Macro--\n",
      "Macro Precision for Entities:  0.9118499999999999\n",
      "Macro Precision for Relations:  0.9486999999999999\n",
      "Macro Precision for All:  0.932322222222222\n",
      "----------------\n",
      "\n",
      "Results before ILP for the Normal in terms of R\n",
      "\n",
      "--Macro--\n",
      "Macro Precision for Entities:  0.8051\n",
      "Macro Precision for Relations:  0.9263\n",
      "Macro Precision for All:  0.8724333333333334\n",
      "----------------\n",
      "\n",
      "Results before ILP for the Normal in terms of F1\n",
      "\n",
      "--Macro--\n",
      "Macro Precision for Entities:  0.8506999999999999\n",
      "Macro Precision for Relations:  0.93688\n",
      "Macro Precision for All:  0.8985777777777777\n"
     ]
    }
   ],
   "source": [
    "compute_scores(result_argmax, name=\"Normal\", ILP=False)\n",
    "compute_scores(result_argmax, name=\"Normal\", ILP=False, criteria=\"R\")\n",
    "compute_scores(result_argmax, name=\"Normal\", ILP=False, criteria=\"F1\")"
   ]
  },
  {
   "cell_type": "code",
   "execution_count": 23,
   "id": "racial-homeless",
   "metadata": {},
   "outputs": [],
   "source": [
    "result_ILP_IML = {'people': {'P':  (0.9515), 'R':  (0.8568), 'F1':  (0.9017)}, \n",
    "                  'organization': {'P':  (0.8889), 'R':  (0.6457), 'F1':  (0.7480)},\n",
    "                  'location': {'P':  (0.9190), 'R':  (0.8948), 'F1':  (0.9068)},\n",
    "                  'other': {'P':  (0.9631), 'R':  (0.5993), 'F1':  (0.7389)},\n",
    "                  'O': {'P':  (0.9897), 'R':  (0.9916), 'F1':  (0.9907)},\n",
    "                  'work_for': {'P':  (0.9286), 'R':  (0.7429), 'F1':  (0.8254)},\n",
    "                  'located_in': {'P':  (1.), 'R':  (0.8261), 'F1':  (0.9048)},\n",
    "                  'live_in': {'P':  (0.9310), 'R':  (0.8182), 'F1':  (0.8710)},\n",
    "                  'orgbase_on': {'P':  (0.9804), 'R':  (0.8475), 'F1':  (0.9091)},\n",
    "                  'kill': {'P':  (1.), 'R':  (0.9500), 'F1':  (0.9744)}}\n",
    "\n",
    "result_argmax_IML = {'people': {'P':  (0.9469), 'R':  (0.8434), 'F1':  (0.8922)},\n",
    "                     'organization': {'P':  (0.8556), 'R':  (0.6181), 'F1':  (0.7177)},\n",
    "                     'location': {'P':  (0.8898), 'R':  (0.8833), 'F1':  (0.8865)},\n",
    "                     'other': {'P':  (0.9227), 'R':  (0.6076), 'F1':  (0.7327)},\n",
    "                     'O': {'P':  (0.9889), 'R':  (0.9919), 'F1':  (0.9904)},\n",
    "                     'work_for': {'P':  (0.9286), 'R':  (0.9286), 'F1':  (0.9286)},\n",
    "                     'located_in': {'P':  (0.9516), 'R':  (0.8551), 'F1':  (0.9008)},\n",
    "                     'live_in': {'P':  (0.8350), 'R':  (0.8687), 'F1':  (0.8515)},\n",
    "                     'orgbase_on': {'P':  (0.9821), 'R':  (0.9322), 'F1':  (0.9565)},\n",
    "                     'kill': {'P':  (1.), 'R':  (0.9833), 'F1':  (0.9916)}}"
   ]
  },
  {
   "cell_type": "code",
   "execution_count": 24,
   "id": "referenced-russian",
   "metadata": {},
   "outputs": [
    {
     "name": "stdout",
     "output_type": "stream",
     "text": [
      "----------------\n",
      "\n",
      "Results After ILP for the IML in terms of P\n",
      "\n",
      "--Micro--\n",
      "Micro Presicion for Entities:  0.9322593706777318\n",
      "Micro Presicion for Relations:  0.9660052884615384\n",
      "Micro Presicion for All:  0.9365031136638453\n",
      "\n",
      "--Macro--\n",
      "Macro Precision for Entities:  0.930625\n",
      "Macro Precision for Relations:  0.968\n",
      "Macro Precision for All:  0.9513888888888888\n",
      "----------------\n",
      "\n",
      "Results After ILP for the IML in terms of R\n",
      "\n",
      "--Macro--\n",
      "Macro Precision for Entities:  0.74915\n",
      "Macro Precision for Relations:  0.83694\n",
      "Macro Precision for All:  0.7979222222222222\n",
      "----------------\n",
      "\n",
      "Results After ILP for the IML in terms of F1\n",
      "\n",
      "--Macro--\n",
      "Macro Precision for Entities:  0.82385\n",
      "Macro Precision for Relations:  0.8969400000000001\n",
      "Macro Precision for All:  0.8644555555555555\n"
     ]
    }
   ],
   "source": [
    "compute_scores(result_ILP_IML, name=\"IML\", ILP=True)\n",
    "compute_scores(result_ILP_IML, name=\"IML\", ILP=True, criteria=\"R\")\n",
    "compute_scores(result_ILP_IML, name=\"IML\", ILP=True, criteria=\"F1\")"
   ]
  },
  {
   "cell_type": "code",
   "execution_count": 25,
   "id": "sorted-proof",
   "metadata": {},
   "outputs": [
    {
     "name": "stdout",
     "output_type": "stream",
     "text": [
      "----------------\n",
      "\n",
      "Results before ILP for the IML in terms of P\n",
      "\n",
      "--Micro--\n",
      "Micro Presicion for Entities:  0.9069897994467497\n",
      "Micro Presicion for Relations:  0.9356134615384615\n",
      "Micro Presicion for All:  0.9105893893591295\n",
      "\n",
      "--Macro--\n",
      "Macro Precision for Entities:  0.9037499999999999\n",
      "Macro Precision for Relations:  0.9394600000000001\n",
      "Macro Precision for All:  0.9235888888888889\n",
      "----------------\n",
      "\n",
      "Results before ILP for the IML in terms of R\n",
      "\n",
      "--Macro--\n",
      "Macro Precision for Entities:  0.7381000000000001\n",
      "Macro Precision for Relations:  0.91358\n",
      "Macro Precision for All:  0.8355888888888889\n",
      "----------------\n",
      "\n",
      "Results before ILP for the IML in terms of F1\n",
      "\n",
      "--Macro--\n",
      "Macro Precision for Entities:  0.807275\n",
      "Macro Precision for Relations:  0.9258000000000001\n",
      "Macro Precision for All:  0.8731222222222222\n"
     ]
    }
   ],
   "source": [
    "compute_scores(result_argmax_IML, name=\"IML\", ILP=False)\n",
    "compute_scores(result_argmax_IML, name=\"IML\", ILP=False, criteria=\"R\")\n",
    "compute_scores(result_argmax_IML, name=\"IML\", ILP=False, criteria=\"F1\")\n"
   ]
  },
  {
   "cell_type": "code",
   "execution_count": 26,
   "id": "scenic-incident",
   "metadata": {},
   "outputs": [],
   "source": [
    "result_PD = {'people': {'P':  (0.9039), 'R':  (0.9017), 'F1':  (0.9028)}, \n",
    "             'organization': {'P':  (0.6430), 'R':  (0.6063), 'F1':  (0.6241)}, \n",
    "             'location': {'P':  (0.8342), 'R':  (0.8780), 'F1':  (0.8555)}, \n",
    "             'other': {'P':  (0.7316), 'R':  (0.6847), 'F1':  (0.7074)}, \n",
    "             'O': {'P':  (0.9890), 'R':  (0.9910), 'F1':  (0.9900)}, \n",
    "             'work_for': {'P':  (0.8800), 'R':  (0.6286), 'F1':  (0.7333)}, \n",
    "             'located_in': {'P':  (0.6625), 'R':  (0.7681), 'F1':  (0.7114)}, \n",
    "             'live_in': {'P':  (0.8118), 'R':  (0.6970), 'F1':  (0.7500)}, \n",
    "             'orgbase_on': {'P':  (0.8529), 'R':  (0.7373), 'F1':  (0.7909)}, \n",
    "             'kill': {'P':  (1.), 'R':  (0.9833), 'F1':  (0.9916)}}"
   ]
  },
  {
   "cell_type": "code",
   "execution_count": 28,
   "id": "republican-worcester",
   "metadata": {},
   "outputs": [
    {
     "name": "stdout",
     "output_type": "stream",
     "text": [
      "----------------\n",
      "\n",
      "Results before ILP for the PD in terms of P\n",
      "\n",
      "--Micro--\n",
      "Micro Presicion for Entities:  0.7988679806362379\n",
      "Micro Presicion for Relations:  0.8373146634615385\n",
      "Micro Presicion for All:  0.8037028718258767\n",
      "\n",
      "--Macro--\n",
      "Macro Precision for Entities:  0.7781750000000001\n",
      "Macro Precision for Relations:  0.8414400000000001\n",
      "Macro Precision for All:  0.8133222222222223\n",
      "----------------\n",
      "\n",
      "Results before ILP for the PD in terms of R\n",
      "\n",
      "--Macro--\n",
      "Macro Precision for Entities:  0.767675\n",
      "Macro Precision for Relations:  0.76286\n",
      "Macro Precision for All:  0.765\n",
      "----------------\n",
      "\n",
      "Results before ILP for the PD in terms of F1\n",
      "\n",
      "--Macro--\n",
      "Macro Precision for Entities:  0.7724500000000001\n",
      "Macro Precision for Relations:  0.79544\n",
      "Macro Precision for All:  0.7852222222222223\n"
     ]
    }
   ],
   "source": [
    "compute_scores(result_PD, name=\"PD\", ILP=False)\n",
    "compute_scores(result_PD, name=\"PD\", ILP=False, criteria=\"R\")\n",
    "compute_scores(result_PD, name=\"PD\", ILP=False, criteria=\"F1\")"
   ]
  },
  {
   "cell_type": "code",
   "execution_count": 29,
   "id": "south-helicopter",
   "metadata": {},
   "outputs": [],
   "source": [
    "result_IML_ILP_6 = {'people': {'P':  (0.9510), 'R':  (0.8714), 'F1':  (0.9094)}, \n",
    "                    'organization': {'P':  (0.9017), 'R':  (0.6319), 'F1':  (0.7431)}, \n",
    "                    'location': {'P':  (0.9227), 'R':  (0.9033), 'F1':  (0.9129)}, \n",
    "                    'other': {'P':  (0.9623), 'R':  (0.5862), 'F1':  (0.7286)}, \n",
    "                    'O': {'P':  (0.9897), 'R':  (0.9919), 'F1':  (0.9908)}, \n",
    "                    'work_for': {'P':  (0.9259), 'R':  (0.7143), 'F1':  (0.8065)}, \n",
    "                    'located_in': {'P':  (1.), 'R':  (0.8406), 'F1':  (0.9134)}, \n",
    "                    'live_in': {'P':  (0.9529), 'R':  (0.8182), 'F1':  (0.8804)}, \n",
    "                    'orgbase_on': {'P':  (1.), 'R':  (0.8559), 'F1':  (0.9224)}, \n",
    "                    'kill': {'P':  (1.), 'R':  (0.9667), 'F1':  (0.9831)}}\n",
    "result_IML_argmax_6 = {'people': {'P':  (0.9450), 'R':  (0.8556), 'F1':  (0.8981)}, \n",
    "                       'organization': {'P':  (0.8619), 'R':  (0.6142), 'F1':  (0.7172)},\n",
    "                       'location': {'P':  (0.8915), 'R':  (0.8896), 'F1':  (0.8905)},\n",
    "                       'other': {'P':  (0.9351), 'R':  (0.5911), 'F1':  (0.7243)}, \n",
    "                       'O': {'P':  (0.9893), 'R':  (0.9921), 'F1':  (0.9907)}, \n",
    "                       'work_for': {'P':  (0.9286), 'R':  (0.9286), 'F1':  (0.9286)},\n",
    "                       'located_in': {'P':  (0.9375), 'R':  (0.8696), 'F1':  (0.9023)},\n",
    "                       'live_in': {'P':  (0.8515), 'R':  (0.8687), 'F1':  (0.8600)}, \n",
    "                       'orgbase_on': {'P':  (0.9821), 'R':  (0.9322), 'F1':  (0.9565)},\n",
    "                       'kill': {'P':  (1.), 'R':  (0.9833), 'F1':  (0.9916)}}\n"
   ]
  },
  {
   "cell_type": "code",
   "execution_count": 30,
   "id": "statutory-accreditation",
   "metadata": {},
   "outputs": [
    {
     "name": "stdout",
     "output_type": "stream",
     "text": [
      "----------------\n",
      "\n",
      "Results After ILP for the IML in terms of P\n",
      "\n",
      "--Micro--\n",
      "Micro Presicion for Entities:  0.9354135546334716\n",
      "Micro Presicion for Relations:  0.9763223557692307\n",
      "Micro Presicion for All:  0.9405580713422006\n",
      "\n",
      "--Macro--\n",
      "Macro Precision for Entities:  0.934425\n",
      "Macro Precision for Relations:  0.97576\n",
      "Macro Precision for All:  0.957388888888889\n",
      "----------------\n",
      "\n",
      "Results After ILP for the IML in terms of R\n",
      "\n",
      "--Macro--\n",
      "Macro Precision for Entities:  0.7482\n",
      "Macro Precision for Relations:  0.8391400000000001\n",
      "Macro Precision for All:  0.7987222222222222\n",
      "----------------\n",
      "\n",
      "Results After ILP for the IML in terms of F1\n",
      "\n",
      "--Macro--\n",
      "Macro Precision for Entities:  0.8235\n",
      "Macro Precision for Relations:  0.90116\n",
      "Macro Precision for All:  0.8666444444444443\n"
     ]
    }
   ],
   "source": [
    "compute_scores(result_IML_ILP_6, name=\"IML\", ILP=True)\n",
    "compute_scores(result_IML_ILP_6, name=\"IML\", ILP=True, criteria=\"R\")\n",
    "compute_scores(result_IML_ILP_6, name=\"IML\", ILP=True, criteria=\"F1\")"
   ]
  },
  {
   "cell_type": "code",
   "execution_count": 31,
   "id": "north-artist",
   "metadata": {},
   "outputs": [
    {
     "name": "stdout",
     "output_type": "stream",
     "text": [
      "----------------\n",
      "\n",
      "Results before ILP for the IML in terms of P\n",
      "\n",
      "--Micro--\n",
      "Micro Presicion for Entities:  0.9107253112033195\n",
      "Micro Presicion for Relations:  0.9372014423076924\n",
      "Micro Presicion for All:  0.9140548367593713\n",
      "\n",
      "--Macro--\n",
      "Macro Precision for Entities:  0.9083749999999999\n",
      "Macro Precision for Relations:  0.93994\n",
      "Macro Precision for All:  0.9259111111111111\n",
      "----------------\n",
      "\n",
      "Results before ILP for the IML in terms of R\n",
      "\n",
      "--Macro--\n",
      "Macro Precision for Entities:  0.737625\n",
      "Macro Precision for Relations:  0.91648\n",
      "Macro Precision for All:  0.8369888888888889\n",
      "----------------\n",
      "\n",
      "Results before ILP for the IML in terms of F1\n",
      "\n",
      "--Macro--\n",
      "Macro Precision for Entities:  0.8075249999999999\n",
      "Macro Precision for Relations:  0.9278000000000001\n",
      "Macro Precision for All:  0.8743444444444444\n"
     ]
    }
   ],
   "source": [
    "compute_scores(result_IML_argmax_6, name=\"IML\", ILP=False)\n",
    "compute_scores(result_IML_argmax_6, name=\"IML\", ILP=False, criteria=\"R\")\n",
    "compute_scores(result_IML_argmax_6, name=\"IML\", ILP=False, criteria=\"F1\")"
   ]
  },
  {
   "cell_type": "code",
   "execution_count": null,
   "id": "solved-particle",
   "metadata": {},
   "outputs": [],
   "source": []
  }
 ],
 "metadata": {
  "kernelspec": {
   "display_name": "Python 3",
   "language": "python",
   "name": "python3"
  },
  "language_info": {
   "codemirror_mode": {
    "name": "ipython",
    "version": 3
   },
   "file_extension": ".py",
   "mimetype": "text/x-python",
   "name": "python",
   "nbconvert_exporter": "python",
   "pygments_lexer": "ipython3",
   "version": "3.7.10"
  }
 },
 "nbformat": 4,
 "nbformat_minor": 5
}
