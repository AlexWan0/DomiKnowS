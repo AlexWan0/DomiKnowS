{
 "cells": [
  {
   "cell_type": "code",
   "execution_count": 3,
   "id": "armed-effort",
   "metadata": {},
   "outputs": [],
   "source": [
    "import json\n",
    "import torch"
   ]
  },
  {
   "cell_type": "code",
   "execution_count": 4,
   "id": "western-belarus",
   "metadata": {},
   "outputs": [],
   "source": [
    "entities = [\"location\", \"people\", \"organization\", \"other\"]\n",
    "relations = [\"work_for\", \"located_in\", \"live_in\", \"orgbase_on\", \"kill\"]    "
   ]
  },
  {
   "cell_type": "code",
   "execution_count": 5,
   "id": "lonely-cover",
   "metadata": {},
   "outputs": [],
   "source": [
    "def compute_scores(item, name, criteria=\"P\", ILP=False):\n",
    "    if ILP:\n",
    "        state = \"After\"\n",
    "    else:\n",
    "        state = \"before\"\n",
    "        \n",
    "    print(\"----------------\\n\")\n",
    "    print(f'Results {state} ILP for the {name} in terms of {criteria}')\n",
    "    sum_entity = 0\n",
    "    sum_relations = 0\n",
    "    precision_entity = 0\n",
    "    precision_relations = 0\n",
    "    normal_precision_entity = 0\n",
    "    normal_precision_relations = 0\n",
    "    sum_all = 0\n",
    "    precision_all = 0\n",
    "    normal_precision_all = 0\n",
    "    for key in entities:\n",
    "        sum_entity += instances[key]\n",
    "        precision_entity += instances[key] * item[key][criteria]\n",
    "        normal_precision_entity += item[key][criteria]\n",
    "\n",
    "    for key in relations:\n",
    "        sum_relations += instances[key]\n",
    "        precision_relations += instances[key] * item[key][criteria]\n",
    "        normal_precision_relations += item[key][criteria]\n",
    "\n",
    "    sum_all = sum_relations + sum_entity\n",
    "    precision_all = precision_entity + precision_relations\n",
    "    normal_precision_all = normal_precision_relations + normal_precision_entity\n",
    "    \n",
    "    if criteria == \"P\":\n",
    "        print(\"\\n--Micro--\")\n",
    "        print(\"Micro Presicion for Entities: \", precision_entity / sum_entity)\n",
    "        print(\"Micro Presicion for Relations: \", precision_relations / sum_relations)\n",
    "        print(\"Micro Presicion for All: \", precision_all / sum_all)\n",
    "    print(\"\\n--Macro--\")\n",
    "    print(\"Macro Precision for Entities: \", normal_precision_entity / len(entities))\n",
    "    print(\"Macro Precision for Relations: \", normal_precision_relations / len(relations))\n",
    "    print(\"Macro Precision for All: \", normal_precision_all / (len(entities) + len(relations)))"
   ]
  },
  {
   "cell_type": "markdown",
   "id": "exterior-eleven",
   "metadata": {},
   "source": [
    "# Old Results"
   ]
  },
  {
   "cell_type": "code",
   "execution_count": 47,
   "id": "organized-peninsula",
   "metadata": {},
   "outputs": [],
   "source": [
    "instances = {\"location\": 951, \"people\": 824, \"organization\": 508, \"other\": 609, \"work_for\": 70, \"located_in\": 69, \"live_in\": 99, \"orgbase_on\": 118, \"kill\": 60}"
   ]
  },
  {
   "cell_type": "code",
   "execution_count": 48,
   "id": "sixth-challenge",
   "metadata": {},
   "outputs": [],
   "source": [
    "result_ILP = {'people': {'P':  (0.9549), 'R':  (0.9260), 'F1':  (0.9402)},\n",
    "          'organization': {'P':  (0.9009), 'R':  (0.7520), 'F1':  (0.8197)}, \n",
    "          'location': {'P':  (0.9251), 'R':  (0.9222), 'F1':  (0.9236)}, \n",
    "          'other': {'P':  (0.9620), 'R':  (0.6240), 'F1':  (0.7570)}, \n",
    "          'O': {'P':  (0.9915), 'R':  (0.9936), 'F1':  (0.9926)}, \n",
    "          'work_for': {'P':  (0.9375), 'R':  (0.8571), 'F1':  (0.8955)}, \n",
    "          'located_in': {'P':  (1.), 'R':  (0.8551), 'F1':  (0.9219)}, \n",
    "          'live_in': {'P':  (0.9888), 'R':  (0.8889), 'F1':  (0.9362)}, \n",
    "          'orgbase_on': {'P':  (0.9821), 'R':  (0.9322), 'F1':  (0.9565)}, \n",
    "          'kill': {'P':  (1.), 'R':  (0.9833), 'F1':  (0.9916)}}\n",
    "\n",
    "result_argmax = {'people': {'P':  (0.9491), 'R':  (0.9272), 'F1':  (0.9380)},\n",
    "                 'organization': {'P':  (0.8756), 'R':  (0.7343), 'F1':  (0.7987)},\n",
    "                 'location': {'P':  (0.9027), 'R':  (0.9169), 'F1':  (0.9098)},\n",
    "                 'other': {'P':  (0.9200), 'R':  (0.6420), 'F1':  (0.7563)},\n",
    "                 'O': {'P':  (0.9901), 'R':  (0.9939), 'F1':  (0.9920)},\n",
    "                 'work_for': {'P':  (0.9275), 'R':  (0.9143), 'F1':  (0.9209)},\n",
    "                 'located_in': {'P':  (0.9683), 'R':  (0.8841), 'F1':  (0.9242)},\n",
    "                 'live_in': {'P':  (0.8654), 'R':  (0.9091), 'F1':  (0.8867)},\n",
    "                 'orgbase_on': {'P':  (0.9823), 'R':  (0.9407), 'F1':  (0.9610)},\n",
    "                 'kill': {'P':  (1.), 'R':  (0.9833), 'F1':  (0.9916)}}"
   ]
  },
  {
   "cell_type": "code",
   "execution_count": 21,
   "id": "controversial-comedy",
   "metadata": {},
   "outputs": [
    {
     "name": "stdout",
     "output_type": "stream",
     "text": [
      "----------------\n",
      "\n",
      "Results After ILP for the Normal in terms of P\n",
      "\n",
      "--Micro--\n",
      "Micro Presicion for Entities:  0.9371102697095437\n",
      "Micro Presicion for Relations:  0.9817403846153846\n",
      "Micro Presicion for All:  0.9427227629987909\n",
      "\n",
      "--Macro--\n",
      "Macro Precision for Entities:  0.9357249999999999\n",
      "Macro Precision for Relations:  0.9816800000000001\n",
      "Macro Precision for All:  0.9612555555555554\n",
      "----------------\n",
      "\n",
      "Results After ILP for the Normal in terms of R\n",
      "\n",
      "--Macro--\n",
      "Macro Precision for Entities:  0.80605\n",
      "Macro Precision for Relations:  0.9033199999999999\n",
      "Macro Precision for All:  0.8600888888888889\n",
      "----------------\n",
      "\n",
      "Results After ILP for the Normal in terms of F1\n",
      "\n",
      "--Macro--\n",
      "Macro Precision for Entities:  0.860125\n",
      "Macro Precision for Relations:  0.9403400000000002\n",
      "Macro Precision for All:  0.904688888888889\n"
     ]
    }
   ],
   "source": [
    "compute_scores(result_ILP, name=\"Normal\", ILP=True, criteria=\"P\")\n",
    "compute_scores(result_ILP, name=\"Normal\", ILP=True, criteria=\"R\")\n",
    "compute_scores(result_ILP, name=\"Normal\", ILP=True, criteria=\"F1\")"
   ]
  },
  {
   "cell_type": "code",
   "execution_count": 22,
   "id": "accepted-swiss",
   "metadata": {},
   "outputs": [
    {
     "name": "stdout",
     "output_type": "stream",
     "text": [
      "----------------\n",
      "\n",
      "Results before ILP for the Normal in terms of P\n",
      "\n",
      "--Micro--\n",
      "Micro Presicion for Entities:  0.9148032157676348\n",
      "Micro Presicion for Relations:  0.9454896634615385\n",
      "Micro Presicion for All:  0.9186622128174122\n",
      "\n",
      "--Macro--\n",
      "Macro Precision for Entities:  0.9118499999999999\n",
      "Macro Precision for Relations:  0.9486999999999999\n",
      "Macro Precision for All:  0.932322222222222\n",
      "----------------\n",
      "\n",
      "Results before ILP for the Normal in terms of R\n",
      "\n",
      "--Macro--\n",
      "Macro Precision for Entities:  0.8051\n",
      "Macro Precision for Relations:  0.9263\n",
      "Macro Precision for All:  0.8724333333333334\n",
      "----------------\n",
      "\n",
      "Results before ILP for the Normal in terms of F1\n",
      "\n",
      "--Macro--\n",
      "Macro Precision for Entities:  0.8506999999999999\n",
      "Macro Precision for Relations:  0.93688\n",
      "Macro Precision for All:  0.8985777777777777\n"
     ]
    }
   ],
   "source": [
    "compute_scores(result_argmax, name=\"Normal\", ILP=False)\n",
    "compute_scores(result_argmax, name=\"Normal\", ILP=False, criteria=\"R\")\n",
    "compute_scores(result_argmax, name=\"Normal\", ILP=False, criteria=\"F1\")"
   ]
  },
  {
   "cell_type": "code",
   "execution_count": 23,
   "id": "compound-technique",
   "metadata": {},
   "outputs": [],
   "source": [
    "result_ILP_IML = {'people': {'P':  (0.9515), 'R':  (0.8568), 'F1':  (0.9017)}, \n",
    "                  'organization': {'P':  (0.8889), 'R':  (0.6457), 'F1':  (0.7480)},\n",
    "                  'location': {'P':  (0.9190), 'R':  (0.8948), 'F1':  (0.9068)},\n",
    "                  'other': {'P':  (0.9631), 'R':  (0.5993), 'F1':  (0.7389)},\n",
    "                  'O': {'P':  (0.9897), 'R':  (0.9916), 'F1':  (0.9907)},\n",
    "                  'work_for': {'P':  (0.9286), 'R':  (0.7429), 'F1':  (0.8254)},\n",
    "                  'located_in': {'P':  (1.), 'R':  (0.8261), 'F1':  (0.9048)},\n",
    "                  'live_in': {'P':  (0.9310), 'R':  (0.8182), 'F1':  (0.8710)},\n",
    "                  'orgbase_on': {'P':  (0.9804), 'R':  (0.8475), 'F1':  (0.9091)},\n",
    "                  'kill': {'P':  (1.), 'R':  (0.9500), 'F1':  (0.9744)}}\n",
    "\n",
    "result_argmax_IML = {'people': {'P':  (0.9469), 'R':  (0.8434), 'F1':  (0.8922)},\n",
    "                     'organization': {'P':  (0.8556), 'R':  (0.6181), 'F1':  (0.7177)},\n",
    "                     'location': {'P':  (0.8898), 'R':  (0.8833), 'F1':  (0.8865)},\n",
    "                     'other': {'P':  (0.9227), 'R':  (0.6076), 'F1':  (0.7327)},\n",
    "                     'O': {'P':  (0.9889), 'R':  (0.9919), 'F1':  (0.9904)},\n",
    "                     'work_for': {'P':  (0.9286), 'R':  (0.9286), 'F1':  (0.9286)},\n",
    "                     'located_in': {'P':  (0.9516), 'R':  (0.8551), 'F1':  (0.9008)},\n",
    "                     'live_in': {'P':  (0.8350), 'R':  (0.8687), 'F1':  (0.8515)},\n",
    "                     'orgbase_on': {'P':  (0.9821), 'R':  (0.9322), 'F1':  (0.9565)},\n",
    "                     'kill': {'P':  (1.), 'R':  (0.9833), 'F1':  (0.9916)}}"
   ]
  },
  {
   "cell_type": "code",
   "execution_count": 24,
   "id": "balanced-prague",
   "metadata": {},
   "outputs": [
    {
     "name": "stdout",
     "output_type": "stream",
     "text": [
      "----------------\n",
      "\n",
      "Results After ILP for the IML in terms of P\n",
      "\n",
      "--Micro--\n",
      "Micro Presicion for Entities:  0.9322593706777318\n",
      "Micro Presicion for Relations:  0.9660052884615384\n",
      "Micro Presicion for All:  0.9365031136638453\n",
      "\n",
      "--Macro--\n",
      "Macro Precision for Entities:  0.930625\n",
      "Macro Precision for Relations:  0.968\n",
      "Macro Precision for All:  0.9513888888888888\n",
      "----------------\n",
      "\n",
      "Results After ILP for the IML in terms of R\n",
      "\n",
      "--Macro--\n",
      "Macro Precision for Entities:  0.74915\n",
      "Macro Precision for Relations:  0.83694\n",
      "Macro Precision for All:  0.7979222222222222\n",
      "----------------\n",
      "\n",
      "Results After ILP for the IML in terms of F1\n",
      "\n",
      "--Macro--\n",
      "Macro Precision for Entities:  0.82385\n",
      "Macro Precision for Relations:  0.8969400000000001\n",
      "Macro Precision for All:  0.8644555555555555\n"
     ]
    }
   ],
   "source": [
    "compute_scores(result_ILP_IML, name=\"IML\", ILP=True)\n",
    "compute_scores(result_ILP_IML, name=\"IML\", ILP=True, criteria=\"R\")\n",
    "compute_scores(result_ILP_IML, name=\"IML\", ILP=True, criteria=\"F1\")"
   ]
  },
  {
   "cell_type": "code",
   "execution_count": 25,
   "id": "advised-invalid",
   "metadata": {},
   "outputs": [
    {
     "name": "stdout",
     "output_type": "stream",
     "text": [
      "----------------\n",
      "\n",
      "Results before ILP for the IML in terms of P\n",
      "\n",
      "--Micro--\n",
      "Micro Presicion for Entities:  0.9069897994467497\n",
      "Micro Presicion for Relations:  0.9356134615384615\n",
      "Micro Presicion for All:  0.9105893893591295\n",
      "\n",
      "--Macro--\n",
      "Macro Precision for Entities:  0.9037499999999999\n",
      "Macro Precision for Relations:  0.9394600000000001\n",
      "Macro Precision for All:  0.9235888888888889\n",
      "----------------\n",
      "\n",
      "Results before ILP for the IML in terms of R\n",
      "\n",
      "--Macro--\n",
      "Macro Precision for Entities:  0.7381000000000001\n",
      "Macro Precision for Relations:  0.91358\n",
      "Macro Precision for All:  0.8355888888888889\n",
      "----------------\n",
      "\n",
      "Results before ILP for the IML in terms of F1\n",
      "\n",
      "--Macro--\n",
      "Macro Precision for Entities:  0.807275\n",
      "Macro Precision for Relations:  0.9258000000000001\n",
      "Macro Precision for All:  0.8731222222222222\n"
     ]
    }
   ],
   "source": [
    "compute_scores(result_argmax_IML, name=\"IML\", ILP=False)\n",
    "compute_scores(result_argmax_IML, name=\"IML\", ILP=False, criteria=\"R\")\n",
    "compute_scores(result_argmax_IML, name=\"IML\", ILP=False, criteria=\"F1\")\n"
   ]
  },
  {
   "cell_type": "code",
   "execution_count": 26,
   "id": "loved-newcastle",
   "metadata": {},
   "outputs": [],
   "source": [
    "result_PD = {'people': {'P':  (0.9039), 'R':  (0.9017), 'F1':  (0.9028)}, \n",
    "             'organization': {'P':  (0.6430), 'R':  (0.6063), 'F1':  (0.6241)}, \n",
    "             'location': {'P':  (0.8342), 'R':  (0.8780), 'F1':  (0.8555)}, \n",
    "             'other': {'P':  (0.7316), 'R':  (0.6847), 'F1':  (0.7074)}, \n",
    "             'O': {'P':  (0.9890), 'R':  (0.9910), 'F1':  (0.9900)}, \n",
    "             'work_for': {'P':  (0.8800), 'R':  (0.6286), 'F1':  (0.7333)}, \n",
    "             'located_in': {'P':  (0.6625), 'R':  (0.7681), 'F1':  (0.7114)}, \n",
    "             'live_in': {'P':  (0.8118), 'R':  (0.6970), 'F1':  (0.7500)}, \n",
    "             'orgbase_on': {'P':  (0.8529), 'R':  (0.7373), 'F1':  (0.7909)}, \n",
    "             'kill': {'P':  (1.), 'R':  (0.9833), 'F1':  (0.9916)}}"
   ]
  },
  {
   "cell_type": "code",
   "execution_count": 28,
   "id": "sitting-belief",
   "metadata": {},
   "outputs": [
    {
     "name": "stdout",
     "output_type": "stream",
     "text": [
      "----------------\n",
      "\n",
      "Results before ILP for the PD in terms of P\n",
      "\n",
      "--Micro--\n",
      "Micro Presicion for Entities:  0.7988679806362379\n",
      "Micro Presicion for Relations:  0.8373146634615385\n",
      "Micro Presicion for All:  0.8037028718258767\n",
      "\n",
      "--Macro--\n",
      "Macro Precision for Entities:  0.7781750000000001\n",
      "Macro Precision for Relations:  0.8414400000000001\n",
      "Macro Precision for All:  0.8133222222222223\n",
      "----------------\n",
      "\n",
      "Results before ILP for the PD in terms of R\n",
      "\n",
      "--Macro--\n",
      "Macro Precision for Entities:  0.767675\n",
      "Macro Precision for Relations:  0.76286\n",
      "Macro Precision for All:  0.765\n",
      "----------------\n",
      "\n",
      "Results before ILP for the PD in terms of F1\n",
      "\n",
      "--Macro--\n",
      "Macro Precision for Entities:  0.7724500000000001\n",
      "Macro Precision for Relations:  0.79544\n",
      "Macro Precision for All:  0.7852222222222223\n"
     ]
    }
   ],
   "source": [
    "compute_scores(result_PD, name=\"PD\", ILP=False)\n",
    "compute_scores(result_PD, name=\"PD\", ILP=False, criteria=\"R\")\n",
    "compute_scores(result_PD, name=\"PD\", ILP=False, criteria=\"F1\")"
   ]
  },
  {
   "cell_type": "code",
   "execution_count": 29,
   "id": "legitimate-closure",
   "metadata": {},
   "outputs": [],
   "source": [
    "result_IML_ILP_6 = {'people': {'P':  (0.9510), 'R':  (0.8714), 'F1':  (0.9094)}, \n",
    "                    'organization': {'P':  (0.9017), 'R':  (0.6319), 'F1':  (0.7431)}, \n",
    "                    'location': {'P':  (0.9227), 'R':  (0.9033), 'F1':  (0.9129)}, \n",
    "                    'other': {'P':  (0.9623), 'R':  (0.5862), 'F1':  (0.7286)}, \n",
    "                    'O': {'P':  (0.9897), 'R':  (0.9919), 'F1':  (0.9908)}, \n",
    "                    'work_for': {'P':  (0.9259), 'R':  (0.7143), 'F1':  (0.8065)}, \n",
    "                    'located_in': {'P':  (1.), 'R':  (0.8406), 'F1':  (0.9134)}, \n",
    "                    'live_in': {'P':  (0.9529), 'R':  (0.8182), 'F1':  (0.8804)}, \n",
    "                    'orgbase_on': {'P':  (1.), 'R':  (0.8559), 'F1':  (0.9224)}, \n",
    "                    'kill': {'P':  (1.), 'R':  (0.9667), 'F1':  (0.9831)}}\n",
    "result_IML_argmax_6 = {'people': {'P':  (0.9450), 'R':  (0.8556), 'F1':  (0.8981)}, \n",
    "                       'organization': {'P':  (0.8619), 'R':  (0.6142), 'F1':  (0.7172)},\n",
    "                       'location': {'P':  (0.8915), 'R':  (0.8896), 'F1':  (0.8905)},\n",
    "                       'other': {'P':  (0.9351), 'R':  (0.5911), 'F1':  (0.7243)}, \n",
    "                       'O': {'P':  (0.9893), 'R':  (0.9921), 'F1':  (0.9907)}, \n",
    "                       'work_for': {'P':  (0.9286), 'R':  (0.9286), 'F1':  (0.9286)},\n",
    "                       'located_in': {'P':  (0.9375), 'R':  (0.8696), 'F1':  (0.9023)},\n",
    "                       'live_in': {'P':  (0.8515), 'R':  (0.8687), 'F1':  (0.8600)}, \n",
    "                       'orgbase_on': {'P':  (0.9821), 'R':  (0.9322), 'F1':  (0.9565)},\n",
    "                       'kill': {'P':  (1.), 'R':  (0.9833), 'F1':  (0.9916)}}\n"
   ]
  },
  {
   "cell_type": "code",
   "execution_count": 30,
   "id": "dedicated-experiment",
   "metadata": {},
   "outputs": [
    {
     "name": "stdout",
     "output_type": "stream",
     "text": [
      "----------------\n",
      "\n",
      "Results After ILP for the IML in terms of P\n",
      "\n",
      "--Micro--\n",
      "Micro Presicion for Entities:  0.9354135546334716\n",
      "Micro Presicion for Relations:  0.9763223557692307\n",
      "Micro Presicion for All:  0.9405580713422006\n",
      "\n",
      "--Macro--\n",
      "Macro Precision for Entities:  0.934425\n",
      "Macro Precision for Relations:  0.97576\n",
      "Macro Precision for All:  0.957388888888889\n",
      "----------------\n",
      "\n",
      "Results After ILP for the IML in terms of R\n",
      "\n",
      "--Macro--\n",
      "Macro Precision for Entities:  0.7482\n",
      "Macro Precision for Relations:  0.8391400000000001\n",
      "Macro Precision for All:  0.7987222222222222\n",
      "----------------\n",
      "\n",
      "Results After ILP for the IML in terms of F1\n",
      "\n",
      "--Macro--\n",
      "Macro Precision for Entities:  0.8235\n",
      "Macro Precision for Relations:  0.90116\n",
      "Macro Precision for All:  0.8666444444444443\n"
     ]
    }
   ],
   "source": [
    "compute_scores(result_IML_ILP_6, name=\"IML\", ILP=True)\n",
    "compute_scores(result_IML_ILP_6, name=\"IML\", ILP=True, criteria=\"R\")\n",
    "compute_scores(result_IML_ILP_6, name=\"IML\", ILP=True, criteria=\"F1\")"
   ]
  },
  {
   "cell_type": "code",
   "execution_count": 31,
   "id": "minute-conversion",
   "metadata": {},
   "outputs": [
    {
     "name": "stdout",
     "output_type": "stream",
     "text": [
      "----------------\n",
      "\n",
      "Results before ILP for the IML in terms of P\n",
      "\n",
      "--Micro--\n",
      "Micro Presicion for Entities:  0.9107253112033195\n",
      "Micro Presicion for Relations:  0.9372014423076924\n",
      "Micro Presicion for All:  0.9140548367593713\n",
      "\n",
      "--Macro--\n",
      "Macro Precision for Entities:  0.9083749999999999\n",
      "Macro Precision for Relations:  0.93994\n",
      "Macro Precision for All:  0.9259111111111111\n",
      "----------------\n",
      "\n",
      "Results before ILP for the IML in terms of R\n",
      "\n",
      "--Macro--\n",
      "Macro Precision for Entities:  0.737625\n",
      "Macro Precision for Relations:  0.91648\n",
      "Macro Precision for All:  0.8369888888888889\n",
      "----------------\n",
      "\n",
      "Results before ILP for the IML in terms of F1\n",
      "\n",
      "--Macro--\n",
      "Macro Precision for Entities:  0.8075249999999999\n",
      "Macro Precision for Relations:  0.9278000000000001\n",
      "Macro Precision for All:  0.8743444444444444\n"
     ]
    }
   ],
   "source": [
    "compute_scores(result_IML_argmax_6, name=\"IML\", ILP=False)\n",
    "compute_scores(result_IML_argmax_6, name=\"IML\", ILP=False, criteria=\"R\")\n",
    "compute_scores(result_IML_argmax_6, name=\"IML\", ILP=False, criteria=\"F1\")"
   ]
  },
  {
   "cell_type": "markdown",
   "id": "otherwise-transportation",
   "metadata": {},
   "source": [
    "# New Results"
   ]
  },
  {
   "cell_type": "code",
   "execution_count": 6,
   "id": "organic-recovery",
   "metadata": {},
   "outputs": [],
   "source": [
    "instances = {\"location\": 915, \"people\": 774, \"organization\": 504, \"other\": 635, \"work_for\": 71, \"located_in\": 89, \"live_in\": 81, \"orgbase_on\": 70, \"kill\": 62}"
   ]
  },
  {
   "cell_type": "code",
   "execution_count": 7,
   "id": "found-discretion",
   "metadata": {},
   "outputs": [],
   "source": [
    "result_25_ILP = {'people': {'P':  (0.9458), 'R':  (0.9251), 'F1':  (0.9353)}, 'organization': {'P':  (0.8036), 'R':  (0.8036), 'F1':  (0.8036)}, 'location': {'P':  (0.8891), 'R':  (0.9202), 'F1':  (0.9044)}, 'other': {'P':  (0.9489), 'R':  (0.6142), 'F1':  (0.7457)}, 'O': {'P':  (0.9870), 'R':  (0.9957), 'F1':  (0.9913)}, 'work_for': {'P':  (0.9828), 'R':  (0.8028), 'F1':  (0.8837)}, 'located_in': {'P':  (1.), 'R':  (0.6143), 'F1':  (0.7611)}, 'live_in': {'P':  (0.9841), 'R':  (0.6813), 'F1':  (0.8052)}, 'orgbase_on': {'P':  (0.9639), 'R':  (0.8989), 'F1':  (0.9302)}, 'kill': {'P':  (1.), 'R':  (0.8548), 'F1':  (0.9217)}}\n",
    "result_25_argmax = {'people': {'P':  (0.9488), 'R':  (0.8618), 'F1':  (0.9032)}, 'organization': {'P':  (0.8166), 'R':  (0.7421), 'F1':  (0.7775)}, 'location': {'P':  (0.9068), 'R':  (0.8831), 'F1':  (0.8948)}, 'other': {'P':  (0.9223), 'R':  (0.5606), 'F1':  (0.6974)}, 'O': {'P':  (0.9889), 'R':  (0.9927), 'F1':  (0.9908)}, 'work_for': {'P':  (0.9385), 'R':  (0.8592), 'F1':  (0.8971)}, 'located_in': {'P':  (1.), 'R':  (0.6429), 'F1':  (0.7826)}, 'live_in': {'P':  (0.9306), 'R':  (0.7363), 'F1':  (0.8221)}, 'orgbase_on': {'P':  (0.9333), 'R':  (0.9438), 'F1':  (0.9385)}, 'kill': {'P':  (1.), 'R':  (0.8548), 'F1':  (0.9217)}}"
   ]
  },
  {
   "cell_type": "code",
   "execution_count": 8,
   "id": "looking-vault",
   "metadata": {},
   "outputs": [
    {
     "name": "stdout",
     "output_type": "stream",
     "text": [
      "----------------\n",
      "\n",
      "Results After ILP for the Normal in terms of P\n",
      "\n",
      "--Micro--\n",
      "Micro Presicion for Entities:  0.9028082036775106\n",
      "Micro Presicion for Relations:  0.9864983914209114\n",
      "Micro Presicion for All:  0.9125602936582317\n",
      "\n",
      "--Macro--\n",
      "Macro Precision for Entities:  0.89685\n",
      "Macro Precision for Relations:  0.9861599999999999\n",
      "Macro Precision for All:  0.9464666666666667\n",
      "----------------\n",
      "\n",
      "Results After ILP for the Normal in terms of R\n",
      "\n",
      "--Macro--\n",
      "Macro Precision for Entities:  0.8157749999999999\n",
      "Macro Precision for Relations:  0.77042\n",
      "Macro Precision for All:  0.7905777777777777\n",
      "----------------\n",
      "\n",
      "Results After ILP for the Normal in terms of F1\n",
      "\n",
      "--Macro--\n",
      "Macro Precision for Entities:  0.8472500000000001\n",
      "Macro Precision for Relations:  0.8603799999999999\n",
      "Macro Precision for All:  0.8545444444444444\n"
     ]
    }
   ],
   "source": [
    "compute_scores(result_25_ILP, name=\"Normal\", ILP=True)\n",
    "compute_scores(result_25_ILP, name=\"Normal\", ILP=True, criteria=\"R\")\n",
    "compute_scores(result_25_ILP, name=\"Normal\", ILP=True, criteria=\"F1\")"
   ]
  },
  {
   "cell_type": "code",
   "execution_count": 9,
   "id": "perceived-cardiff",
   "metadata": {},
   "outputs": [
    {
     "name": "stdout",
     "output_type": "stream",
     "text": [
      "----------------\n",
      "\n",
      "Results before ILP for the Normal in terms of P\n",
      "\n",
      "--Micro--\n",
      "Micro Presicion for Entities:  0.9057001768033945\n",
      "Micro Presicion for Relations:  0.9607053619302949\n",
      "Micro Presicion for All:  0.9121097157138394\n",
      "\n",
      "--Macro--\n",
      "Macro Precision for Entities:  0.898625\n",
      "Macro Precision for Relations:  0.9604800000000001\n",
      "Macro Precision for All:  0.932988888888889\n",
      "----------------\n",
      "\n",
      "Results before ILP for the Normal in terms of R\n",
      "\n",
      "--Macro--\n",
      "Macro Precision for Entities:  0.7619\n",
      "Macro Precision for Relations:  0.8074\n",
      "Macro Precision for All:  0.7871777777777778\n",
      "----------------\n",
      "\n",
      "Results before ILP for the Normal in terms of F1\n",
      "\n",
      "--Macro--\n",
      "Macro Precision for Entities:  0.818225\n",
      "Macro Precision for Relations:  0.8724000000000001\n",
      "Macro Precision for All:  0.8483222222222222\n"
     ]
    }
   ],
   "source": [
    "compute_scores(result_25_argmax, name=\"Normal\", ILP=False)\n",
    "compute_scores(result_25_argmax, name=\"Normal\", ILP=False, criteria=\"R\")\n",
    "compute_scores(result_25_argmax, name=\"Normal\", ILP=False, criteria=\"F1\")"
   ]
  },
  {
   "cell_type": "code",
   "execution_count": 10,
   "id": "assigned-stake",
   "metadata": {},
   "outputs": [],
   "source": [
    "result_IML_25_ILP = {'people': {'P':  (0.9255), 'R':  (0.8501), 'F1':  (0.8862)}, 'organization': {'P':  (0.8152), 'R':  (0.7004), 'F1':  (0.7535)}, 'location': {'P':  (0.8493), 'R':  (0.8929), 'F1':  (0.8705)}, 'other': {'P':  (0.9504), 'R':  (0.5433), 'F1':  (0.6914)}, 'O': {'P':  (0.9810), 'R':  (0.9957), 'F1':  (0.9883)}, 'work_for': {'P':  (0.9815), 'R':  (0.7465), 'F1':  (0.8480)}, 'located_in': {'P':  (1.), 'R':  (0.5429), 'F1':  (0.7037)}, 'live_in': {'P':  (0.9672), 'R':  (0.6484), 'F1':  (0.7763)}, 'orgbase_on': {'P':  (0.9487), 'R':  (0.8315), 'F1':  (0.8862)}, 'kill': {'P':  (1.), 'R':  (0.7903), 'F1':  (0.8829)}}\n",
    "result_IML_25_argmax = {'people': {'P':  (0.9428), 'R':  (0.7235), 'F1':  (0.8187)}, 'organization': {'P':  (0.8410), 'R':  (0.5774), 'F1':  (0.6847)}, 'location': {'P':  (0.8919), 'R':  (0.7847), 'F1':  (0.8349)}, 'other': {'P':  (0.9003), 'R':  (0.5118), 'F1':  (0.6526)}, 'O': {'P':  (0.9862), 'R':  (0.9926), 'F1':  (0.9894)}, 'work_for': {'P':  (0.9231), 'R':  (0.8451), 'F1':  (0.8824)}, 'located_in': {'P':  (1.), 'R':  (0.5857), 'F1':  (0.7387)}, 'live_in': {'P':  (0.9412), 'R':  (0.7033), 'F1':  (0.8050)}, 'orgbase_on': {'P':  (0.9149), 'R':  (0.9663), 'F1':  (0.9399)}, 'kill': {'P':  (1.), 'R':  (0.8387), 'F1':  (0.9123)}}"
   ]
  },
  {
   "cell_type": "code",
   "execution_count": 11,
   "id": "difficult-hungary",
   "metadata": {},
   "outputs": [
    {
     "name": "stdout",
     "output_type": "stream",
     "text": [
      "----------------\n",
      "\n",
      "Results After ILP for the IML in terms of P\n",
      "\n",
      "--Micro--\n",
      "Micro Presicion for Entities:  0.8867791018387553\n",
      "Micro Presicion for Relations:  0.9797284182305631\n",
      "Micro Presicion for All:  0.897610121836926\n",
      "\n",
      "--Macro--\n",
      "Macro Precision for Entities:  0.8851\n",
      "Macro Precision for Relations:  0.97948\n",
      "Macro Precision for All:  0.9375333333333332\n",
      "----------------\n",
      "\n",
      "Results After ILP for the IML in terms of R\n",
      "\n",
      "--Macro--\n",
      "Macro Precision for Entities:  0.746675\n",
      "Macro Precision for Relations:  0.7119200000000001\n",
      "Macro Precision for All:  0.7273666666666667\n",
      "----------------\n",
      "\n",
      "Results After ILP for the IML in terms of F1\n",
      "\n",
      "--Macro--\n",
      "Macro Precision for Entities:  0.8004\n",
      "Macro Precision for Relations:  0.81942\n",
      "Macro Precision for All:  0.8109666666666667\n"
     ]
    }
   ],
   "source": [
    "compute_scores(result_IML_25_ILP, name=\"IML\", ILP=True)\n",
    "compute_scores(result_IML_25_ILP, name=\"IML\", ILP=True, criteria=\"R\")\n",
    "compute_scores(result_IML_25_ILP, name=\"IML\", ILP=True, criteria=\"F1\")"
   ]
  },
  {
   "cell_type": "code",
   "execution_count": 12,
   "id": "visible-depth",
   "metadata": {},
   "outputs": [
    {
     "name": "stdout",
     "output_type": "stream",
     "text": [
      "----------------\n",
      "\n",
      "Results before ILP for the IML in terms of P\n",
      "\n",
      "--Micro--\n",
      "Micro Presicion for Entities:  0.8986457567185291\n",
      "Micro Presicion for Relations:  0.9566227882037532\n",
      "Micro Presicion for All:  0.9054015932521088\n",
      "\n",
      "--Macro--\n",
      "Macro Precision for Entities:  0.894\n",
      "Macro Precision for Relations:  0.95584\n",
      "Macro Precision for All:  0.9283555555555556\n",
      "----------------\n",
      "\n",
      "Results before ILP for the IML in terms of R\n",
      "\n",
      "--Macro--\n",
      "Macro Precision for Entities:  0.64935\n",
      "Macro Precision for Relations:  0.78782\n",
      "Macro Precision for All:  0.7262777777777778\n",
      "----------------\n",
      "\n",
      "Results before ILP for the IML in terms of F1\n",
      "\n",
      "--Macro--\n",
      "Macro Precision for Entities:  0.747725\n",
      "Macro Precision for Relations:  0.85566\n",
      "Macro Precision for All:  0.8076888888888889\n"
     ]
    }
   ],
   "source": [
    "compute_scores(result_IML_25_argmax, name=\"IML\", ILP=False)\n",
    "compute_scores(result_IML_25_argmax, name=\"IML\", ILP=False, criteria=\"R\")\n",
    "compute_scores(result_IML_25_argmax, name=\"IML\", ILP=False, criteria=\"F1\")"
   ]
  },
  {
   "cell_type": "code",
   "execution_count": 13,
   "id": "conventional-access",
   "metadata": {},
   "outputs": [],
   "source": [
    "result_PD_25_argmax = {'people': {'P':  (0.9506), 'R':  (0.8695), 'F1':  (0.9082)}, 'organization': {'P':  (0.8304), 'R':  (0.7381), 'F1':  (0.7815)}, 'location': {'P':  (0.8972), 'R':  (0.8874), 'F1':  (0.8923)}, 'other': {'P':  (0.9231), 'R':  (0.5669), 'F1':  (0.7024)}, 'O': {'P':  (0.9887), 'R':  (0.9929), 'F1':  (0.9908)}, 'work_for': {'P':  (0.9375), 'R':  (0.8451), 'F1':  (0.8889)}, 'located_in': {'P':  (1.), 'R':  (0.6286), 'F1':  (0.7719)}, 'live_in': {'P':  (0.9054), 'R':  (0.7363), 'F1':  (0.8121)}, 'orgbase_on': {'P':  (0.9195), 'R':  (0.8989), 'F1':  (0.9091)}, 'kill': {'P':  (1.), 'R':  (0.8387), 'F1':  (0.9123)}}"
   ]
  },
  {
   "cell_type": "code",
   "execution_count": 14,
   "id": "mineral-function",
   "metadata": {},
   "outputs": [
    {
     "name": "stdout",
     "output_type": "stream",
     "text": [
      "----------------\n",
      "\n",
      "Results before ILP for the PD in terms of P\n",
      "\n",
      "--Micro--\n",
      "Micro Presicion for Entities:  0.9057257779349364\n",
      "Micro Presicion for Relations:  0.9524528150134048\n",
      "Micro Presicion for All:  0.9111706966572947\n",
      "\n",
      "--Macro--\n",
      "Macro Precision for Entities:  0.900325\n",
      "Macro Precision for Relations:  0.9524800000000001\n",
      "Macro Precision for All:  0.9293000000000001\n",
      "----------------\n",
      "\n",
      "Results before ILP for the PD in terms of R\n",
      "\n",
      "--Macro--\n",
      "Macro Precision for Entities:  0.765475\n",
      "Macro Precision for Relations:  0.7895200000000001\n",
      "Macro Precision for All:  0.7788333333333335\n",
      "----------------\n",
      "\n",
      "Results before ILP for the PD in terms of F1\n",
      "\n",
      "--Macro--\n",
      "Macro Precision for Entities:  0.8210999999999999\n",
      "Macro Precision for Relations:  0.85886\n",
      "Macro Precision for All:  0.8420777777777777\n"
     ]
    }
   ],
   "source": [
    "compute_scores(result_PD_25_argmax, name=\"PD\", ILP=False)\n",
    "compute_scores(result_PD_25_argmax, name=\"PD\", ILP=False, criteria=\"R\")\n",
    "compute_scores(result_PD_25_argmax, name=\"PD\", ILP=False, criteria=\"F1\")"
   ]
  },
  {
   "cell_type": "code",
   "execution_count": 15,
   "id": "potential-indian",
   "metadata": {},
   "outputs": [],
   "source": [
    "result_PD_argmax = {'people': {'P':  (0.9499), 'R':  (0.9315), 'F1':  (0.9406)}, 'organization': {'P':  (0.8343), 'R':  (0.8393), 'F1':  (0.8368)}, 'location': {'P':  (0.9336), 'R':  (0.8907), 'F1':  (0.9116)}, 'other': {'P':  (0.9236), 'R':  (0.6472), 'F1':  (0.7611)}, 'O': {'P':  (0.9902), 'R':  (0.9937), 'F1':  (0.9920)}, 'work_for': {'P':  (0.9296), 'R':  (0.9296), 'F1':  (0.9296)}, 'located_in': {'P':  (0.9412), 'R':  (0.9143), 'F1':  (0.9275)}, 'live_in': {'P':  (0.8764), 'R':  (0.8571), 'F1':  (0.8667)}, 'orgbase_on': {'P':  (0.9213), 'R':  (0.9213), 'F1':  (0.9213)}, 'kill': {'P':  (1.), 'R':  (0.9516), 'F1':  (0.9752)}} "
   ]
  },
  {
   "cell_type": "code",
   "execution_count": 16,
   "id": "current-christopher",
   "metadata": {},
   "outputs": [
    {
     "name": "stdout",
     "output_type": "stream",
     "text": [
      "----------------\n",
      "\n",
      "Results before ILP for the PD in terms of P\n",
      "\n",
      "--Micro--\n",
      "Micro Presicion for Entities:  0.9181187411598303\n",
      "Micro Presicion for Relations:  0.9309592493297587\n",
      "Micro Presicion for All:  0.9196149953139644\n",
      "\n",
      "--Macro--\n",
      "Macro Precision for Entities:  0.91035\n",
      "Macro Precision for Relations:  0.9337\n",
      "Macro Precision for All:  0.9233222222222222\n",
      "----------------\n",
      "\n",
      "Results before ILP for the PD in terms of R\n",
      "\n",
      "--Macro--\n",
      "Macro Precision for Entities:  0.827175\n",
      "Macro Precision for Relations:  0.91478\n",
      "Macro Precision for All:  0.8758444444444444\n",
      "----------------\n",
      "\n",
      "Results before ILP for the PD in terms of F1\n",
      "\n",
      "--Macro--\n",
      "Macro Precision for Entities:  0.862525\n",
      "Macro Precision for Relations:  0.9240599999999999\n",
      "Macro Precision for All:  0.896711111111111\n"
     ]
    }
   ],
   "source": [
    "compute_scores(result_PD_argmax, name=\"PD\", ILP=False)\n",
    "compute_scores(result_PD_argmax, name=\"PD\", ILP=False, criteria=\"R\")\n",
    "compute_scores(result_PD_argmax, name=\"PD\", ILP=False, criteria=\"F1\")"
   ]
  },
  {
   "cell_type": "code",
   "execution_count": 17,
   "id": "dimensional-blackberry",
   "metadata": {},
   "outputs": [],
   "source": [
    "result_argmax = {'people': {'P':  (0.9485), 'R':  (0.9289), 'F1':  (0.9386)}, 'organization': {'P':  (0.8330), 'R':  (0.8413), 'F1':  (0.8371)}, 'location': {'P':  (0.9291), 'R':  (0.8874), 'F1':  (0.9078)}, 'other': {'P':  (0.9247), 'R':  (0.6378), 'F1':  (0.7549)}, 'O': {'P':  (0.9901), 'R':  (0.9940), 'F1':  (0.9921)}, 'work_for': {'P':  (0.9559), 'R':  (0.9155), 'F1':  (0.9353)}, 'located_in': {'P':  (0.9552), 'R':  (0.9143), 'F1':  (0.9343)}, 'live_in': {'P':  (0.9080), 'R':  (0.8681), 'F1':  (0.8876)}, 'orgbase_on': {'P':  (0.9535), 'R':  (0.9213), 'F1':  (0.9371)}, 'kill': {'P':  (1.), 'R':  (0.9516), 'F1':  (0.9752)}} \n",
    "result_ILP = {'people': {'P':  (0.9447), 'R':  (0.9483), 'F1':  (0.9465)}, 'organization': {'P':  (0.8387), 'R':  (0.8770), 'F1':  (0.8574)}, 'location': {'P':  (0.9237), 'R':  (0.9388), 'F1':  (0.9312)}, 'other': {'P':  (0.9371), 'R':  (0.6567), 'F1':  (0.7722)}, 'O': {'P':  (0.9896), 'R':  (0.9957), 'F1':  (0.9927)}, 'work_for': {'P':  (0.9841), 'R':  (0.8732), 'F1':  (0.9254)}, 'located_in': {'P':  (0.9846), 'R':  (0.9143), 'F1':  (0.9481)}, 'live_in': {'P':  (1.), 'R':  (0.8681), 'F1':  (0.9294)}, 'orgbase_on': {'P':  (0.9759), 'R':  (0.9101), 'F1':  (0.9419)}, 'kill': {'P':  (1.), 'R':  (0.9516), 'F1':  (0.9752)}}"
   ]
  },
  {
   "cell_type": "code",
   "execution_count": 18,
   "id": "aware-diamond",
   "metadata": {},
   "outputs": [
    {
     "name": "stdout",
     "output_type": "stream",
     "text": [
      "----------------\n",
      "\n",
      "Results After ILP for the Normal in terms of P\n",
      "\n",
      "--Micro--\n",
      "Micro Presicion for Entities:  0.9173078500707214\n",
      "Micro Presicion for Relations:  0.9887761394101876\n",
      "Micro Presicion for All:  0.9256357700718526\n",
      "\n",
      "--Macro--\n",
      "Macro Precision for Entities:  0.9110499999999999\n",
      "Macro Precision for Relations:  0.98892\n",
      "Macro Precision for All:  0.954311111111111\n",
      "----------------\n",
      "\n",
      "Results After ILP for the Normal in terms of R\n",
      "\n",
      "--Macro--\n",
      "Macro Precision for Entities:  0.8552\n",
      "Macro Precision for Relations:  0.9034600000000002\n",
      "Macro Precision for All:  0.8820111111111112\n",
      "----------------\n",
      "\n",
      "Results After ILP for the Normal in terms of F1\n",
      "\n",
      "--Macro--\n",
      "Macro Precision for Entities:  0.876825\n",
      "Macro Precision for Relations:  0.944\n",
      "Macro Precision for All:  0.9141444444444444\n"
     ]
    }
   ],
   "source": [
    "compute_scores(result_ILP, name=\"Normal\", ILP=True)\n",
    "compute_scores(result_ILP, name=\"Normal\", ILP=True, criteria=\"R\")\n",
    "compute_scores(result_ILP, name=\"Normal\", ILP=True, criteria=\"F1\")"
   ]
  },
  {
   "cell_type": "code",
   "execution_count": 19,
   "id": "binary-thought",
   "metadata": {},
   "outputs": [
    {
     "name": "stdout",
     "output_type": "stream",
     "text": [
      "----------------\n",
      "\n",
      "Results before ILP for the Normal in terms of P\n",
      "\n",
      "--Micro--\n",
      "Micro Presicion for Entities:  0.9162949080622347\n",
      "Micro Presicion for Relations:  0.9522109919571047\n",
      "Micro Presicion for All:  0.9204800687285223\n",
      "\n",
      "--Macro--\n",
      "Macro Precision for Entities:  0.9088250000000001\n",
      "Macro Precision for Relations:  0.9545200000000001\n",
      "Macro Precision for All:  0.9342111111111113\n",
      "----------------\n",
      "\n",
      "Results before ILP for the Normal in terms of R\n",
      "\n",
      "--Macro--\n",
      "Macro Precision for Entities:  0.82385\n",
      "Macro Precision for Relations:  0.9141600000000001\n",
      "Macro Precision for All:  0.8740222222222223\n",
      "----------------\n",
      "\n",
      "Results before ILP for the Normal in terms of F1\n",
      "\n",
      "--Macro--\n",
      "Macro Precision for Entities:  0.8596\n",
      "Macro Precision for Relations:  0.9339000000000001\n",
      "Macro Precision for All:  0.9008777777777779\n"
     ]
    }
   ],
   "source": [
    "compute_scores(result_argmax, name=\"Normal\", ILP=False)\n",
    "compute_scores(result_argmax, name=\"Normal\", ILP=False, criteria=\"R\")\n",
    "compute_scores(result_argmax, name=\"Normal\", ILP=False, criteria=\"F1\")"
   ]
  },
  {
   "cell_type": "code",
   "execution_count": 21,
   "id": "liberal-problem",
   "metadata": {},
   "outputs": [],
   "source": [
    "result_iml_ILP = {'people': {'P':  (0.9461), 'R':  (0.9302), 'F1':  (0.9381)}, 'organization': {'P':  (0.8340), 'R':  (0.8472), 'F1':  (0.8406)}, 'location': {'P':  (0.9098), 'R':  (0.9257), 'F1':  (0.9177)}, 'other': {'P':  (0.9294), 'R':  (0.6220), 'F1':  (0.7453)}, 'O': {'P':  (0.9874), 'R':  (0.9956), 'F1':  (0.9915)}, 'work_for': {'P':  (0.9844), 'R':  (0.8873), 'F1':  (0.9333)}, 'located_in': {'P':  (0.9833), 'R':  (0.8429), 'F1':  (0.9077)}, 'live_in': {'P':  (1.), 'R':  (0.8352), 'F1':  (0.9102)}, 'orgbase_on': {'P':  (0.9762), 'R':  (0.9213), 'F1':  (0.9480)}, 'kill': {'P':  (1.), 'R':  (0.9355), 'F1':  (0.9667)}}\n",
    "result_iml_argmax = {'people': {'P':  (0.9471), 'R':  (0.8786), 'F1':  (0.9115)}, 'organization': {'P':  (0.8340), 'R':  (0.7778), 'F1':  (0.8049)}, 'location': {'P':  (0.9152), 'R':  (0.8732), 'F1':  (0.8937)}, 'other': {'P':  (0.8902), 'R':  (0.5874), 'F1':  (0.7078)}, 'O': {'P':  (0.9888), 'R':  (0.9931), 'F1':  (0.9909)}, 'work_for': {'P':  (0.9429), 'R':  (0.9296), 'F1':  (0.9362)}, 'located_in': {'P':  (0.9385), 'R':  (0.8714), 'F1':  (0.9037)}, 'live_in': {'P':  (0.9268), 'R':  (0.8352), 'F1':  (0.8786)}, 'orgbase_on': {'P':  (0.9333), 'R':  (0.9438), 'F1':  (0.9385)}, 'kill': {'P':  (1.), 'R':  (0.9355), 'F1':  (0.9667)}} "
   ]
  },
  {
   "cell_type": "code",
   "execution_count": 22,
   "id": "conceptual-champagne",
   "metadata": {},
   "outputs": [
    {
     "name": "stdout",
     "output_type": "stream",
     "text": [
      "----------------\n",
      "\n",
      "Results After ILP for the IML in terms of P\n",
      "\n",
      "--Micro--\n",
      "Micro Presicion for Entities:  0.9106270862800566\n",
      "Micro Presicion for Relations:  0.9885793565683646\n",
      "Micro Presicion for All:  0.9197105592002499\n",
      "\n",
      "--Macro--\n",
      "Macro Precision for Entities:  0.904825\n",
      "Macro Precision for Relations:  0.9887799999999999\n",
      "Macro Precision for All:  0.9514666666666665\n",
      "----------------\n",
      "\n",
      "Results After ILP for the IML in terms of R\n",
      "\n",
      "--Macro--\n",
      "Macro Precision for Entities:  0.831275\n",
      "Macro Precision for Relations:  0.88444\n",
      "Macro Precision for All:  0.8608111111111111\n",
      "----------------\n",
      "\n",
      "Results After ILP for the IML in terms of F1\n",
      "\n",
      "--Macro--\n",
      "Macro Precision for Entities:  0.8604249999999999\n",
      "Macro Precision for Relations:  0.9331799999999999\n",
      "Macro Precision for All:  0.9008444444444444\n"
     ]
    }
   ],
   "source": [
    "compute_scores(result_iml_ILP, name=\"IML\", ILP=True)\n",
    "compute_scores(result_iml_ILP, name=\"IML\", ILP=True, criteria=\"R\")\n",
    "compute_scores(result_iml_ILP, name=\"IML\", ILP=True, criteria=\"F1\")"
   ]
  },
  {
   "cell_type": "code",
   "execution_count": 23,
   "id": "purple-lafayette",
   "metadata": {},
   "outputs": [
    {
     "name": "stdout",
     "output_type": "stream",
     "text": [
      "----------------\n",
      "\n",
      "Results before ILP for the IML in terms of P\n",
      "\n",
      "--Micro--\n",
      "Micro Presicion for Entities:  0.9038459688826025\n",
      "Micro Presicion for Relations:  0.9460434316353886\n",
      "Micro Presicion for All:  0.9087630740393627\n",
      "\n",
      "--Macro--\n",
      "Macro Precision for Entities:  0.896625\n",
      "Macro Precision for Relations:  0.9483\n",
      "Macro Precision for All:  0.9253333333333332\n",
      "----------------\n",
      "\n",
      "Results before ILP for the IML in terms of R\n",
      "\n",
      "--Macro--\n",
      "Macro Precision for Entities:  0.7792500000000001\n",
      "Macro Precision for Relations:  0.9031\n",
      "Macro Precision for All:  0.8480555555555556\n",
      "----------------\n",
      "\n",
      "Results before ILP for the IML in terms of F1\n",
      "\n",
      "--Macro--\n",
      "Macro Precision for Entities:  0.829475\n",
      "Macro Precision for Relations:  0.9247400000000001\n",
      "Macro Precision for All:  0.8824000000000001\n"
     ]
    }
   ],
   "source": [
    "compute_scores(result_iml_argmax, name=\"IML\", ILP=False)\n",
    "compute_scores(result_iml_argmax, name=\"IML\", ILP=False, criteria=\"R\")\n",
    "compute_scores(result_iml_argmax, name=\"IML\", ILP=False, criteria=\"F1\")"
   ]
  },
  {
   "cell_type": "code",
   "execution_count": null,
   "id": "republican-twelve",
   "metadata": {},
   "outputs": [],
   "source": []
  }
 ],
 "metadata": {
  "kernelspec": {
   "display_name": "Python 3",
   "language": "python",
   "name": "python3"
  },
  "language_info": {
   "codemirror_mode": {
    "name": "ipython",
    "version": 3
   },
   "file_extension": ".py",
   "mimetype": "text/x-python",
   "name": "python",
   "nbconvert_exporter": "python",
   "pygments_lexer": "ipython3",
   "version": "3.7.10"
  }
 },
 "nbformat": 4,
 "nbformat_minor": 5
}
