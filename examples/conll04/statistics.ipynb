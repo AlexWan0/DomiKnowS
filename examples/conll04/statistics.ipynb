{
 "cells": [
  {
   "cell_type": "code",
   "execution_count": 3,
   "id": "competitive-silence",
   "metadata": {},
   "outputs": [],
   "source": [
    "import json\n",
    "import torch"
   ]
  },
  {
   "cell_type": "code",
   "execution_count": 7,
   "id": "interior-contemporary",
   "metadata": {},
   "outputs": [],
   "source": [
    "instances = {\"location\": 951, \"people\": 824, \"organization\": 508, \"other\": 609, \"work_for\": 70, \"located_in\": 69, \"live_in\": 99, \"orgbase_on\": 118, \"kill\": 60}"
   ]
  },
  {
   "cell_type": "code",
   "execution_count": 12,
   "id": "artistic-transsexual",
   "metadata": {},
   "outputs": [],
   "source": [
    "result_ILP = {'people': {'P':  (0.9549), 'R':  (0.9260), 'F1':  (0.9402)},\n",
    "          'organization': {'P':  (0.9009), 'R':  (0.7520), 'F1':  (0.8197)}, \n",
    "          'location': {'P':  (0.9251), 'R':  (0.9222), 'F1':  (0.9236)}, \n",
    "          'other': {'P':  (0.9620), 'R':  (0.6240), 'F1':  (0.7570)}, \n",
    "          'O': {'P':  (0.9915), 'R':  (0.9936), 'F1':  (0.9926)}, \n",
    "          'work_for': {'P':  (0.9375), 'R':  (0.8571), 'F1':  (0.8955)}, \n",
    "          'located_in': {'P':  (1.), 'R':  (0.8551), 'F1':  (0.9219)}, \n",
    "          'live_in': {'P':  (0.9888), 'R':  (0.8889), 'F1':  (0.9362)}, \n",
    "          'orgbase_on': {'P':  (0.9821), 'R':  (0.9322), 'F1':  (0.9565)}, \n",
    "          'kill': {'P':  (1.), 'R':  (0.9833), 'F1':  (0.9916)}}\n",
    "\n",
    "result_argmax = {'people': {'P':  (0.9491), 'R':  (0.9272), 'F1':  (0.9380)},\n",
    "                 'organization': {'P':  (0.8756), 'R':  (0.7343), 'F1':  (0.7987)},\n",
    "                 'location': {'P':  (0.9027), 'R':  (0.9169), 'F1':  (0.9098)},\n",
    "                 'other': {'P':  (0.9200), 'R':  (0.6420), 'F1':  (0.7563)},\n",
    "                 'O': {'P':  (0.9901), 'R':  (0.9939), 'F1':  (0.9920)},\n",
    "                 'work_for': {'P':  (0.9275), 'R':  (0.9143), 'F1':  (0.9209)},\n",
    "                 'located_in': {'P':  (0.9683), 'R':  (0.8841), 'F1':  (0.9242)},\n",
    "                 'live_in': {'P':  (0.8654), 'R':  (0.9091), 'F1':  (0.8867)},\n",
    "                 'orgbase_on': {'P':  (0.9823), 'R':  (0.9407), 'F1':  (0.9610)},\n",
    "                 'kill': {'P':  (1.), 'R':  (0.9833), 'F1':  (0.9916)}}"
   ]
  },
  {
   "cell_type": "code",
   "execution_count": 10,
   "id": "worthy-benchmark",
   "metadata": {},
   "outputs": [],
   "source": [
    "entities = [\"location\", \"people\", \"organization\", \"other\"]\n",
    "relations = [\"work_for\", \"located_in\", \"live_in\", \"orgbase_on\", \"kill\"]    "
   ]
  },
  {
   "cell_type": "code",
   "execution_count": 29,
   "id": "altered-tolerance",
   "metadata": {},
   "outputs": [],
   "source": [
    "def compute_scores(item, name, criteria=\"P\", ILP=False):\n",
    "    if ILP:\n",
    "        state = \"After\"\n",
    "    else:\n",
    "        state = \"before\"\n",
    "    print(f'Results {state} ILP for the {name}')\n",
    "    sum_entity = 0\n",
    "    sum_relations = 0\n",
    "    precision_entity = 0\n",
    "    precision_relations = 0\n",
    "    normal_precision_entity = 0\n",
    "    normal_precision_relations = 0\n",
    "    sum_all = 0\n",
    "    precision_all = 0\n",
    "    normal_precision_all = 0\n",
    "    for key in entities:\n",
    "        sum_entity += instances[key]\n",
    "        precision_entity += instances[key] * item[key][criteria]\n",
    "        normal_precision_entity += item[key][criteria]\n",
    "\n",
    "    for key in relations:\n",
    "        sum_relations += instances[key]\n",
    "        precision_relations += instances[key] * item[key][criteria]\n",
    "        normal_precision_relations += item[key][criteria]\n",
    "\n",
    "    sum_all = sum_relations + sum_entity\n",
    "    precision_all = precision_entity + precision_relations\n",
    "    normal_precision_all = normal_precision_relations + normal_precision_entity\n",
    "    print(\"Micro Presicion for Entities: \", precision_entity / sum_entity)\n",
    "    print(\"Micro Presicion for Relations: \", precision_relations / sum_relations)\n",
    "    print(\"Micro Presicion for All: \", precision_all / sum_all)\n",
    "    print(\"Macro Precision for Entities: \", normal_precision_entity / len(entities))\n",
    "    print(\"Macro Precision for Relations: \", normal_precision_relations / len(relations))\n",
    "    print(\"Macro Precision for All: \", normal_precision_all / (len(entities) + len(relations)))"
   ]
  },
  {
   "cell_type": "code",
   "execution_count": 30,
   "id": "civilian-christmas",
   "metadata": {},
   "outputs": [
    {
     "name": "stdout",
     "output_type": "stream",
     "text": [
      "Results After ILP for the Normal\n",
      "Micro Presicion for Entities:  0.9371102697095437\n",
      "Micro Presicion for Relations:  0.9817403846153846\n",
      "Micro Presicion for All:  0.9427227629987909\n",
      "Macro Precision for Entities:  0.9357249999999999\n",
      "Macro Precision for Relations:  0.9816800000000001\n",
      "Macro Precision for All:  0.9612555555555554\n"
     ]
    }
   ],
   "source": [
    "compute_scores(result_ILP, name=\"Normal\", ILP=True)"
   ]
  },
  {
   "cell_type": "code",
   "execution_count": 31,
   "id": "suffering-iceland",
   "metadata": {},
   "outputs": [
    {
     "name": "stdout",
     "output_type": "stream",
     "text": [
      "Results before ILP for the Normal\n",
      "Micro Presicion for Entities:  0.9148032157676348\n",
      "Micro Presicion for Relations:  0.9454896634615385\n",
      "Micro Presicion for All:  0.9186622128174122\n",
      "Macro Precision for Entities:  0.9118499999999999\n",
      "Macro Precision for Relations:  0.9486999999999999\n",
      "Macro Precision for All:  0.932322222222222\n"
     ]
    }
   ],
   "source": [
    "compute_scores(result_argmax, name=\"Normal\", ILP=False)"
   ]
  },
  {
   "cell_type": "code",
   "execution_count": 26,
   "id": "impossible-thursday",
   "metadata": {},
   "outputs": [],
   "source": [
    "result_ILP_IML = {'people': {'P':  (0.9515), 'R':  (0.8568), 'F1':  (0.9017)}, \n",
    "                  'organization': {'P':  (0.8889), 'R':  (0.6457), 'F1':  (0.7480)},\n",
    "                  'location': {'P':  (0.9190), 'R':  (0.8948), 'F1':  (0.9068)},\n",
    "                  'other': {'P':  (0.9631), 'R':  (0.5993), 'F1':  (0.7389)},\n",
    "                  'O': {'P':  (0.9897), 'R':  (0.9916), 'F1':  (0.9907)},\n",
    "                  'work_for': {'P':  (0.9286), 'R':  (0.7429), 'F1':  (0.8254)},\n",
    "                  'located_in': {'P':  (1.), 'R':  (0.8261), 'F1':  (0.9048)},\n",
    "                  'live_in': {'P':  (0.9310), 'R':  (0.8182), 'F1':  (0.8710)},\n",
    "                  'orgbase_on': {'P':  (0.9804), 'R':  (0.8475), 'F1':  (0.9091)},\n",
    "                  'kill': {'P':  (1.), 'R':  (0.9500), 'F1':  (0.9744)}}\n",
    "\n",
    "result_argmax_IML = {'people': {'P':  (0.9469), 'R':  (0.8434), 'F1':  (0.8922)},\n",
    "                     'organization': {'P':  (0.8556), 'R':  (0.6181), 'F1':  (0.7177)},\n",
    "                     'location': {'P':  (0.8898), 'R':  (0.8833), 'F1':  (0.8865)},\n",
    "                     'other': {'P':  (0.9227), 'R':  (0.6076), 'F1':  (0.7327)},\n",
    "                     'O': {'P':  (0.9889), 'R':  (0.9919), 'F1':  (0.9904)},\n",
    "                     'work_for': {'P':  (0.9286), 'R':  (0.9286), 'F1':  (0.9286)},\n",
    "                     'located_in': {'P':  (0.9516), 'R':  (0.8551), 'F1':  (0.9008)},\n",
    "                     'live_in': {'P':  (0.8350), 'R':  (0.8687), 'F1':  (0.8515)},\n",
    "                     'orgbase_on': {'P':  (0.9821), 'R':  (0.9322), 'F1':  (0.9565)},\n",
    "                     'kill': {'P':  (1.), 'R':  (0.9833), 'F1':  (0.9916)}}"
   ]
  },
  {
   "cell_type": "code",
   "execution_count": 32,
   "id": "latest-privacy",
   "metadata": {},
   "outputs": [
    {
     "name": "stdout",
     "output_type": "stream",
     "text": [
      "Results After ILP for the IML\n",
      "Micro Presicion for Entities:  0.9322593706777318\n",
      "Micro Presicion for Relations:  0.9660052884615384\n",
      "Micro Presicion for All:  0.9365031136638453\n",
      "Macro Precision for Entities:  0.930625\n",
      "Macro Precision for Relations:  0.968\n",
      "Macro Precision for All:  0.9513888888888888\n"
     ]
    }
   ],
   "source": [
    "compute_scores(result_ILP_IML, name=\"IML\", ILP=True)"
   ]
  },
  {
   "cell_type": "code",
   "execution_count": 33,
   "id": "furnished-impression",
   "metadata": {},
   "outputs": [
    {
     "name": "stdout",
     "output_type": "stream",
     "text": [
      "Results before ILP for the IML\n",
      "Micro Presicion for Entities:  0.9069897994467497\n",
      "Micro Presicion for Relations:  0.9356134615384615\n",
      "Micro Presicion for All:  0.9105893893591295\n",
      "Macro Precision for Entities:  0.9037499999999999\n",
      "Macro Precision for Relations:  0.9394600000000001\n",
      "Macro Precision for All:  0.9235888888888889\n"
     ]
    }
   ],
   "source": [
    "compute_scores(result_argmax_IML, name=\"IML\", ILP=False)"
   ]
  },
  {
   "cell_type": "code",
   "execution_count": null,
   "id": "contemporary-nurse",
   "metadata": {},
   "outputs": [],
   "source": []
  }
 ],
 "metadata": {
  "kernelspec": {
   "display_name": "Python 3",
   "language": "python",
   "name": "python3"
  },
  "language_info": {
   "codemirror_mode": {
    "name": "ipython",
    "version": 3
   },
   "file_extension": ".py",
   "mimetype": "text/x-python",
   "name": "python",
   "nbconvert_exporter": "python",
   "pygments_lexer": "ipython3",
   "version": "3.7.10"
  }
 },
 "nbformat": 4,
 "nbformat_minor": 5
}
