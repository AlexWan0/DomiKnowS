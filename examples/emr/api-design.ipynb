{
 "cells": [
  {
   "cell_type": "code",
   "execution_count": 1,
   "metadata": {},
   "outputs": [],
   "source": [
    "# envionment setup\n",
    "import os\n",
    "os.environ['CUDA_VISIBLE_DEVICES'] = '1'\n",
    "import site\n",
    "site.addsitedir('../..')"
   ]
  },
  {
   "cell_type": "markdown",
   "metadata": {},
   "source": [
    "## APIs to retrieve nodes in the graph"
   ]
  },
  {
   "cell_type": "code",
   "execution_count": 2,
   "metadata": {},
   "outputs": [
    {
     "name": "stdout",
     "output_type": "stream",
     "text": [
      "Concept(name='phrase', what={'out_rels': {Concept(name='word'): {Have(name='(phrase)-have-(0:word)', what={'dst': {0: Concept(name='word')},\n",
      " 'src': Concept(name='phrase')})}}})\n",
      "Concept(name='phrase', what={'out_rels': {Concept(name='word'): {Have(name='(phrase)-have-(0:word)', what={'dst': {0: Concept(name='word')},\n",
      " 'src': Concept(name='phrase')})}}})\n",
      "Concept(name='phrase', what={'out_rels': {Concept(name='word'): {Have(name='(phrase)-have-(0:word)', what={'dst': {0: Concept(name='word')},\n",
      " 'src': Concept(name='phrase')})}}})\n",
      "Concept(name='phrase', what={'out_rels': {Concept(name='word'): {Have(name='(phrase)-have-(0:word)', what={'dst': {0: Concept(name='word')},\n",
      " 'src': Concept(name='phrase')})}}})\n",
      "Concept(name='phrase', what={'out_rels': {Concept(name='word'): {Have(name='(phrase)-have-(0:word)', what={'dst': {0: Concept(name='word')},\n",
      " 'src': Concept(name='phrase')})}}})\n"
     ]
    }
   ],
   "source": [
    "# to retrieve nodes in the graph\n",
    "\n",
    "from emr.graph import graph\n",
    "\n",
    "# retrieve by __getattr__\n",
    "print(graph.linguistic.phrase)\n",
    "# retrieve by __getitem__\n",
    "print(graph['linguistic/phrase'])\n",
    "# retrieve by properties\n",
    "print(graph.subs['linguistic'].concepts['phrase'])\n",
    "# TODO: we might also add wildcard? should be like glob module does.\n",
    "# Example: graph['*/phrase']\n",
    "\n",
    "# or even play around\n",
    "print(graph.subs['linguistic'].sup.linguistic.phrase)\n",
    "print(graph.subs['linguistic'].sup['linguistic/phrase'])"
   ]
  },
  {
   "cell_type": "markdown",
   "metadata": {},
   "source": [
    "## Experimental Area"
   ]
  },
  {
   "cell_type": "code",
   "execution_count": null,
   "metadata": {},
   "outputs": [],
   "source": []
  },
  {
   "cell_type": "markdown",
   "metadata": {},
   "source": [
    "## Developing Area"
   ]
  },
  {
   "cell_type": "code",
   "execution_count": 3,
   "metadata": {},
   "outputs": [
    {
     "name": "stdout",
     "output_type": "stream",
     "text": [
      "Better speed can be achieved with apex installed from https://www.github.com/nvidia/apex.\n"
     ]
    }
   ],
   "source": [
    "from allennlp.models.model import Model\n",
    "from allennlp.data.vocabulary import Vocabulary\n",
    "import torch\n",
    "from typing import Dict\n",
    "\n",
    "\n",
    "class BaseModel(Model):\n",
    "    def __init__(self, vocab: Vocabulary) -> None:\n",
    "        super().__init__(vocab)\n",
    "\n",
    "    def _update_metrics(self, **data):\n",
    "        for metric_name, metric in self.metrics.items():\n",
    "            metric(data['logits'], data['labels'], data['metric_mask'])\n",
    "            data[metric_name] = metric.get_metric(False) # no reset\n",
    "        return data\n",
    "    \n",
    "    def get_metrics(self, reset: bool = False) -> Dict[str, float]:\n",
    "        output = {}\n",
    "        for metric_name, metric in self.metrics.items():\n",
    "            output[metric_name] = metric.get_metric(reset)\n",
    "        return output\n",
    "\n",
    "    def _update_loss(self, **data):\n",
    "        if self.loss_func is not None:\n",
    "            data['loss'] = self.loss_func(**data)\n",
    "        return data\n",
    "\n",
    "    def forward(\n",
    "        self,\n",
    "        **data:Dict[str, torch.Tensor]\n",
    "    ) -> Dict[str, torch.Tensor]:\n",
    "        \n",
    "        ##\n",
    "        # something happen here to take the input to the output\n",
    "        ##\n",
    "\n",
    "        return data\n"
   ]
  },
  {
   "cell_type": "code",
   "execution_count": 4,
   "metadata": {},
   "outputs": [],
   "source": [
    "from typing import List, Dict, Callable\n",
    "from allennlp.models.model import Model\n",
    "from torch import Tensor\n",
    "\n",
    "data_source = List[Dict[str, Tensor]]\n",
    "# NB: list of Instance(dict of str to data format use in module)\n",
    "#     For allen nlp, Instance is Dict of str:Field,\n",
    "#     and real tensor will be there in forward function\n",
    "module_func = Callable[[Dict[str, Tensor]], Dict[str, Tensor]]\n",
    "# NB: modules are transform from Dict of str:Tensor to updated Dict\n",
    "#     module objects in AllenNLP have the forward function of this setting\n",
    "\n",
    "class Library(object):\n",
    "    def __init__(self) -> None:\n",
    "        self.modules = dict()\n",
    "        self.loss = None\n",
    "\n",
    "    def data(\n",
    "        self,\n",
    "        data_source: data_source\n",
    "    ) -> module_func:\n",
    "        # return output_prop\n",
    "        pass\n",
    "\n",
    "    def word2vec(\n",
    "        self,\n",
    "        input_prop: module_func\n",
    "    ) -> module_func:\n",
    "        # return output_prop\n",
    "        pass\n",
    "\n",
    "    def fc_sm(\n",
    "        self,\n",
    "        input_prop: module_func\n",
    "    ) -> module_func:\n",
    "        # return output_prop\n",
    "        pass\n",
    "\n",
    "    def build(\n",
    "        self\n",
    "    ) -> Model:\n",
    "        pass\n"
   ]
  },
  {
   "cell_type": "code",
   "execution_count": 5,
   "metadata": {},
   "outputs": [],
   "source": [
    "class Data(object):\n",
    "    pass"
   ]
  },
  {
   "cell_type": "markdown",
   "metadata": {},
   "source": [
    "## Baseline code"
   ]
  },
  {
   "cell_type": "code",
   "execution_count": 6,
   "metadata": {},
   "outputs": [],
   "source": [
    "from emr.data import Conll04DatasetReader as Reader\n",
    "from emr.model import get_trainer\n",
    "#from emr.graph import graph\n",
    "\n",
    "# types for typing style function\n",
    "from typing import List, Dict\n",
    "from allennlp.data.vocabulary import Vocabulary\n",
    "from allennlp.data.instance import Instance\n",
    "from allennlp.models.model import Model\n",
    "from regr.graph import Graph\n",
    "from allennlp.training.trainer import Trainer"
   ]
  },
  {
   "cell_type": "code",
   "execution_count": 7,
   "metadata": {},
   "outputs": [
    {
     "data": {
      "text/plain": [
       "Graph(name='global', what={'concepts': {'people': Concept(name='people', what={'out_rels': {Concept(name='word'): {Be(name='(people)-be-(0:word)', what={'dst': {0: Concept(name='word')},\n",
       " 'src': Concept(name='people')})}}}),\n",
       "              'word': Concept(name='word', what={'out_rels': {}})},\n",
       " 'subs': {},\n",
       " 'sup': None})"
      ]
     },
     "execution_count": 7,
     "metadata": {},
     "output_type": "execute_result"
    }
   ],
   "source": [
    "from regr import Graph, Concept\n",
    "\n",
    "\n",
    "Graph.clear()\n",
    "Concept.clear()\n",
    "with Graph('global') as graph:\n",
    "    word = Concept(name='word')\n",
    "    people = Concept(name='people')\n",
    "    people.be(word)\n",
    "\n",
    "graph"
   ]
  },
  {
   "cell_type": "code",
   "execution_count": 8,
   "metadata": {},
   "outputs": [],
   "source": [
    "from emr.graph import Concept\n",
    "\n",
    "from allennlp.data.vocabulary import Vocabulary\n",
    "\n",
    "# develop by an ML programmer to wire nodes in the graph and ML Models\n",
    "def make_model(graph: Graph,\n",
    "               data: Data, # oh what is this?\n",
    "               lib: Library, # this is not Model we have\n",
    "              ) -> Model:\n",
    "    # get concepts from graph\n",
    "    word = graph.word\n",
    "    people = graph.people\n",
    "    \n",
    "    # binding\n",
    "    # filling in data and label\n",
    "    word['index'] = lib.data(data.input) # (batch, len)\n",
    "    people['label'] = lib.data(data.peop_label) # (batch, len,)\n",
    "    \n",
    "    # building model\n",
    "    word['w2v'] = lib.word2vev(word['index']) # (batch, len, vec)\n",
    "    people['label'] = lib.fc_sm(word['w2v']) # (batch, len,)\n",
    "    # now people['label'] has multiple assignment,\n",
    "    # and the loss should come from the inconsistency here\n",
    "\n",
    "    # get the model\n",
    "    model = lib.build()\n",
    "    # NB: Link in the graph make be use to provide non parameterized\n",
    "    #     transformation, what is a core feature of our graph.\n",
    "    #     Is there a better semantic interface design?\n",
    "    \n",
    "    # get the loss\n",
    "    model.loss = graph()\n",
    "    \n",
    "    return model"
   ]
  },
  {
   "cell_type": "code",
   "execution_count": 9,
   "metadata": {},
   "outputs": [],
   "source": [
    "# data setting\n",
    "relative_path = \"data/EntityMentionRelation\"\n",
    "train_path = \"conll04_train.corp\"\n",
    "valid_path = \"conll04_test.corp\"\n",
    "\n",
    "# model setting\n",
    "EMBEDDING_DIM = 16\n",
    "HIDDEN_DIM = 8\n",
    "\n",
    "# training setting\n",
    "LR = 0.1\n",
    "BATCH = 16\n",
    "EPOCH = 10 # 1000\n",
    "PATIENCE = 10"
   ]
  },
  {
   "cell_type": "code",
   "execution_count": 10,
   "metadata": {},
   "outputs": [],
   "source": [
    "# envionment setup\n",
    "\n",
    "#import logging\n",
    "# logging.basicConfig(level=logging.INFO)\n",
    "\n",
    "def seed1():\n",
    "    import random\n",
    "    import numpy as np\n",
    "    import torch\n",
    "    \n",
    "    np.random.seed(1)\n",
    "    random.seed(1)\n",
    "    torch.manual_seed(1)\n",
    "    \n",
    "seed1()"
   ]
  },
  {
   "cell_type": "code",
   "execution_count": 11,
   "metadata": {},
   "outputs": [
    {
     "name": "stderr",
     "output_type": "stream",
     "text": [
      "0it [00:00, ?it/s]\n",
      "  0%|          | 0/72519 [00:00<?, ?it/s]\u001b[A\n",
      " 34%|███▍      | 24935/72519 [00:00<00:00, 249347.27it/s]\u001b[A\n",
      " 69%|██████▊   | 49682/72519 [00:00<00:00, 248780.46it/s]\u001b[A\n",
      " 96%|█████████▌| 69261/72519 [00:00<00:00, 192888.90it/s]\u001b[A\n",
      "2942it [00:00, 4665.27it/s]9 [00:00<00:00, 195975.51it/s]\u001b[A\n",
      "0it [00:00, ?it/s]\n",
      "  0%|          | 0/69723 [00:00<?, ?it/s]\u001b[A\n",
      " 35%|███▍      | 24073/69723 [00:00<00:00, 240727.36it/s]\u001b[A\n",
      " 71%|███████   | 49433/69723 [00:00<00:00, 244447.86it/s]\u001b[A\n",
      "2573it [00:00, 4825.49it/s]3 [00:00<00:00, 245670.85it/s]\u001b[A\n",
      "100%|██████████| 5515/5515 [00:00<00:00, 44250.65it/s]\n"
     ]
    },
    {
     "ename": "AttributeError",
     "evalue": "'NoneType' object has no attribute 'input'",
     "output_type": "error",
     "traceback": [
      "\u001b[0;31m---------------------------------------------------------------------------\u001b[0m",
      "\u001b[0;31mAttributeError\u001b[0m                            Traceback (most recent call last)",
      "\u001b[0;32m<ipython-input-11-49c46c0ba249>\u001b[0m in \u001b[0;36m<module>\u001b[0;34m\u001b[0m\n\u001b[1;32m     11\u001b[0m \u001b[0;31m# model from graph\u001b[0m\u001b[0;34m\u001b[0m\u001b[0;34m\u001b[0m\u001b[0;34m\u001b[0m\u001b[0m\n\u001b[1;32m     12\u001b[0m \u001b[0mlib\u001b[0m \u001b[0;34m=\u001b[0m \u001b[0mLibrary\u001b[0m\u001b[0;34m(\u001b[0m\u001b[0;34m)\u001b[0m\u001b[0;34m\u001b[0m\u001b[0;34m\u001b[0m\u001b[0m\n\u001b[0;32m---> 13\u001b[0;31m \u001b[0mmodel\u001b[0m \u001b[0;34m=\u001b[0m \u001b[0mmake_model\u001b[0m\u001b[0;34m(\u001b[0m\u001b[0mgraph\u001b[0m\u001b[0;34m,\u001b[0m \u001b[0mdata\u001b[0m\u001b[0;34m,\u001b[0m \u001b[0mlib\u001b[0m\u001b[0;34m)\u001b[0m\u001b[0;34m\u001b[0m\u001b[0;34m\u001b[0m\u001b[0m\n\u001b[0m\u001b[1;32m     14\u001b[0m \u001b[0;34m\u001b[0m\u001b[0m\n\u001b[1;32m     15\u001b[0m \u001b[0;31m# trainer for model\u001b[0m\u001b[0;34m\u001b[0m\u001b[0;34m\u001b[0m\u001b[0;34m\u001b[0m\u001b[0m\n",
      "\u001b[0;32m<ipython-input-8-f38ab5d8d2d8>\u001b[0m in \u001b[0;36mmake_model\u001b[0;34m(graph, data, lib)\u001b[0m\n\u001b[1;32m     14\u001b[0m     \u001b[0;31m# binding\u001b[0m\u001b[0;34m\u001b[0m\u001b[0;34m\u001b[0m\u001b[0;34m\u001b[0m\u001b[0m\n\u001b[1;32m     15\u001b[0m     \u001b[0;31m# filling in data and label\u001b[0m\u001b[0;34m\u001b[0m\u001b[0;34m\u001b[0m\u001b[0;34m\u001b[0m\u001b[0m\n\u001b[0;32m---> 16\u001b[0;31m     \u001b[0mword\u001b[0m\u001b[0;34m[\u001b[0m\u001b[0;34m'index'\u001b[0m\u001b[0;34m]\u001b[0m \u001b[0;34m=\u001b[0m \u001b[0mlib\u001b[0m\u001b[0;34m.\u001b[0m\u001b[0mdata\u001b[0m\u001b[0;34m(\u001b[0m\u001b[0mdata\u001b[0m\u001b[0;34m.\u001b[0m\u001b[0minput\u001b[0m\u001b[0;34m)\u001b[0m \u001b[0;31m# (batch, len)\u001b[0m\u001b[0;34m\u001b[0m\u001b[0;34m\u001b[0m\u001b[0m\n\u001b[0m\u001b[1;32m     17\u001b[0m     \u001b[0mpeople\u001b[0m\u001b[0;34m[\u001b[0m\u001b[0;34m'label'\u001b[0m\u001b[0;34m]\u001b[0m \u001b[0;34m=\u001b[0m \u001b[0mlib\u001b[0m\u001b[0;34m.\u001b[0m\u001b[0mdata\u001b[0m\u001b[0;34m(\u001b[0m\u001b[0mdata\u001b[0m\u001b[0;34m.\u001b[0m\u001b[0mpeop_label\u001b[0m\u001b[0;34m)\u001b[0m \u001b[0;31m# (batch, len,)\u001b[0m\u001b[0;34m\u001b[0m\u001b[0;34m\u001b[0m\u001b[0m\n\u001b[1;32m     18\u001b[0m \u001b[0;34m\u001b[0m\u001b[0m\n",
      "\u001b[0;31mAttributeError\u001b[0m: 'NoneType' object has no attribute 'input'"
     ]
    }
   ],
   "source": [
    "import os\n",
    "from allennlp.data.vocabulary import Vocabulary\n",
    "\n",
    "# data\n",
    "reader = Reader()\n",
    "train_dataset = reader.read(os.path.join(relative_path, train_path))\n",
    "valid_dataset = reader.read(os.path.join(relative_path, valid_path))\n",
    "vocab = Vocabulary.from_instances(train_dataset + valid_dataset)\n",
    "data = None # TODO: what is data now\n",
    "\n",
    "# model from graph\n",
    "lib = Library()\n",
    "model = make_model(graph, data, lib)\n",
    "\n",
    "# trainer for model\n",
    "trainer = get_trainer(model, train_dataset, valid_dataset)\n",
    "\n",
    "# train the model\n",
    "trainer.train()\n",
    "\n",
    "# save the model\n",
    "with open(\"/tmp/model.th\", 'wb') as fout:\n",
    "    torch.save(model.state_dict(), fout)\n",
    "vocab.save_to_files(\"/tmp/vocab\")"
   ]
  },
  {
   "cell_type": "code",
   "execution_count": null,
   "metadata": {},
   "outputs": [],
   "source": []
  }
 ],
 "metadata": {
  "kernelspec": {
   "display_name": "Python 3",
   "language": "python",
   "name": "python3"
  },
  "language_info": {
   "codemirror_mode": {
    "name": "ipython",
    "version": 3
   },
   "file_extension": ".py",
   "mimetype": "text/x-python",
   "name": "python",
   "nbconvert_exporter": "python",
   "pygments_lexer": "ipython3",
   "version": "3.7.1"
  }
 },
 "nbformat": 4,
 "nbformat_minor": 2
}
