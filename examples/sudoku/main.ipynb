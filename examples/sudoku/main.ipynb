{
 "cells": [
  {
   "cell_type": "code",
   "execution_count": 1,
   "id": "contemporary-raise",
   "metadata": {},
   "outputs": [
    {
     "name": "stdout",
     "output_type": "stream",
     "text": [
      "/home/hfaghihi/Framework/new/DomiKnowS/examples\n",
      "root Folder Absoloute path:  /home/hfaghihi/Framework/new/DomiKnowS\n"
     ]
    }
   ],
   "source": [
    "import os,sys,inspect\n",
    "import json\n",
    "import torch\n",
    "currentdir = os.path.dirname(os.getcwd())\n",
    "print(currentdir)\n",
    "# parent_dir = os.path.abspath(os.path.join(currentdir, os.pardir))\n",
    "root = os.path.dirname(currentdir)\n",
    "print(\"root Folder Absoloute path: \", root)\n",
    "\n",
    "\n",
    "import sys\n",
    "sys.path.append(root)\n",
    "\n",
    "import logging\n",
    "\n",
    "logging.basicConfig(level=logging.INFO)\n",
    "\n",
    "from IPython.display import Image\n",
    "\n",
    "import __main__\n",
    "\n",
    "__main__.__file__=\"main.py\""
   ]
  },
  {
   "cell_type": "code",
   "execution_count": 14,
   "id": "pointed-moldova",
   "metadata": {},
   "outputs": [],
   "source": [
    "from regr.data.reader import RegrReader\n",
    "import torch\n",
    "\n",
    "\n",
    "class SudokuReader(RegrReader):\n",
    "    def getidval(self, item):\n",
    "        return [1]\n",
    "    def getsizeval(self, item):\n",
    "        return 5, 5\n",
    "    "
   ]
  },
  {
   "cell_type": "code",
   "execution_count": 18,
   "id": "engaged-checkout",
   "metadata": {},
   "outputs": [
    {
     "name": "stderr",
     "output_type": "stream",
     "text": [
      "main.py:25: UserWarning: Please use OrderedDict rather than dict to prevent unpredictable order of arguments.For this instance, OrderedDict([('arg1', 'step'), ('arg2', 'step')]) is used.\n",
      "  before_arg1,\n"
     ]
    }
   ],
   "source": [
    "from regr.graph import Graph, Concept, Relation\n",
    "from regr.graph.logicalConstrain import orL, andL, existsL, notL, atLeastL, atMostL, ifL, nandL, V, exactL\n",
    "from regr.graph import EnumConcept\n",
    "\n",
    "\n",
    "Graph.clear()\n",
    "Concept.clear()\n",
    "Relation.clear()\n",
    "\n",
    "with Graph('global') as graph:\n",
    "    sudoku = Concept(\"sodoku\")\n",
    "    \n",
    "    empty_entries = Concept(\"empty_entries\")\n",
    "    fixed_entries = Concept(\"fixed_entries\")\n",
    "    \n",
    "    (sudoku_empty, sudoku_fixed) = sudoku.has_a(empty_entries, fixed_entries)\n",
    "    \n",
    "    empty_entry = Concept('empty_entry')\n",
    "    (empty_rel, ) = empty_entries.contains(empty_entry)\n",
    "    \n",
    "    fixed_entry = Concept('fixed_entry')\n",
    "    (fixed_rel, ) = fixed_entries.contains(fixed_entry)\n",
    "    \n",
    "    same_row = Concept(\"same_row\")\n",
    "    same_row_mixed = Concept(\"same_row_mixed\")\n",
    "    (same_row_arg1, same_row_arg2) = same_row.has_a(arg1=empty_entry, arg2=empty_entry)\n",
    "    (same_row_mixed_arg1, same_row_mixed_arg2) = same_row_mixed.has_a(arg1=empty_entry, arg2=fixed_entry)\n",
    "    \n",
    "    same_col = Concept(\"same_col\")\n",
    "    same_col_mixed = Concept(\"same_col_mixed\")\n",
    "    (same_col_arg1, same_col_arg2) = same_col.has_a(arg1=empty_entry, arg2=empty_entry)\n",
    "    (same_col_mixed_arg1, same_col_mixed_arg2) = same_col_mixed.has_a(arg1=empty_entry, arg2=fixed_entry)\n",
    "    \n",
    "    empty_entry_label = empty_entry(name=\"empty_entry_label\", ConceptClass=EnumConcept, values=[\"0\", \"1\", \"2\", \"3\", \"4\", \"5\", \"6\", \"7\", \"8\", \"9\", \"10\"])\n",
    "\n",
    "\n",
    "    ### Constriants\n",
    "    \n",
    "    for val in [\"0\", \"1\", \"2\", \"3\", \"4\", \"5\", \"6\", \"7\", \"8\", \"9\", \"10\"]:\n",
    "        ### No same number in the same row between empty entries and empty entries and the fixed ones.\n",
    "        ifL(empty_entry_label.val('x'), notL(orL(\n",
    "            existsL(\n",
    "                andL(\n",
    "                    same_row('z', path=(\"x\", same_row_arg1.reverse)), empty_entry_label.val('y', path=(\"z\", same_row_arg2))\n",
    "                )), \n",
    "            existL(\n",
    "                andL(\n",
    "                    same_row_mixed('z', path=(\"x\", same_row_mixed_arg1.reverse)), empty_entry_label.val('y', path=(\"z\", same_row_mixed_arg2))\n",
    "                ))\n",
    "        )))\n",
    "        \n",
    "        ### No same number in the same column between empty entries and empty entries and the fixed ones.\n",
    "        ifL(empty_entry_label.val('x'), notL(orL(\n",
    "            existsL(\n",
    "                andL(\n",
    "                    same_col('z', path=(\"x\", same_col_arg1.reverse)), empty_entry_label.val('y', path=(\"z\", same_col_arg2))\n",
    "                )), \n",
    "            existL(\n",
    "                andL(\n",
    "                    same_col_mixed('z', path=(\"x\", same_col_mixed_arg1.reverse)), empty_entry_label.val('y', path=(\"z\", same_col_mixed_arg2))\n",
    "                ))\n",
    "        )))\n"
   ]
  },
  {
   "cell_type": "code",
   "execution_count": 9,
   "id": "irish-accounting",
   "metadata": {},
   "outputs": [],
   "source": [
    "from regr.sensor.pytorch.sensors import FunctionalSensor, JointSensor, ReaderSensor, FunctionalReaderSensor\n",
    "from regr.sensor.pytorch.learners import ModuleLearner\n",
    "from regr.sensor.pytorch.relation_sensors import CompositionCandidateSensor\n",
    "from regr.sensor.pytorch.query_sensor import DataNodeReaderSensor\n",
    "\n",
    "class JointFunctionalReaderSensor(JointSensor, FunctionalReaderSensor):\n",
    "    pass\n",
    "\n",
    "\n",
    "sudoku['id'] = ReaderSensor(keyword='id')\n",
    "empty_entries['indexes'] = ReaderSensor(keyword='empty_indexes')\n",
    "fixed_entries['indexes'] = ReaderSensor(keyword='fixed_indexes')\n",
    "\n",
    "\n",
    "def make_empty_indexes(*prev):\n",
    "    pass\n",
    "\n",
    "empty_entry[empty_rel, 'row', 'column'] = FunctionalSensor(empty_entries['indexes'], forward=make_empty_indexes)\n",
    "\n",
    "def read_fix_values(*prev):\n",
    "    pass\n",
    "\n",
    "fixed_entries[fixed_rel, 'row', 'column', 'value'] = JointFunctionalReaderSensor(context['text'], keyword='fixed_values', forward=read_fix_values)\n",
    "\n",
    "\n"
   ]
  }
 ],
 "metadata": {
  "kernelspec": {
   "display_name": "Python 3",
   "language": "python",
   "name": "python3"
  },
  "language_info": {
   "codemirror_mode": {
    "name": "ipython",
    "version": 3
   },
   "file_extension": ".py",
   "mimetype": "text/x-python",
   "name": "python",
   "nbconvert_exporter": "python",
   "pygments_lexer": "ipython3",
   "version": "3.7.10"
  }
 },
 "nbformat": 4,
 "nbformat_minor": 5
}
