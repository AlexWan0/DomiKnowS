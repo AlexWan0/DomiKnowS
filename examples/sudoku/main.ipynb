{
 "cells": [
  {
   "cell_type": "code",
   "execution_count": 1,
   "id": "rotary-think",
   "metadata": {},
   "outputs": [
    {
     "name": "stdout",
     "output_type": "stream",
     "text": [
      "/home/hfaghihi/Framework/new/DomiKnowS/examples\n",
      "root Folder Absoloute path:  /home/hfaghihi/Framework/new/DomiKnowS\n"
     ]
    }
   ],
   "source": [
    "import os,sys,inspect\n",
    "import json\n",
    "import torch\n",
    "currentdir = os.path.dirname(os.getcwd())\n",
    "print(currentdir)\n",
    "# parent_dir = os.path.abspath(os.path.join(currentdir, os.pardir))\n",
    "root = os.path.dirname(currentdir)\n",
    "print(\"root Folder Absoloute path: \", root)\n",
    "\n",
    "\n",
    "import sys\n",
    "sys.path.append(root)\n",
    "\n",
    "import logging\n",
    "\n",
    "logging.basicConfig(level=logging.INFO)\n",
    "\n",
    "from IPython.display import Image\n",
    "\n",
    "import __main__\n",
    "\n",
    "__main__.__file__=\"main.py\""
   ]
  },
  {
   "cell_type": "code",
   "execution_count": 2,
   "id": "fleet-separation",
   "metadata": {},
   "outputs": [],
   "source": [
    "from regr.data.reader import RegrReader\n",
    "import torch\n",
    "\n",
    "\n",
    "class SudokuReader(RegrReader):\n",
    "    def getidval(self, item):\n",
    "        return [1]\n",
    "    def getsizeval(self, item):\n",
    "        return 5, 5\n",
    "    "
   ]
  },
  {
   "cell_type": "code",
   "execution_count": 5,
   "id": "excited-information",
   "metadata": {},
   "outputs": [
    {
     "name": "stdout",
     "output_type": "stream",
     "text": [
      "zero\n"
     ]
    },
    {
     "name": "stderr",
     "output_type": "stream",
     "text": [
      "main.py:26: UserWarning: Please use OrderedDict rather than dict to prevent unpredictable order of arguments.For this instance, OrderedDict([('arg1', 'empty_entry'), ('arg2', 'empty_entry')]) is used.\n",
      "main.py:27: UserWarning: Please use OrderedDict rather than dict to prevent unpredictable order of arguments.For this instance, OrderedDict([('arg1', 'empty_entry'), ('arg2', 'fixed_entry')]) is used.\n",
      "main.py:31: UserWarning: Please use OrderedDict rather than dict to prevent unpredictable order of arguments.For this instance, OrderedDict([('arg1', 'empty_entry'), ('arg2', 'empty_entry')]) is used.\n",
      "main.py:32: UserWarning: Please use OrderedDict rather than dict to prevent unpredictable order of arguments.For this instance, OrderedDict([('arg1', 'empty_entry'), ('arg2', 'fixed_entry')]) is used.\n"
     ]
    },
    {
     "ename": "NameError",
     "evalue": "free variable 'Rel' referenced before assignment in enclosing scope",
     "output_type": "error",
     "traceback": [
      "\u001b[0;31m---------------------------------------------------------------------------\u001b[0m",
      "\u001b[0;31mNameError\u001b[0m                                 Traceback (most recent call last)",
      "\u001b[0;32mmain.py\u001b[0m in \u001b[0;36m<module>\u001b[0;34m\u001b[0m\n\u001b[1;32m     40\u001b[0m         \u001b[0mprint\u001b[0m\u001b[0;34m(\u001b[0m\u001b[0mval\u001b[0m\u001b[0;34m)\u001b[0m\u001b[0;34m\u001b[0m\u001b[0;34m\u001b[0m\u001b[0m\n\u001b[1;32m     41\u001b[0m         \u001b[0;31m### No same number in the same row between empty entries and empty entries and the fixed ones.\u001b[0m\u001b[0;34m\u001b[0m\u001b[0;34m\u001b[0m\u001b[0;34m\u001b[0m\u001b[0m\n\u001b[0;32m---> 42\u001b[0;31m         ifL(empty_entry_label.val('x'), notL(orL(\n\u001b[0m\u001b[1;32m     43\u001b[0m             existsL(\n\u001b[1;32m     44\u001b[0m                 andL(\n",
      "\u001b[0;32m~/Framework/new/DomiKnowS/regr/graph/concept.py\u001b[0m in \u001b[0;36mhandle\u001b[0;34m(*args, **kwargs)\u001b[0m\n\u001b[1;32m    164\u001b[0m             \u001b[0;32mif\u001b[0m \u001b[0;32mnot\u001b[0m \u001b[0margs\u001b[0m \u001b[0;32mand\u001b[0m \u001b[0;32mnot\u001b[0m \u001b[0mkwargs\u001b[0m\u001b[0;34m:\u001b[0m\u001b[0;34m\u001b[0m\u001b[0;34m\u001b[0m\u001b[0m\n\u001b[1;32m    165\u001b[0m                 \u001b[0;32mreturn\u001b[0m \u001b[0mself\u001b[0m\u001b[0;34m.\u001b[0m\u001b[0m_out\u001b[0m\u001b[0;34m.\u001b[0m\u001b[0msetdefault\u001b[0m\u001b[0;34m(\u001b[0m\u001b[0mrel\u001b[0m\u001b[0;34m,\u001b[0m \u001b[0;34m[\u001b[0m\u001b[0;34m]\u001b[0m\u001b[0;34m)\u001b[0m\u001b[0;34m\u001b[0m\u001b[0;34m\u001b[0m\u001b[0m\n\u001b[0;32m--> 166\u001b[0;31m             \u001b[0;32mreturn\u001b[0m \u001b[0mRel\u001b[0m\u001b[0;34m(\u001b[0m\u001b[0mself\u001b[0m\u001b[0;34m,\u001b[0m \u001b[0;34m*\u001b[0m\u001b[0margs\u001b[0m\u001b[0;34m,\u001b[0m \u001b[0;34m**\u001b[0m\u001b[0mkwargs\u001b[0m\u001b[0;34m)\u001b[0m\u001b[0;34m\u001b[0m\u001b[0;34m\u001b[0m\u001b[0m\n\u001b[0m\u001b[1;32m    167\u001b[0m         \u001b[0;32mreturn\u001b[0m \u001b[0mhandle\u001b[0m\u001b[0;34m\u001b[0m\u001b[0;34m\u001b[0m\u001b[0m\n\u001b[1;32m    168\u001b[0m \u001b[0;34m\u001b[0m\u001b[0m\n",
      "\u001b[0;31mNameError\u001b[0m: free variable 'Rel' referenced before assignment in enclosing scope"
     ]
    }
   ],
   "source": [
    "from regr.graph import Graph, Concept, Relation\n",
    "from regr.graph.logicalConstrain import orL, andL, existsL, notL, atLeastL, atMostL, ifL, nandL, V, exactL\n",
    "from regr.graph import EnumConcept\n",
    "\n",
    "\n",
    "Graph.clear()\n",
    "Concept.clear()\n",
    "Relation.clear()\n",
    "\n",
    "with Graph('global') as graph:\n",
    "    sudoku = Concept(\"sodoku\")\n",
    "    \n",
    "    empty_entries = Concept(\"empty_entries\")\n",
    "    fixed_entries = Concept(\"fixed_entries\")\n",
    "    \n",
    "    (sudoku_empty, sudoku_fixed) = sudoku.has_a(empty_entries, fixed_entries)\n",
    "    \n",
    "    empty_entry = Concept('empty_entry')\n",
    "    (empty_rel, ) = empty_entries.contains(empty_entry)\n",
    "    \n",
    "    fixed_entry = Concept('fixed_entry')\n",
    "    (fixed_rel, ) = fixed_entries.contains(fixed_entry)\n",
    "    \n",
    "    same_row = Concept(\"same_row\")\n",
    "    same_row_mixed = Concept(\"same_row_mixed\")\n",
    "    (same_row_arg1, same_row_arg2) = same_row.has_a(arg1=empty_entry, arg2=empty_entry)\n",
    "    (same_row_mixed_arg1, same_row_mixed_arg2) = same_row_mixed.has_a(arg1=empty_entry, arg2=fixed_entry)\n",
    "    \n",
    "    same_col = Concept(\"same_col\")\n",
    "    same_col_mixed = Concept(\"same_col_mixed\")\n",
    "    (same_col_arg1, same_col_arg2) = same_col.has_a(arg1=empty_entry, arg2=empty_entry)\n",
    "    (same_col_mixed_arg1, same_col_mixed_arg2) = same_col_mixed.has_a(arg1=empty_entry, arg2=fixed_entry)\n",
    "    \n",
    "    empty_entry_label = empty_entry(name=\"empty_entry_label\", ConceptClass=EnumConcept, values=[\"0\", \"1\", \"2\", \"3\", \"4\", \"5\", \"6\", \"7\", \"8\", \"9\", \"10\"])\n",
    "\n",
    "\n",
    "    ### Constriants\n",
    "    \n",
    "    for val in [\"0\", \"1\", \"2\", \"3\", \"4\", \"5\", \"6\", \"7\", \"8\", \"9\", \"10\"]:\n",
    "        ### No same number in the same row between empty entries and empty entries and the fixed ones.\n",
    "        ifL(empty_entry_label.val('x'), notL(orL(\n",
    "            existsL(\n",
    "                andL(\n",
    "                    same_row('z', path=(\"x\", same_row_arg1.reverse)), empty_entry_label.val('y', path=(\"z\", same_row_arg2))\n",
    "                )), \n",
    "            existL(\n",
    "                andL(\n",
    "                    same_row_mixed('z', path=(\"x\", same_row_mixed_arg1.reverse)), empty_entry_label.val('y', path=(\"z\", same_row_mixed_arg2))\n",
    "                ))\n",
    "        )))\n",
    "        \n",
    "        ### No same number in the same column between empty entries and empty entries and the fixed ones.\n",
    "        ifL(empty_entry_label.val('x'), notL(orL(\n",
    "            existsL(\n",
    "                andL(\n",
    "                    same_col('z', path=(\"x\", same_col_arg1.reverse)), empty_entry_label.val('y', path=(\"z\", same_col_arg2))\n",
    "                )), \n",
    "            existL(\n",
    "                andL(\n",
    "                    same_col_mixed('z', path=(\"x\", same_col_mixed_arg1.reverse)), empty_entry_label.val('y', path=(\"z\", same_col_mixed_arg2))\n",
    "                ))\n",
    "        )))\n"
   ]
  },
  {
   "cell_type": "code",
   "execution_count": 9,
   "id": "confirmed-brick",
   "metadata": {},
   "outputs": [],
   "source": [
    "from regr.sensor.pytorch.sensors import FunctionalSensor, JointSensor, ReaderSensor, FunctionalReaderSensor\n",
    "from regr.sensor.pytorch.learners import ModuleLearner\n",
    "from regr.sensor.pytorch.relation_sensors import CompositionCandidateSensor\n",
    "from regr.sensor.pytorch.query_sensor import DataNodeReaderSensor\n",
    "\n",
    "class JointFunctionalReaderSensor(JointSensor, FunctionalReaderSensor):\n",
    "    pass\n",
    "\n",
    "\n",
    "sudoku['id'] = ReaderSensor(keyword='id')\n",
    "empty_entries['indexes'] = ReaderSensor(keyword='empty_indexes')\n",
    "fixed_entries['indexes'] = ReaderSensor(keyword='fixed_indexes')\n",
    "\n",
    "\n",
    "def make_empty_indexes(*prev):\n",
    "    pass\n",
    "\n",
    "empty_entry[empty_rel, 'row', 'column'] = FunctionalSensor(empty_entries['indexes'], forward=make_empty_indexes)\n",
    "\n",
    "def read_fix_values(*prev):\n",
    "    pass\n",
    "\n",
    "fixed_entries[fixed_rel, 'row', 'column', 'value'] = JointFunctionalReaderSensor(context['text'], keyword='fixed_values', forward=read_fix_values)\n",
    "\n",
    "\n"
   ]
  }
 ],
 "metadata": {
  "kernelspec": {
   "display_name": "Python 3",
   "language": "python",
   "name": "python3"
  },
  "language_info": {
   "codemirror_mode": {
    "name": "ipython",
    "version": 3
   },
   "file_extension": ".py",
   "mimetype": "text/x-python",
   "name": "python",
   "nbconvert_exporter": "python",
   "pygments_lexer": "ipython3",
   "version": "3.7.10"
  }
 },
 "nbformat": 4,
 "nbformat_minor": 5
}
