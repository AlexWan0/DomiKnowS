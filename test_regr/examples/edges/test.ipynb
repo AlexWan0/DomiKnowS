{
 "cells": [
  {
   "cell_type": "code",
   "execution_count": 4,
   "metadata": {},
   "outputs": [
    {
     "name": "stdout",
     "output_type": "stream",
     "text": [
      "/home/hfaghihi/Framework/DomiKnowS/test_regr/examples/edges\n"
     ]
    }
   ],
   "source": [
    "import os\n",
    "print(os.getcwd())\n",
    "# Please change the root to an absolute or relative path to DomiKnowS root.\n",
    "# In case relative path is used, consider the printed `CWD` as current working directory.\n",
    "root = '/home/hfaghihi/Framework/DomiKnowS'"
   ]
  },
  {
   "cell_type": "code",
   "execution_count": 5,
   "metadata": {},
   "outputs": [],
   "source": [
    "import sys\n",
    "sys.path.append(root)\n",
    "from typing import Any"
   ]
  },
  {
   "cell_type": "code",
   "execution_count": 6,
   "metadata": {},
   "outputs": [],
   "source": [
    "from sensors import TorchEdgeSensor\n",
    "from regr.sensor.pytorch.sensors import ConstantSensor, JointSensor\n",
    "from regr.sensor.pytorch.query_sensor import CandidateEqualSensor, CandidateRelationSensor"
   ]
  },
  {
   "cell_type": "code",
   "execution_count": 7,
   "metadata": {},
   "outputs": [],
   "source": [
    "class SampleEdge(TorchEdgeSensor):\n",
    "    def forward(self, ) -> Any:\n",
    "        return self.inputs[0].split(\" \")"
   ]
  },
  {
   "cell_type": "code",
   "execution_count": 8,
   "metadata": {},
   "outputs": [
    {
     "name": "stderr",
     "output_type": "stream",
     "text": [
      "/home/hfaghihi/Framework/DomiKnowS/test_regr/examples/edges/graph.py:15: UserWarning: Please use OrderedDict rather than dict to prevent unpredictable order of arguments.For this instance, OrderedDict([('arg1', 'word1')]) is used.\n",
      "  (word_equal_word1, ) = word.equal(arg1=word1)\n",
      "/home/hfaghihi/Framework/DomiKnowS/test_regr/examples/edges/graph.py:18: UserWarning: Please use OrderedDict rather than dict to prevent unpredictable order of arguments.For this instance, OrderedDict([('arg1', 'word'), ('arg2', 'word')]) is used.\n",
      "  (pair_word1, pair_word2) = pair.has_a(arg1=word, arg2=word)\n"
     ]
    }
   ],
   "source": [
    "from graph import sentence, word, sentence_con_word, word1, word_equal_word1, graph, pair_word1, pair_word2, pair\n",
    "from regr.sensor.sensor import Sensor"
   ]
  },
  {
   "cell_type": "code",
   "execution_count": 9,
   "metadata": {},
   "outputs": [],
   "source": [
    "sensor1 = ConstantSensor(data='This is a sample sentence to check the phrase equality or in this case the words.')\n",
    "sentence['index'] = sensor1\n",
    "sensor2 = JointSensor(forward=lambda : ((1,2,3), ('a', 'b', 'c')))\n",
    "sentence['joint1', 'joint2'] = sensor2"
   ]
  },
  {
   "cell_type": "code",
   "execution_count": 10,
   "metadata": {},
   "outputs": [
    {
     "name": "stdout",
     "output_type": "stream",
     "text": [
      "{'graph': Graph(name='global', what={'concepts': {'pair': Concept(name='pair', what={'relations': {'has_a': [HasA(name='arg1-1', what={'dst': Concept(name='word'),\n",
      " 'src': Concept(name='pair')}),\n",
      "                         HasA(name='arg2', what={'dst': Concept(name='word'),\n",
      " 'src': Concept(name='pair')})]},\n",
      " 'subs': {},\n",
      " 'sup': Graph(name='global')}),\n",
      "              'sentence': Concept(name='sentence', what={'relations': {'contains': [Contains(name='sentence-contains-0-word', what={'dst': Concept(name='word'),\n",
      " 'src': Concept(name='sentence')})],\n",
      "               'has_a': []},\n",
      " 'subs': {'index': Property(name='index', what={'subs': {'constantsensor': ConstantSensor(name='constantsensor', what={'sup': Property(name='index')})},\n",
      " 'sup': Concept(name='sentence')}),\n",
      "          'joint1': Property(name='joint1', what={'subs': {'functionalsensor': FunctionalSensor(name='functionalsensor', what={'sup': Property(name='joint1')})},\n",
      " 'sup': Concept(name='sentence')}),\n",
      "          'joint2': Property(name='joint2', what={'subs': {'functionalsensor-1': FunctionalSensor(name='functionalsensor-1', what={'sup': Property(name='joint2')})},\n",
      " 'sup': Concept(name='sentence')}),\n",
      "          'joint_joint1+joint2': Property(name='joint_joint1+joint2', what={'subs': {'jointsensor': JointSensor(name='jointsensor', what={'sup': Property(name='joint_joint1+joint2')})},\n",
      " 'sup': Concept(name='sentence')})},\n",
      " 'sup': Graph(name='global')}),\n",
      "              'word': Concept(name='word', what={'relations': {'equal': [Equal(name='arg1', what={'dst': Concept(name='word1'),\n",
      " 'src': Concept(name='word')})]},\n",
      " 'subs': {},\n",
      " 'sup': Graph(name='global')}),\n",
      "              'word1': Concept(name='word1', what={'relations': {},\n",
      " 'subs': {},\n",
      " 'sup': Graph(name='global')})},\n",
      " 'subs': {},\n",
      " 'sup': None}), 'Counter_setitem': 4, 'Counter/global/sentence/index/constantsensor': {'This is a sample sentence to check the phrase equality or in this case the words.': {'counter': 1, 'recent': True}}, 'dataNode': [sentence 0], 'global/sentence/index/constantsensor': 'This is a sample sentence to check the phrase equality or in this case the words.', 'DataNodeTime': 0.0032126903533935547, 'Counter/global/sentence/index': {'This is a sample sentence to check the phrase equality or in this case the words.': {'counter': 1, 'recent': True}}, 'global/sentence/index': 'This is a sample sentence to check the phrase equality or in this case the words.', 'Counter/global/sentence/joint_joint1+joint2/jointsensor': {((1, 2, 3), ('a', 'b', 'c')): {'counter': 1, 'recent': True}}, 'global/sentence/joint_joint1+joint2/jointsensor': ((1, 2, 3), ('a', 'b', 'c')), 'Counter/global/sentence/joint_joint1+joint2': {((1, 2, 3), ('a', 'b', 'c')): {'counter': 1, 'recent': True}}, 'global/sentence/joint_joint1+joint2': ((1, 2, 3), ('a', 'b', 'c'))}\n"
     ]
    }
   ],
   "source": [
    "from regr.graph import DataNodeBuilder\n",
    "data_item = DataNodeBuilder({\"graph\": graph})\n",
    "sensor1(data_item)\n",
    "sensor2(data_item)\n",
    "print(data_item)"
   ]
  },
  {
   "cell_type": "code",
   "execution_count": 8,
   "metadata": {},
   "outputs": [
    {
     "name": "stdout",
     "output_type": "stream",
     "text": [
      "in attached\n"
     ]
    }
   ],
   "source": [
    "word['index'] = SampleEdge('index', relation=sentence_con_word, mode=\"forward\")\n",
    "word1['index'] = ConstantSensor(data=['words', 'case', 'quality', 'is'])"
   ]
  },
  {
   "cell_type": "code",
   "execution_count": 9,
   "metadata": {},
   "outputs": [
    {
     "name": "stdout",
     "output_type": "stream",
     "text": [
      "{'graph': Graph(name='global', what={'concepts': {'pair': Concept(name='pair', what={'relations': {'has_a': [HasA(name='arg1-1', what={'dst': Concept(name='word'),\n",
      " 'src': Concept(name='pair')}),\n",
      "                         HasA(name='arg2', what={'dst': Concept(name='word'),\n",
      " 'src': Concept(name='pair')})]},\n",
      " 'subs': {},\n",
      " 'sup': Graph(name='global')}),\n",
      "              'sentence': Concept(name='sentence', what={'relations': {'contains': [Contains(name='sentence-contains-0-word', what={'dst': Concept(name='word'),\n",
      " 'src': Concept(name='sentence')})],\n",
      "               'has_a': []},\n",
      " 'subs': {'index': Property(name='index', what={'subs': {'constantsensor': ConstantSensor(name='constantsensor', what={'sup': Property(name='index')})},\n",
      " 'sup': Concept(name='sentence')})},\n",
      " 'sup': Graph(name='global')}),\n",
      "              'word': Concept(name='word', what={'relations': {'equal': [Equal(name='arg1', what={'dst': Concept(name='word1'),\n",
      " 'src': Concept(name='word')})],\n",
      "               'has_a': []},\n",
      " 'subs': {Property(name='index-1', what={'subs': {'sampleedge': SampleEdge(name='sampleedge', what={'sup': Property(name='index-1')})},\n",
      " 'sup': Concept(name='word')}): Property(name='index-1', what={'subs': {'triggerprefilledsensor': TriggerPrefilledSensor(name='triggerprefilledsensor', what={'sup': Property(name='index-1')})},\n",
      " 'sup': Concept(name='word')}),\n",
      "          'index': Property(name='index-1', what={'subs': {'sampleedge': SampleEdge(name='sampleedge', what={'sup': Property(name='index-1')})},\n",
      " 'sup': Concept(name='word')})},\n",
      " 'sup': Graph(name='global')}),\n",
      "              'word1': Concept(name='word1', what={'relations': {'has_a': []},\n",
      " 'subs': {'index': Property(name='index-2', what={'subs': {'constantsensor-1': ConstantSensor(name='constantsensor-1', what={'sup': Property(name='index-2')})},\n",
      " 'sup': Concept(name='word1')})},\n",
      " 'sup': Graph(name='global')})},\n",
      " 'subs': {},\n",
      " 'sup': None}), 'Counter_setitem': 10, 'Counter/global/sentence/index/constantsensor': {'This is a sample sentence to check the phrase equality or in this case the words.': {'counter': 3, 'recent': True}}, 'dataNode': [sentence 0, word1 0, word1 1, word1 2, word1 3], 'global/sentence/index/constantsensor': 'This is a sample sentence to check the phrase equality or in this case the words.', 'DataNodeTime': 0.006720542907714844, 'Counter/global/sentence/index': {'This is a sample sentence to check the phrase equality or in this case the words.': {'counter': 3, 'recent': True}}, 'global/sentence/index': 'This is a sample sentence to check the phrase equality or in this case the words.', 'Counter/global/word/index/sampleedge': {('This', 'is', 'a', 'sample', 'sentence', 'to', 'check', 'the', 'phrase', 'equality', 'or', 'in', 'this', 'case', 'the', 'words.'): {'counter': 1, 'recent': True}}, 'global/word/index/sampleedge': ['This', 'is', 'a', 'sample', 'sentence', 'to', 'check', 'the', 'phrase', 'equality', 'or', 'in', 'this', 'case', 'the', 'words.'], 'Counter/global/word/index': {('This', 'is', 'a', 'sample', 'sentence', 'to', 'check', 'the', 'phrase', 'equality', 'or', 'in', 'this', 'case', 'the', 'words.'): {'counter': 1, 'recent': True}}, 'global/word/index': ['This', 'is', 'a', 'sample', 'sentence', 'to', 'check', 'the', 'phrase', 'equality', 'or', 'in', 'this', 'case', 'the', 'words.'], 'Counter/global/word1/index/constantsensor-1': {('words', 'case', 'quality', 'is'): {'counter': 1, 'recent': True}}, 'global/word1/index/constantsensor-1': ['words', 'case', 'quality', 'is'], 'Counter/global/word1/index': {('words', 'case', 'quality', 'is'): {'counter': 1, 'recent': True}}, 'global/word1/index': ['words', 'case', 'quality', 'is']}\n"
     ]
    }
   ],
   "source": [
    "for sensor in word['index'].find(Sensor):\n",
    "    sensor(data_item)\n",
    "for sensor in word1['index'].find(Sensor):\n",
    "    sensor(data_item)\n",
    "print(data_item)"
   ]
  },
  {
   "cell_type": "code",
   "execution_count": 10,
   "metadata": {},
   "outputs": [],
   "source": [
    "def makeEqualPairs(current_matches, word, word1):\n",
    "    if word.getAttribute('index') == word1.getAttribute('index'):\n",
    "        return True\n",
    "    else:\n",
    "        return False\n",
    "\n",
    "word['match'] = CandidateEqualSensor('index', word1['index'], forward=makeEqualPairs, relations=[word_equal_word1])"
   ]
  },
  {
   "cell_type": "code",
   "execution_count": 11,
   "metadata": {},
   "outputs": [
    {
     "name": "stdout",
     "output_type": "stream",
     "text": [
      "{'graph': Graph(name='global', what={'concepts': {'pair': Concept(name='pair', what={'relations': {'has_a': [HasA(name='arg1-1', what={'dst': Concept(name='word'),\n",
      " 'src': Concept(name='pair')}),\n",
      "                         HasA(name='arg2', what={'dst': Concept(name='word'),\n",
      " 'src': Concept(name='pair')})]},\n",
      " 'subs': {},\n",
      " 'sup': Graph(name='global')}),\n",
      "              'sentence': Concept(name='sentence', what={'relations': {'contains': [Contains(name='sentence-contains-0-word', what={'dst': Concept(name='word'),\n",
      " 'src': Concept(name='sentence')})],\n",
      "               'has_a': []},\n",
      " 'subs': {'index': Property(name='index', what={'subs': {'constantsensor': ConstantSensor(name='constantsensor', what={'sup': Property(name='index')})},\n",
      " 'sup': Concept(name='sentence')})},\n",
      " 'sup': Graph(name='global')}),\n",
      "              'word': Concept(name='word', what={'relations': {'equal': [Equal(name='arg1', what={'dst': Concept(name='word1'),\n",
      " 'src': Concept(name='word')})],\n",
      "               'has_a': []},\n",
      " 'subs': {Property(name='index-1', what={'subs': {'sampleedge': SampleEdge(name='sampleedge', what={'sup': Property(name='index-1')})},\n",
      " 'sup': Concept(name='word')}): Property(name='index-1', what={'subs': {'triggerprefilledsensor': TriggerPrefilledSensor(name='triggerprefilledsensor', what={'sup': Property(name='index-1')})},\n",
      " 'sup': Concept(name='word')}),\n",
      "          'index': Property(name='index-1', what={'subs': {'sampleedge': SampleEdge(name='sampleedge', what={'sup': Property(name='index-1')})},\n",
      " 'sup': Concept(name='word')}),\n",
      "          'match': Property(name='match', what={'subs': {'candidateequalsensor_Candidate__Equality_word1': CandidateEqualSensor(name='candidateequalsensor_Candidate__Equality_word1', what={'sup': Property(name='match')})},\n",
      " 'sup': Concept(name='word')})},\n",
      " 'sup': Graph(name='global')}),\n",
      "              'word1': Concept(name='word1', what={'relations': {'has_a': []},\n",
      " 'subs': {'index': Property(name='index-2', what={'subs': {'constantsensor-1': ConstantSensor(name='constantsensor-1', what={'sup': Property(name='index-2')})},\n",
      " 'sup': Concept(name='word1')})},\n",
      " 'sup': Graph(name='global')})},\n",
      " 'subs': {},\n",
      " 'sup': None}), 'Counter_setitem': 20, 'Counter/global/sentence/index/constantsensor': {'This is a sample sentence to check the phrase equality or in this case the words.': {'counter': 3, 'recent': True}}, 'dataNode': [sentence 0, word1 0, word1 1, word1 2, word1 3], 'global/sentence/index/constantsensor': 'This is a sample sentence to check the phrase equality or in this case the words.', 'DataNodeTime': 0.008819818496704102, 'Counter/global/sentence/index': {'This is a sample sentence to check the phrase equality or in this case the words.': {'counter': 3, 'recent': True}}, 'global/sentence/index': 'This is a sample sentence to check the phrase equality or in this case the words.', 'Counter/global/word/index/sampleedge': {('This', 'is', 'a', 'sample', 'sentence', 'to', 'check', 'the', 'phrase', 'equality', 'or', 'in', 'this', 'case', 'the', 'words.'): {'counter': 3, 'recent': True}}, 'global/word/index/sampleedge': ['This', 'is', 'a', 'sample', 'sentence', 'to', 'check', 'the', 'phrase', 'equality', 'or', 'in', 'this', 'case', 'the', 'words.'], 'Counter/global/word/index': {('This', 'is', 'a', 'sample', 'sentence', 'to', 'check', 'the', 'phrase', 'equality', 'or', 'in', 'this', 'case', 'the', 'words.'): {'counter': 3, 'recent': True}}, 'global/word/index': ['This', 'is', 'a', 'sample', 'sentence', 'to', 'check', 'the', 'phrase', 'equality', 'or', 'in', 'this', 'case', 'the', 'words.'], 'Counter/global/word1/index/constantsensor-1': {('words', 'case', 'quality', 'is'): {'counter': 3, 'recent': True}}, 'global/word1/index/constantsensor-1': ['words', 'case', 'quality', 'is'], 'Counter/global/word1/index': {('words', 'case', 'quality', 'is'): {'counter': 3, 'recent': True}}, 'global/word1/index': ['words', 'case', 'quality', 'is'], 'Counter/global/word/match/candidateequalsensor_Candidate__Equality_word1': {tensor([[0, 0, 0, 0],\n",
      "        [0, 0, 0, 1],\n",
      "        [0, 0, 0, 0],\n",
      "        [0, 0, 0, 0],\n",
      "        [0, 0, 0, 0],\n",
      "        [0, 0, 0, 0],\n",
      "        [0, 0, 0, 0],\n",
      "        [0, 0, 0, 0],\n",
      "        [0, 0, 0, 0],\n",
      "        [0, 0, 0, 0],\n",
      "        [0, 0, 0, 0],\n",
      "        [0, 0, 0, 0],\n",
      "        [0, 0, 0, 0],\n",
      "        [0, 1, 0, 0],\n",
      "        [0, 0, 0, 0],\n",
      "        [0, 0, 0, 0]], device='cuda:0', dtype=torch.uint8): {'counter': 1, 'recent': True}}, 'global/word/match/candidateequalsensor_Candidate__Equality_word1': tensor([[0, 0, 0, 0],\n",
      "        [0, 0, 0, 1],\n",
      "        [0, 0, 0, 0],\n",
      "        [0, 0, 0, 0],\n",
      "        [0, 0, 0, 0],\n",
      "        [0, 0, 0, 0],\n",
      "        [0, 0, 0, 0],\n",
      "        [0, 0, 0, 0],\n",
      "        [0, 0, 0, 0],\n",
      "        [0, 0, 0, 0],\n",
      "        [0, 0, 0, 0],\n",
      "        [0, 0, 0, 0],\n",
      "        [0, 0, 0, 0],\n",
      "        [0, 1, 0, 0],\n",
      "        [0, 0, 0, 0],\n",
      "        [0, 0, 0, 0]], device='cuda:0', dtype=torch.uint8), 'Counter/global/word/match': {tensor([[0, 0, 0, 0],\n",
      "        [0, 0, 0, 1],\n",
      "        [0, 0, 0, 0],\n",
      "        [0, 0, 0, 0],\n",
      "        [0, 0, 0, 0],\n",
      "        [0, 0, 0, 0],\n",
      "        [0, 0, 0, 0],\n",
      "        [0, 0, 0, 0],\n",
      "        [0, 0, 0, 0],\n",
      "        [0, 0, 0, 0],\n",
      "        [0, 0, 0, 0],\n",
      "        [0, 0, 0, 0],\n",
      "        [0, 0, 0, 0],\n",
      "        [0, 1, 0, 0],\n",
      "        [0, 0, 0, 0],\n",
      "        [0, 0, 0, 0]], device='cuda:0', dtype=torch.uint8): {'counter': 1, 'recent': True}}, 'global/word/match': tensor([[0, 0, 0, 0],\n",
      "        [0, 0, 0, 1],\n",
      "        [0, 0, 0, 0],\n",
      "        [0, 0, 0, 0],\n",
      "        [0, 0, 0, 0],\n",
      "        [0, 0, 0, 0],\n",
      "        [0, 0, 0, 0],\n",
      "        [0, 0, 0, 0],\n",
      "        [0, 0, 0, 0],\n",
      "        [0, 0, 0, 0],\n",
      "        [0, 0, 0, 0],\n",
      "        [0, 0, 0, 0],\n",
      "        [0, 0, 0, 0],\n",
      "        [0, 1, 0, 0],\n",
      "        [0, 0, 0, 0],\n",
      "        [0, 0, 0, 0]], device='cuda:0', dtype=torch.uint8)}\n"
     ]
    }
   ],
   "source": [
    "for sensor in word['match'].find(Sensor):\n",
    "    sensor(data_item)\n",
    "print(data_item)"
   ]
  },
  {
   "cell_type": "code",
   "execution_count": 12,
   "metadata": {},
   "outputs": [],
   "source": [
    "def makeSpans(pairs, word1, word2):\n",
    "    if word1.getInstanceID() != word2.getInstanceID():\n",
    "        return True\n",
    "    else:\n",
    "        return False\n",
    "    \n",
    "pair['index'] = CandidateRelationSensor(relations=[pair_word1, pair_word2], forward=makeSpans)"
   ]
  },
  {
   "cell_type": "code",
   "execution_count": 13,
   "metadata": {},
   "outputs": [
    {
     "name": "stdout",
     "output_type": "stream",
     "text": [
      "{'graph': Graph(name='global', what={'concepts': {'pair': Concept(name='pair', what={'relations': {'has_a': [HasA(name='arg1-1', what={'dst': Concept(name='word'),\n",
      " 'src': Concept(name='pair')}),\n",
      "                         HasA(name='arg2', what={'dst': Concept(name='word'),\n",
      " 'src': Concept(name='pair')})]},\n",
      " 'subs': {'index': Property(name='index-3', what={'subs': {'candidaterelationsensor_Candidate_': CandidateRelationSensor(name='candidaterelationsensor_Candidate_', what={'sup': Property(name='index-3')})},\n",
      " 'sup': Concept(name='pair')})},\n",
      " 'sup': Graph(name='global')}),\n",
      "              'sentence': Concept(name='sentence', what={'relations': {'contains': [Contains(name='sentence-contains-0-word', what={'dst': Concept(name='word'),\n",
      " 'src': Concept(name='sentence')})],\n",
      "               'has_a': []},\n",
      " 'subs': {'index': Property(name='index', what={'subs': {'constantsensor': ConstantSensor(name='constantsensor', what={'sup': Property(name='index')})},\n",
      " 'sup': Concept(name='sentence')})},\n",
      " 'sup': Graph(name='global')}),\n",
      "              'word': Concept(name='word', what={'relations': {'equal': [Equal(name='arg1', what={'dst': Concept(name='word1'),\n",
      " 'src': Concept(name='word')})],\n",
      "               'has_a': []},\n",
      " 'subs': {Property(name='index-1', what={'subs': {'sampleedge': SampleEdge(name='sampleedge', what={'sup': Property(name='index-1')})},\n",
      " 'sup': Concept(name='word')}): Property(name='index-1', what={'subs': {'triggerprefilledsensor': TriggerPrefilledSensor(name='triggerprefilledsensor', what={'sup': Property(name='index-1')})},\n",
      " 'sup': Concept(name='word')}),\n",
      "          'index': Property(name='index-1', what={'subs': {'sampleedge': SampleEdge(name='sampleedge', what={'sup': Property(name='index-1')})},\n",
      " 'sup': Concept(name='word')}),\n",
      "          'match': Property(name='match', what={'subs': {'candidateequalsensor_Candidate__Equality_word1': CandidateEqualSensor(name='candidateequalsensor_Candidate__Equality_word1', what={'sup': Property(name='match')})},\n",
      " 'sup': Concept(name='word')})},\n",
      " 'sup': Graph(name='global')}),\n",
      "              'word1': Concept(name='word1', what={'relations': {'has_a': []},\n",
      " 'subs': {'index': Property(name='index-2', what={'subs': {'constantsensor-1': ConstantSensor(name='constantsensor-1', what={'sup': Property(name='index-2')})},\n",
      " 'sup': Concept(name='word1')})},\n",
      " 'sup': Graph(name='global')})},\n",
      " 'subs': {},\n",
      " 'sup': None}), 'Counter_setitem': 26, 'Counter/global/sentence/index/constantsensor': {'This is a sample sentence to check the phrase equality or in this case the words.': {'counter': 3, 'recent': True}}, 'dataNode': [sentence 0, word1 0, word1 1, word1 2, word1 3], 'global/sentence/index/constantsensor': 'This is a sample sentence to check the phrase equality or in this case the words.', 'DataNodeTime': 0.028319120407104492, 'Counter/global/sentence/index': {'This is a sample sentence to check the phrase equality or in this case the words.': {'counter': 3, 'recent': True}}, 'global/sentence/index': 'This is a sample sentence to check the phrase equality or in this case the words.', 'Counter/global/word/index/sampleedge': {('This', 'is', 'a', 'sample', 'sentence', 'to', 'check', 'the', 'phrase', 'equality', 'or', 'in', 'this', 'case', 'the', 'words.'): {'counter': 5, 'recent': True}}, 'global/word/index/sampleedge': ['This', 'is', 'a', 'sample', 'sentence', 'to', 'check', 'the', 'phrase', 'equality', 'or', 'in', 'this', 'case', 'the', 'words.'], 'Counter/global/word/index': {('This', 'is', 'a', 'sample', 'sentence', 'to', 'check', 'the', 'phrase', 'equality', 'or', 'in', 'this', 'case', 'the', 'words.'): {'counter': 5, 'recent': True}}, 'global/word/index': ['This', 'is', 'a', 'sample', 'sentence', 'to', 'check', 'the', 'phrase', 'equality', 'or', 'in', 'this', 'case', 'the', 'words.'], 'Counter/global/word1/index/constantsensor-1': {('words', 'case', 'quality', 'is'): {'counter': 3, 'recent': True}}, 'global/word1/index/constantsensor-1': ['words', 'case', 'quality', 'is'], 'Counter/global/word1/index': {('words', 'case', 'quality', 'is'): {'counter': 3, 'recent': True}}, 'global/word1/index': ['words', 'case', 'quality', 'is'], 'Counter/global/word/match/candidateequalsensor_Candidate__Equality_word1': {tensor([[0, 0, 0, 0],\n",
      "        [0, 0, 0, 1],\n",
      "        [0, 0, 0, 0],\n",
      "        [0, 0, 0, 0],\n",
      "        [0, 0, 0, 0],\n",
      "        [0, 0, 0, 0],\n",
      "        [0, 0, 0, 0],\n",
      "        [0, 0, 0, 0],\n",
      "        [0, 0, 0, 0],\n",
      "        [0, 0, 0, 0],\n",
      "        [0, 0, 0, 0],\n",
      "        [0, 0, 0, 0],\n",
      "        [0, 0, 0, 0],\n",
      "        [0, 1, 0, 0],\n",
      "        [0, 0, 0, 0],\n",
      "        [0, 0, 0, 0]], device='cuda:0', dtype=torch.uint8): {'counter': 1, 'recent': True}}, 'global/word/match/candidateequalsensor_Candidate__Equality_word1': tensor([[0, 0, 0, 0],\n",
      "        [0, 0, 0, 1],\n",
      "        [0, 0, 0, 0],\n",
      "        [0, 0, 0, 0],\n",
      "        [0, 0, 0, 0],\n",
      "        [0, 0, 0, 0],\n",
      "        [0, 0, 0, 0],\n",
      "        [0, 0, 0, 0],\n",
      "        [0, 0, 0, 0],\n",
      "        [0, 0, 0, 0],\n",
      "        [0, 0, 0, 0],\n",
      "        [0, 0, 0, 0],\n",
      "        [0, 0, 0, 0],\n",
      "        [0, 1, 0, 0],\n",
      "        [0, 0, 0, 0],\n",
      "        [0, 0, 0, 0]], device='cuda:0', dtype=torch.uint8), 'Counter/global/word/match': {tensor([[0, 0, 0, 0],\n",
      "        [0, 0, 0, 1],\n",
      "        [0, 0, 0, 0],\n",
      "        [0, 0, 0, 0],\n",
      "        [0, 0, 0, 0],\n",
      "        [0, 0, 0, 0],\n",
      "        [0, 0, 0, 0],\n",
      "        [0, 0, 0, 0],\n",
      "        [0, 0, 0, 0],\n",
      "        [0, 0, 0, 0],\n",
      "        [0, 0, 0, 0],\n",
      "        [0, 0, 0, 0],\n",
      "        [0, 0, 0, 0],\n",
      "        [0, 1, 0, 0],\n",
      "        [0, 0, 0, 0],\n",
      "        [0, 0, 0, 0]], device='cuda:0', dtype=torch.uint8): {'counter': 1, 'recent': True}}, 'global/word/match': tensor([[0, 0, 0, 0],\n",
      "        [0, 0, 0, 1],\n",
      "        [0, 0, 0, 0],\n",
      "        [0, 0, 0, 0],\n",
      "        [0, 0, 0, 0],\n",
      "        [0, 0, 0, 0],\n",
      "        [0, 0, 0, 0],\n",
      "        [0, 0, 0, 0],\n",
      "        [0, 0, 0, 0],\n",
      "        [0, 0, 0, 0],\n",
      "        [0, 0, 0, 0],\n",
      "        [0, 0, 0, 0],\n",
      "        [0, 0, 0, 0],\n",
      "        [0, 1, 0, 0],\n",
      "        [0, 0, 0, 0],\n",
      "        [0, 0, 0, 0]], device='cuda:0', dtype=torch.uint8), 'Counter/global/pair/index/candidaterelationsensor_Candidate_': {tensor([[0, 1, 1, 1, 1, 1, 1, 1, 1, 1, 1, 1, 1, 1, 1, 1],\n",
      "        [1, 0, 1, 1, 1, 1, 1, 1, 1, 1, 1, 1, 1, 1, 1, 1],\n",
      "        [1, 1, 0, 1, 1, 1, 1, 1, 1, 1, 1, 1, 1, 1, 1, 1],\n",
      "        [1, 1, 1, 0, 1, 1, 1, 1, 1, 1, 1, 1, 1, 1, 1, 1],\n",
      "        [1, 1, 1, 1, 0, 1, 1, 1, 1, 1, 1, 1, 1, 1, 1, 1],\n",
      "        [1, 1, 1, 1, 1, 0, 1, 1, 1, 1, 1, 1, 1, 1, 1, 1],\n",
      "        [1, 1, 1, 1, 1, 1, 0, 1, 1, 1, 1, 1, 1, 1, 1, 1],\n",
      "        [1, 1, 1, 1, 1, 1, 1, 0, 1, 1, 1, 1, 1, 1, 1, 1],\n",
      "        [1, 1, 1, 1, 1, 1, 1, 1, 0, 1, 1, 1, 1, 1, 1, 1],\n",
      "        [1, 1, 1, 1, 1, 1, 1, 1, 1, 0, 1, 1, 1, 1, 1, 1],\n",
      "        [1, 1, 1, 1, 1, 1, 1, 1, 1, 1, 0, 1, 1, 1, 1, 1],\n",
      "        [1, 1, 1, 1, 1, 1, 1, 1, 1, 1, 1, 0, 1, 1, 1, 1],\n",
      "        [1, 1, 1, 1, 1, 1, 1, 1, 1, 1, 1, 1, 0, 1, 1, 1],\n",
      "        [1, 1, 1, 1, 1, 1, 1, 1, 1, 1, 1, 1, 1, 0, 1, 1],\n",
      "        [1, 1, 1, 1, 1, 1, 1, 1, 1, 1, 1, 1, 1, 1, 0, 1],\n",
      "        [1, 1, 1, 1, 1, 1, 1, 1, 1, 1, 1, 1, 1, 1, 1, 0]], device='cuda:0',\n",
      "       dtype=torch.uint8): {'counter': 1, 'recent': True}}, 'global/pair/index/candidaterelationsensor_Candidate_': tensor([[0, 1, 1, 1, 1, 1, 1, 1, 1, 1, 1, 1, 1, 1, 1, 1],\n",
      "        [1, 0, 1, 1, 1, 1, 1, 1, 1, 1, 1, 1, 1, 1, 1, 1],\n",
      "        [1, 1, 0, 1, 1, 1, 1, 1, 1, 1, 1, 1, 1, 1, 1, 1],\n",
      "        [1, 1, 1, 0, 1, 1, 1, 1, 1, 1, 1, 1, 1, 1, 1, 1],\n",
      "        [1, 1, 1, 1, 0, 1, 1, 1, 1, 1, 1, 1, 1, 1, 1, 1],\n",
      "        [1, 1, 1, 1, 1, 0, 1, 1, 1, 1, 1, 1, 1, 1, 1, 1],\n",
      "        [1, 1, 1, 1, 1, 1, 0, 1, 1, 1, 1, 1, 1, 1, 1, 1],\n",
      "        [1, 1, 1, 1, 1, 1, 1, 0, 1, 1, 1, 1, 1, 1, 1, 1],\n",
      "        [1, 1, 1, 1, 1, 1, 1, 1, 0, 1, 1, 1, 1, 1, 1, 1],\n",
      "        [1, 1, 1, 1, 1, 1, 1, 1, 1, 0, 1, 1, 1, 1, 1, 1],\n",
      "        [1, 1, 1, 1, 1, 1, 1, 1, 1, 1, 0, 1, 1, 1, 1, 1],\n",
      "        [1, 1, 1, 1, 1, 1, 1, 1, 1, 1, 1, 0, 1, 1, 1, 1],\n",
      "        [1, 1, 1, 1, 1, 1, 1, 1, 1, 1, 1, 1, 0, 1, 1, 1],\n",
      "        [1, 1, 1, 1, 1, 1, 1, 1, 1, 1, 1, 1, 1, 0, 1, 1],\n",
      "        [1, 1, 1, 1, 1, 1, 1, 1, 1, 1, 1, 1, 1, 1, 0, 1],\n",
      "        [1, 1, 1, 1, 1, 1, 1, 1, 1, 1, 1, 1, 1, 1, 1, 0]], device='cuda:0',\n",
      "       dtype=torch.uint8), 'Counter/global/pair/index': {tensor([[0, 1, 1, 1, 1, 1, 1, 1, 1, 1, 1, 1, 1, 1, 1, 1],\n",
      "        [1, 0, 1, 1, 1, 1, 1, 1, 1, 1, 1, 1, 1, 1, 1, 1],\n",
      "        [1, 1, 0, 1, 1, 1, 1, 1, 1, 1, 1, 1, 1, 1, 1, 1],\n",
      "        [1, 1, 1, 0, 1, 1, 1, 1, 1, 1, 1, 1, 1, 1, 1, 1],\n",
      "        [1, 1, 1, 1, 0, 1, 1, 1, 1, 1, 1, 1, 1, 1, 1, 1],\n",
      "        [1, 1, 1, 1, 1, 0, 1, 1, 1, 1, 1, 1, 1, 1, 1, 1],\n",
      "        [1, 1, 1, 1, 1, 1, 0, 1, 1, 1, 1, 1, 1, 1, 1, 1],\n",
      "        [1, 1, 1, 1, 1, 1, 1, 0, 1, 1, 1, 1, 1, 1, 1, 1],\n",
      "        [1, 1, 1, 1, 1, 1, 1, 1, 0, 1, 1, 1, 1, 1, 1, 1],\n",
      "        [1, 1, 1, 1, 1, 1, 1, 1, 1, 0, 1, 1, 1, 1, 1, 1],\n",
      "        [1, 1, 1, 1, 1, 1, 1, 1, 1, 1, 0, 1, 1, 1, 1, 1],\n",
      "        [1, 1, 1, 1, 1, 1, 1, 1, 1, 1, 1, 0, 1, 1, 1, 1],\n",
      "        [1, 1, 1, 1, 1, 1, 1, 1, 1, 1, 1, 1, 0, 1, 1, 1],\n",
      "        [1, 1, 1, 1, 1, 1, 1, 1, 1, 1, 1, 1, 1, 0, 1, 1],\n",
      "        [1, 1, 1, 1, 1, 1, 1, 1, 1, 1, 1, 1, 1, 1, 0, 1],\n",
      "        [1, 1, 1, 1, 1, 1, 1, 1, 1, 1, 1, 1, 1, 1, 1, 0]], device='cuda:0',\n",
      "       dtype=torch.uint8): {'counter': 1, 'recent': True}}, 'global/pair/index': tensor([[0, 1, 1, 1, 1, 1, 1, 1, 1, 1, 1, 1, 1, 1, 1, 1],\n",
      "        [1, 0, 1, 1, 1, 1, 1, 1, 1, 1, 1, 1, 1, 1, 1, 1],\n",
      "        [1, 1, 0, 1, 1, 1, 1, 1, 1, 1, 1, 1, 1, 1, 1, 1],\n",
      "        [1, 1, 1, 0, 1, 1, 1, 1, 1, 1, 1, 1, 1, 1, 1, 1],\n",
      "        [1, 1, 1, 1, 0, 1, 1, 1, 1, 1, 1, 1, 1, 1, 1, 1],\n",
      "        [1, 1, 1, 1, 1, 0, 1, 1, 1, 1, 1, 1, 1, 1, 1, 1],\n",
      "        [1, 1, 1, 1, 1, 1, 0, 1, 1, 1, 1, 1, 1, 1, 1, 1],\n",
      "        [1, 1, 1, 1, 1, 1, 1, 0, 1, 1, 1, 1, 1, 1, 1, 1],\n",
      "        [1, 1, 1, 1, 1, 1, 1, 1, 0, 1, 1, 1, 1, 1, 1, 1],\n",
      "        [1, 1, 1, 1, 1, 1, 1, 1, 1, 0, 1, 1, 1, 1, 1, 1],\n",
      "        [1, 1, 1, 1, 1, 1, 1, 1, 1, 1, 0, 1, 1, 1, 1, 1],\n",
      "        [1, 1, 1, 1, 1, 1, 1, 1, 1, 1, 1, 0, 1, 1, 1, 1],\n",
      "        [1, 1, 1, 1, 1, 1, 1, 1, 1, 1, 1, 1, 0, 1, 1, 1],\n",
      "        [1, 1, 1, 1, 1, 1, 1, 1, 1, 1, 1, 1, 1, 0, 1, 1],\n",
      "        [1, 1, 1, 1, 1, 1, 1, 1, 1, 1, 1, 1, 1, 1, 0, 1],\n",
      "        [1, 1, 1, 1, 1, 1, 1, 1, 1, 1, 1, 1, 1, 1, 1, 0]], device='cuda:0',\n",
      "       dtype=torch.uint8)}\n"
     ]
    }
   ],
   "source": [
    "for sensor in pair['index'].find(Sensor):\n",
    "    sensor(data_item)\n",
    "print(data_item)"
   ]
  },
  {
   "cell_type": "code",
   "execution_count": null,
   "metadata": {},
   "outputs": [],
   "source": []
  }
 ],
 "metadata": {
  "kernelspec": {
   "display_name": "Python 3",
   "language": "python",
   "name": "python3"
  },
  "language_info": {
   "codemirror_mode": {
    "name": "ipython",
    "version": 3
   },
   "file_extension": ".py",
   "mimetype": "text/x-python",
   "name": "python",
   "nbconvert_exporter": "python",
   "pygments_lexer": "ipython3",
   "version": "3.7.4"
  }
 },
 "nbformat": 4,
 "nbformat_minor": 4
}
