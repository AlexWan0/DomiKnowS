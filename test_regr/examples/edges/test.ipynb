{
 "cells": [
  {
   "cell_type": "code",
   "execution_count": 1,
   "metadata": {},
   "outputs": [
    {
     "name": "stdout",
     "output_type": "stream",
     "text": [
      "/home/hfaghihi/Framework/DomiKnowS/test_regr/examples/edges\n"
     ]
    }
   ],
   "source": [
    "import os\n",
    "print(os.getcwd())\n",
    "# Please change the root to an absolute or relative path to DomiKnowS root.\n",
    "# In case relative path is used, consider the printed `CWD` as current working directory.\n",
    "root = '/home/hfaghihi/Framework/DomiKnowS'"
   ]
  },
  {
   "cell_type": "code",
   "execution_count": 2,
   "metadata": {},
   "outputs": [],
   "source": [
    "import sys\n",
    "sys.path.append(root)\n",
    "from typing import Any"
   ]
  },
  {
   "cell_type": "code",
   "execution_count": 3,
   "metadata": {},
   "outputs": [
    {
     "name": "stdout",
     "output_type": "stream",
     "text": [
      "Log file for dataNode is in: /home/hfaghihi/Framework/DomiKnowS/test_regr/examples/edges/datanode.log\n"
     ]
    }
   ],
   "source": [
    "from sensors import TorchEdgeSensor\n",
    "from regr.sensor.pytorch.sensors import ConstantSensor"
   ]
  },
  {
   "cell_type": "code",
   "execution_count": 4,
   "metadata": {},
   "outputs": [],
   "source": [
    "class SampleEdge(TorchEdgeSensor):\n",
    "    def forward(self, ) -> Any:\n",
    "        return self.inputs[0].split(\" \")"
   ]
  },
  {
   "cell_type": "code",
   "execution_count": 5,
   "metadata": {},
   "outputs": [
    {
     "name": "stderr",
     "output_type": "stream",
     "text": [
      "/home/hfaghihi/Framework/DomiKnowS/test_regr/examples/edges/graph.py:15: UserWarning: Please use OrderedDict rather than dict to prevent unpredictable order of arguments.For this instance, OrderedDict([('arg1', 'word1')]) is used.\n",
      "  (word_equal_word1, ) = word.equal(arg1=word1)\n",
      "/home/hfaghihi/Framework/DomiKnowS/test_regr/examples/edges/graph.py:18: UserWarning: Please use OrderedDict rather than dict to prevent unpredictable order of arguments.For this instance, OrderedDict([('arg1', 'word'), ('arg2', 'word')]) is used.\n",
      "  (pair_word1, pair_word2) = pair.has_a(arg1=word, arg2=word)\n"
     ]
    }
   ],
   "source": [
    "from graph import sentence, word, sentence_con_word\n",
    "from regr.sensor.sensor import Sensor"
   ]
  },
  {
   "cell_type": "code",
   "execution_count": 6,
   "metadata": {},
   "outputs": [],
   "source": [
    "sensor1 = ConstantSensor(data='This is a sample sentence to check the phrase equality or in this case the words.')\n",
    "sentence['index'] = sensor1"
   ]
  },
  {
   "cell_type": "code",
   "execution_count": 7,
   "metadata": {},
   "outputs": [
    {
     "name": "stdout",
     "output_type": "stream",
     "text": [
      "{'global/sentence/index/constantsensor': 'This is a sample sentence to check the phrase equality or in this case the words.', 'global/sentence/index': 'This is a sample sentence to check the phrase equality or in this case the words.'}\n"
     ]
    }
   ],
   "source": [
    "data_item = {}\n",
    "sensor1(data_item)\n",
    "print(data_item)"
   ]
  },
  {
   "cell_type": "code",
   "execution_count": 8,
   "metadata": {},
   "outputs": [
    {
     "name": "stdout",
     "output_type": "stream",
     "text": [
      "in attached\n"
     ]
    }
   ],
   "source": [
    "word['index'] = SampleEdge('index', relation=sentence_con_word, mode=\"forward\")"
   ]
  },
  {
   "cell_type": "code",
   "execution_count": 9,
   "metadata": {},
   "outputs": [
    {
     "name": "stdout",
     "output_type": "stream",
     "text": [
      "{'global/sentence/index/constantsensor': 'This is a sample sentence to check the phrase equality or in this case the words.', 'global/sentence/index': 'This is a sample sentence to check the phrase equality or in this case the words.', 'global/word/index/sampleedge': ['This', 'is', 'a', 'sample', 'sentence', 'to', 'check', 'the', 'phrase', 'equality', 'or', 'in', 'this', 'case', 'the', 'words.'], 'global/word/index': ['This', 'is', 'a', 'sample', 'sentence', 'to', 'check', 'the', 'phrase', 'equality', 'or', 'in', 'this', 'case', 'the', 'words.']}\n"
     ]
    }
   ],
   "source": [
    "for sensor in word['index'].find(Sensor):\n",
    "    sensor(data_item)\n",
    "print(data_item)"
   ]
  },
  {
   "cell_type": "code",
   "execution_count": null,
   "metadata": {},
   "outputs": [],
   "source": []
  }
 ],
 "metadata": {
  "kernelspec": {
   "display_name": "Python 3",
   "language": "python",
   "name": "python3"
  },
  "language_info": {
   "codemirror_mode": {
    "name": "ipython",
    "version": 3
   },
   "file_extension": ".py",
   "mimetype": "text/x-python",
   "name": "python",
   "nbconvert_exporter": "python",
   "pygments_lexer": "ipython3",
   "version": "3.7.4"
  }
 },
 "nbformat": 4,
 "nbformat_minor": 4
}
